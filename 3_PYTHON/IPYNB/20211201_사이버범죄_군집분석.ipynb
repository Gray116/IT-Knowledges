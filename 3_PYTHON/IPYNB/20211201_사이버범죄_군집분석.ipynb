{
 "cells": [
  {
   "cell_type": "markdown",
   "id": "ea2752ed",
   "metadata": {},
   "source": [
    "# 기본 환경설정"
   ]
  },
  {
   "cell_type": "code",
   "execution_count": 1,
   "id": "43c8fa14",
   "metadata": {},
   "outputs": [
    {
     "data": {
      "text/html": [
       "\n",
       "<style>\n",
       "div.Container {width:85% !important;}\n",
       "div.CodeMirror {font-family:맑은고딕; font-size:14pt; line-height : 150%;}\n",
       "div.output_area pre {font-family:맑은고딕; font-size:14pt; line-height : 150%;}\n",
       "div.output_wrapper pre {font-family:맑은고딕; font-size:14pt; line-height : 150%;}\n",
       "div.input {font-family:맑은고딕; font-size:14pt; line-height : 150%;}\n",
       "</style>\n"
      ],
      "text/plain": [
       "<IPython.core.display.HTML object>"
      ]
     },
     "metadata": {},
     "output_type": "display_data"
    }
   ],
   "source": [
    "from IPython.display import display, HTML\n",
    "display(HTML(\"\"\"\n",
    "<style>\n",
    "div.Container {width:85% !important;}\n",
    "div.CodeMirror {font-family:맑은고딕; font-size:14pt; line-height : 150%;}\n",
    "div.output_area pre {font-family:맑은고딕; font-size:14pt; line-height : 150%;}\n",
    "div.output_wrapper pre {font-family:맑은고딕; font-size:14pt; line-height : 150%;}\n",
    "div.input {font-family:맑은고딕; font-size:14pt; line-height : 150%;}\n",
    "</style>\n",
    "\"\"\"))"
   ]
  },
  {
   "cell_type": "code",
   "execution_count": 2,
   "id": "c3532d56",
   "metadata": {},
   "outputs": [],
   "source": [
    "import numpy as np\n",
    "import pandas as pd\n",
    "import matplotlib.pyplot as plt\n",
    "import seaborn as sns\n",
    "import os\n",
    "import warnings\n",
    "\n",
    "warnings.filterwarnings(\"ignore\")\n",
    "\n",
    "# 한글 설정\n",
    "plt.rc('font', family = 'Malgun Gothic')\n",
    "# plt.rc('font', family = 'AppleGothic')\n",
    "plt.rc('axes', unicode_minus = False)\n",
    "\n",
    "%matplotlib inline\n",
    "plt.rcParams['axes.unicode_minus'] = False"
   ]
  },
  {
   "cell_type": "markdown",
   "id": "139e2a9c",
   "metadata": {},
   "source": [
    "# 데이터 불러오기 및 전처리"
   ]
  },
  {
   "cell_type": "code",
   "execution_count": 3,
   "id": "448e4bdd",
   "metadata": {},
   "outputs": [
    {
     "data": {
      "text/html": [
       "<div>\n",
       "<style scoped>\n",
       "    .dataframe tbody tr th:only-of-type {\n",
       "        vertical-align: middle;\n",
       "    }\n",
       "\n",
       "    .dataframe tbody tr th {\n",
       "        vertical-align: top;\n",
       "    }\n",
       "\n",
       "    .dataframe thead th {\n",
       "        text-align: right;\n",
       "    }\n",
       "</style>\n",
       "<table border=\"1\" class=\"dataframe\">\n",
       "  <thead>\n",
       "    <tr style=\"text-align: right;\">\n",
       "      <th></th>\n",
       "      <th>번호</th>\n",
       "      <th>사건명</th>\n",
       "      <th>발생년도\\n(연,월,일)</th>\n",
       "      <th>범죄 대상(단체)</th>\n",
       "      <th>Victim_Type</th>\n",
       "      <th>Victim_Class</th>\n",
       "      <th>산업분류</th>\n",
       "      <th>피해 국가</th>\n",
       "      <th>범죄주체</th>\n",
       "      <th>Criminal_Type</th>\n",
       "      <th>...</th>\n",
       "      <th>Result2</th>\n",
       "      <th>국내적용 법률</th>\n",
       "      <th>국제적용법률</th>\n",
       "      <th>자료형태</th>\n",
       "      <th>자료제목</th>\n",
       "      <th>출처 및 링크</th>\n",
       "      <th>비고</th>\n",
       "      <th>Unnamed: 33</th>\n",
       "      <th>Unnamed: 34</th>\n",
       "      <th>Unnamed: 35</th>\n",
       "    </tr>\n",
       "  </thead>\n",
       "  <tbody>\n",
       "    <tr>\n",
       "      <th>0</th>\n",
       "      <td>-1.0</td>\n",
       "      <td>군 인터넷망과 인트라넷망 (국방망) 해킹사건</td>\n",
       "      <td>2016</td>\n",
       "      <td>군 내부망</td>\n",
       "      <td>정부</td>\n",
       "      <td>국방 및 군사 조직</td>\n",
       "      <td>공공행정, 국방 및 사회보장 행정</td>\n",
       "      <td>한국</td>\n",
       "      <td>북한</td>\n",
       "      <td>정부</td>\n",
       "      <td>...</td>\n",
       "      <td>국가기밀유출</td>\n",
       "      <td>NaN</td>\n",
       "      <td>NaN</td>\n",
       "      <td>보고서,기사</td>\n",
       "      <td>\"사이버공격을 통한 첨단산업비밀 유출 실태 및 대응방안 보고서\", 사이버 공격 실태...</td>\n",
       "      <td>국회정보위원회, 2019년12월, pp.45</td>\n",
       "      <td>IT WORLD, 2016년 12월 7일 입력, 2021년 9월 6일 접속, htt...</td>\n",
       "      <td>NaN</td>\n",
       "      <td>NaN</td>\n",
       "      <td>NaN</td>\n",
       "    </tr>\n",
       "    <tr>\n",
       "      <th>1</th>\n",
       "      <td>0.0</td>\n",
       "      <td>평창 동계올림픽 전산망 해킹사고</td>\n",
       "      <td>2018</td>\n",
       "      <td>IOC, 평창올림픽 당국, 후원 기업 올림픽 파트너</td>\n",
       "      <td>정부</td>\n",
       "      <td>정부기관, 관공서 (전산망), 지재권(백신, 방위산업 등)</td>\n",
       "      <td>공공행정, 국방 및 사회보장 행정</td>\n",
       "      <td>한국</td>\n",
       "      <td>러시아 군 정보기관</td>\n",
       "      <td>정부</td>\n",
       "      <td>...</td>\n",
       "      <td>업무 중단(시스템 마비, 악성코드 감염)</td>\n",
       "      <td>NaN</td>\n",
       "      <td>NaN</td>\n",
       "      <td>보고서,기사</td>\n",
       "      <td>\"사이버공격을 통한 첨단산업비밀 유출 실태 및 대응방안 보고서\", 사이버 공격 실태...</td>\n",
       "      <td>국회정보위원회, 2019년12월, pp.45</td>\n",
       "      <td>보안뉴스, 2018년 5월 3일 입력, 2021년 9월 6일 접속, https://...</td>\n",
       "      <td>NaN</td>\n",
       "      <td>NaN</td>\n",
       "      <td>NaN</td>\n",
       "    </tr>\n",
       "    <tr>\n",
       "      <th>2</th>\n",
       "      <td>1.0</td>\n",
       "      <td>미국 데이비스 베스 원전, 감시계통에 바이러스 감염</td>\n",
       "      <td>2003</td>\n",
       "      <td>미국 데이비스 베스 원전</td>\n",
       "      <td>정부</td>\n",
       "      <td>관공서 제어시스템(발전소, 오 폐수, 전력 SCADA 등), 국가기반시설</td>\n",
       "      <td>전기, 가스, 증기 및 공기 조절 공급업</td>\n",
       "      <td>미국</td>\n",
       "      <td>미상</td>\n",
       "      <td>미상</td>\n",
       "      <td>...</td>\n",
       "      <td>업무 중단(시스템 마비, 악성코드 감염)</td>\n",
       "      <td>NaN</td>\n",
       "      <td>NaN</td>\n",
       "      <td>보고서</td>\n",
       "      <td>해외 원전 사이버공격 피해 사례와 교훈, \"전세계 원전, 해킹위험 부인하지만 실제로...</td>\n",
       "      <td>KEMRI, 2015, p.5~6, https://home.kepco.co.kr/k...</td>\n",
       "      <td>연합뉴스, 2015년 10월 5일 입력, 2021년 9월 6일 접속, https:/...</td>\n",
       "      <td>NaN</td>\n",
       "      <td>NaN</td>\n",
       "      <td>NaN</td>\n",
       "    </tr>\n",
       "    <tr>\n",
       "      <th>3</th>\n",
       "      <td>2.0</td>\n",
       "      <td>오하이오주 Davie-Besse 원자력발전소 시스템 마비</td>\n",
       "      <td>2003.01</td>\n",
       "      <td>원자력발전소 Davie-Besse</td>\n",
       "      <td>정부</td>\n",
       "      <td>관공서 제어시스템(발전소, 오 폐수, 전력 SCADA 등), 국가기반시설</td>\n",
       "      <td>전기, 가스, 증기 및 공기 조절 공급업</td>\n",
       "      <td>미국</td>\n",
       "      <td>미상</td>\n",
       "      <td>미상</td>\n",
       "      <td>...</td>\n",
       "      <td>업무 중단(시스템 마비, 악성코드 감염)</td>\n",
       "      <td>NaN</td>\n",
       "      <td>NaN</td>\n",
       "      <td>보고서</td>\n",
       "      <td>국내외 정보통신기반시설 침해사고 사례</td>\n",
       "      <td>국정원, 2021국가정보보호백서, pp.99~100</td>\n",
       "      <td>NaN</td>\n",
       "      <td>NaN</td>\n",
       "      <td>NaN</td>\n",
       "      <td>NaN</td>\n",
       "    </tr>\n",
       "    <tr>\n",
       "      <th>4</th>\n",
       "      <td>3.0</td>\n",
       "      <td>1·25 인터넷 대란</td>\n",
       "      <td>2003.01.25</td>\n",
       "      <td>KT</td>\n",
       "      <td>기업</td>\n",
       "      <td>방송국, 언론사, 통신사</td>\n",
       "      <td>정보통신업</td>\n",
       "      <td>한국</td>\n",
       "      <td>미상</td>\n",
       "      <td>미상</td>\n",
       "      <td>...</td>\n",
       "      <td>업무 중단(시스템 마비, 악성코드 감염)</td>\n",
       "      <td>NaN</td>\n",
       "      <td>NaN</td>\n",
       "      <td>웹사이트</td>\n",
       "      <td>대한민국의 정보 보안 사고 목록</td>\n",
       "      <td>위키백과, https://ko.wikipedia.org/wiki/%EB%8C%80%...</td>\n",
       "      <td>https://namu.wiki/w/1.25%20%EC%9D%B8%ED%84%B0%...</td>\n",
       "      <td>NaN</td>\n",
       "      <td>NaN</td>\n",
       "      <td>NaN</td>\n",
       "    </tr>\n",
       "  </tbody>\n",
       "</table>\n",
       "<p>5 rows × 36 columns</p>\n",
       "</div>"
      ],
      "text/plain": [
       "    번호                              사건명 발생년도\\n(연,월,일)  \\\n",
       "0 -1.0         군 인터넷망과 인트라넷망 (국방망) 해킹사건          2016   \n",
       "1  0.0                평창 동계올림픽 전산망 해킹사고          2018   \n",
       "2  1.0     미국 데이비스 베스 원전, 감시계통에 바이러스 감염          2003   \n",
       "3  2.0  오하이오주 Davie-Besse 원자력발전소 시스템 마비       2003.01   \n",
       "4  3.0                      1·25 인터넷 대란    2003.01.25   \n",
       "\n",
       "                      범죄 대상(단체) Victim_Type  \\\n",
       "0                         군 내부망          정부   \n",
       "1  IOC, 평창올림픽 당국, 후원 기업 올림픽 파트너          정부   \n",
       "2                 미국 데이비스 베스 원전          정부   \n",
       "3            원자력발전소 Davie-Besse          정부   \n",
       "4                            KT          기업   \n",
       "\n",
       "                               Victim_Class                    산업분류 피해 국가  \\\n",
       "0                                국방 및 군사 조직      공공행정, 국방 및 사회보장 행정    한국   \n",
       "1          정부기관, 관공서 (전산망), 지재권(백신, 방위산업 등)      공공행정, 국방 및 사회보장 행정    한국   \n",
       "2  관공서 제어시스템(발전소, 오 폐수, 전력 SCADA 등), 국가기반시설  전기, 가스, 증기 및 공기 조절 공급업    미국   \n",
       "3  관공서 제어시스템(발전소, 오 폐수, 전력 SCADA 등), 국가기반시설  전기, 가스, 증기 및 공기 조절 공급업    미국   \n",
       "4                             방송국, 언론사, 통신사                   정보통신업    한국   \n",
       "\n",
       "         범죄주체 Criminal_Type  ...                 Result2 국내적용 법률 국제적용법률  \\\n",
       "0          북한            정부  ...                  국가기밀유출     NaN    NaN   \n",
       "1  러시아 군 정보기관            정부  ...  업무 중단(시스템 마비, 악성코드 감염)     NaN    NaN   \n",
       "2          미상            미상  ...  업무 중단(시스템 마비, 악성코드 감염)     NaN    NaN   \n",
       "3          미상            미상  ...  업무 중단(시스템 마비, 악성코드 감염)     NaN    NaN   \n",
       "4          미상            미상  ...  업무 중단(시스템 마비, 악성코드 감염)     NaN    NaN   \n",
       "\n",
       "     자료형태                                               자료제목  \\\n",
       "0  보고서,기사  \"사이버공격을 통한 첨단산업비밀 유출 실태 및 대응방안 보고서\", 사이버 공격 실태...   \n",
       "1  보고서,기사  \"사이버공격을 통한 첨단산업비밀 유출 실태 및 대응방안 보고서\", 사이버 공격 실태...   \n",
       "2     보고서  해외 원전 사이버공격 피해 사례와 교훈, \"전세계 원전, 해킹위험 부인하지만 실제로...   \n",
       "3     보고서                               국내외 정보통신기반시설 침해사고 사례   \n",
       "4    웹사이트                                  대한민국의 정보 보안 사고 목록   \n",
       "\n",
       "                                             출처 및 링크  \\\n",
       "0                           국회정보위원회, 2019년12월, pp.45   \n",
       "1                           국회정보위원회, 2019년12월, pp.45   \n",
       "2  KEMRI, 2015, p.5~6, https://home.kepco.co.kr/k...   \n",
       "3                       국정원, 2021국가정보보호백서, pp.99~100   \n",
       "4  위키백과, https://ko.wikipedia.org/wiki/%EB%8C%80%...   \n",
       "\n",
       "                                                  비고 Unnamed: 33 Unnamed: 34  \\\n",
       "0  IT WORLD, 2016년 12월 7일 입력, 2021년 9월 6일 접속, htt...         NaN         NaN   \n",
       "1  보안뉴스, 2018년 5월 3일 입력, 2021년 9월 6일 접속, https://...         NaN         NaN   \n",
       "2  연합뉴스, 2015년 10월 5일 입력, 2021년 9월 6일 접속, https:/...         NaN         NaN   \n",
       "3                                                NaN         NaN         NaN   \n",
       "4  https://namu.wiki/w/1.25%20%EC%9D%B8%ED%84%B0%...         NaN         NaN   \n",
       "\n",
       "  Unnamed: 35  \n",
       "0         NaN  \n",
       "1         NaN  \n",
       "2         NaN  \n",
       "3         NaN  \n",
       "4         NaN  \n",
       "\n",
       "[5 rows x 36 columns]"
      ]
     },
     "execution_count": 3,
     "metadata": {},
     "output_type": "execute_result"
    }
   ],
   "source": [
    "df = pd.read_csv(r\"C:\\Users\\swkim\\OneDrive\\바탕 화면\\2. 팀\\6. 사이버범죄 연구\\211202_cyberdata.csv\", encoding = \"CP949\")\n",
    "\n",
    "df.head()"
   ]
  },
  {
   "cell_type": "code",
   "execution_count": 4,
   "id": "3fa77c7d",
   "metadata": {
    "scrolled": false
   },
   "outputs": [
    {
     "name": "stdout",
     "output_type": "stream",
     "text": [
      "<class 'pandas.core.frame.DataFrame'>\n",
      "RangeIndex: 2003 entries, 0 to 2002\n",
      "Data columns (total 36 columns):\n",
      " #   Column         Non-Null Count  Dtype  \n",
      "---  ------         --------------  -----  \n",
      " 0   번호             1027 non-null   float64\n",
      " 1   사건명            1013 non-null   object \n",
      " 2   발생년도\n",
      "(연,월,일)   948 non-null    object \n",
      " 3   범죄 대상(단체)      988 non-null    object \n",
      " 4   Victim_Type    1027 non-null   object \n",
      " 5   Victim_Class   1027 non-null   object \n",
      " 6   산업분류           1027 non-null   object \n",
      " 7   피해 국가          1027 non-null   object \n",
      " 8   범죄주체           1027 non-null   object \n",
      " 9   Criminal_Type  1027 non-null   object \n",
      " 10  범죄주체\n",
      "관련국가      1027 non-null   object \n",
      " 11  SLCAs/PLCAs    1027 non-null   object \n",
      " 12  내부/외부 범죄 여부    874 non-null    object \n",
      " 13  In_or_Out      1027 non-null   object \n",
      " 14  동기(목적)         779 non-null    object \n",
      " 15  Purpose        1027 non-null   object \n",
      " 16  Purpose2       1027 non-null   object \n",
      " 17  공격 유형(대분류)     546 non-null    object \n",
      " 18  사용된 기술(중분류)    706 non-null    object \n",
      " 19  Attack_Skill   1027 non-null   object \n",
      " 20  Attack_Skill2  1027 non-null   object \n",
      " 21  준비기간\n",
      "(공격기간)    65 non-null     object \n",
      " 22  해커수준\n",
      "(등급)      8 non-null      object \n",
      " 23  자산피해규모         204 non-null    object \n",
      " 24  결과종합           932 non-null    object \n",
      " 25  Result         1027 non-null   object \n",
      " 26  Result2        1027 non-null   object \n",
      " 27  국내적용 법률        118 non-null    object \n",
      " 28  국제적용법률         10 non-null     object \n",
      " 29  자료형태           1024 non-null   object \n",
      " 30  자료제목           1027 non-null   object \n",
      " 31  출처 및 링크        1027 non-null   object \n",
      " 32  비고             207 non-null    object \n",
      " 33  Unnamed: 33    0 non-null      float64\n",
      " 34  Unnamed: 34    0 non-null      float64\n",
      " 35  Unnamed: 35    0 non-null      float64\n",
      "dtypes: float64(4), object(32)\n",
      "memory usage: 563.5+ KB\n"
     ]
    }
   ],
   "source": [
    "df.info()"
   ]
  },
  {
   "cell_type": "code",
   "execution_count": 5,
   "id": "15650472",
   "metadata": {
    "scrolled": false
   },
   "outputs": [
    {
     "data": {
      "text/html": [
       "<div>\n",
       "<style scoped>\n",
       "    .dataframe tbody tr th:only-of-type {\n",
       "        vertical-align: middle;\n",
       "    }\n",
       "\n",
       "    .dataframe tbody tr th {\n",
       "        vertical-align: top;\n",
       "    }\n",
       "\n",
       "    .dataframe thead th {\n",
       "        text-align: right;\n",
       "    }\n",
       "</style>\n",
       "<table border=\"1\" class=\"dataframe\">\n",
       "  <thead>\n",
       "    <tr style=\"text-align: right;\">\n",
       "      <th></th>\n",
       "      <th>번호</th>\n",
       "      <th>Unnamed: 33</th>\n",
       "      <th>Unnamed: 34</th>\n",
       "      <th>Unnamed: 35</th>\n",
       "    </tr>\n",
       "  </thead>\n",
       "  <tbody>\n",
       "    <tr>\n",
       "      <th>count</th>\n",
       "      <td>1027.000000</td>\n",
       "      <td>0.0</td>\n",
       "      <td>0.0</td>\n",
       "      <td>0.0</td>\n",
       "    </tr>\n",
       "    <tr>\n",
       "      <th>mean</th>\n",
       "      <td>512.545278</td>\n",
       "      <td>NaN</td>\n",
       "      <td>NaN</td>\n",
       "      <td>NaN</td>\n",
       "    </tr>\n",
       "    <tr>\n",
       "      <th>std</th>\n",
       "      <td>297.301497</td>\n",
       "      <td>NaN</td>\n",
       "      <td>NaN</td>\n",
       "      <td>NaN</td>\n",
       "    </tr>\n",
       "    <tr>\n",
       "      <th>min</th>\n",
       "      <td>-1.000000</td>\n",
       "      <td>NaN</td>\n",
       "      <td>NaN</td>\n",
       "      <td>NaN</td>\n",
       "    </tr>\n",
       "    <tr>\n",
       "      <th>25%</th>\n",
       "      <td>255.500000</td>\n",
       "      <td>NaN</td>\n",
       "      <td>NaN</td>\n",
       "      <td>NaN</td>\n",
       "    </tr>\n",
       "    <tr>\n",
       "      <th>50%</th>\n",
       "      <td>512.000000</td>\n",
       "      <td>NaN</td>\n",
       "      <td>NaN</td>\n",
       "      <td>NaN</td>\n",
       "    </tr>\n",
       "    <tr>\n",
       "      <th>75%</th>\n",
       "      <td>770.500000</td>\n",
       "      <td>NaN</td>\n",
       "      <td>NaN</td>\n",
       "      <td>NaN</td>\n",
       "    </tr>\n",
       "    <tr>\n",
       "      <th>max</th>\n",
       "      <td>1027.000000</td>\n",
       "      <td>NaN</td>\n",
       "      <td>NaN</td>\n",
       "      <td>NaN</td>\n",
       "    </tr>\n",
       "  </tbody>\n",
       "</table>\n",
       "</div>"
      ],
      "text/plain": [
       "                번호  Unnamed: 33  Unnamed: 34  Unnamed: 35\n",
       "count  1027.000000          0.0          0.0          0.0\n",
       "mean    512.545278          NaN          NaN          NaN\n",
       "std     297.301497          NaN          NaN          NaN\n",
       "min      -1.000000          NaN          NaN          NaN\n",
       "25%     255.500000          NaN          NaN          NaN\n",
       "50%     512.000000          NaN          NaN          NaN\n",
       "75%     770.500000          NaN          NaN          NaN\n",
       "max    1027.000000          NaN          NaN          NaN"
      ]
     },
     "execution_count": 5,
     "metadata": {},
     "output_type": "execute_result"
    }
   ],
   "source": [
    "df.describe()"
   ]
  },
  {
   "cell_type": "code",
   "execution_count": 6,
   "id": "df2eb769",
   "metadata": {},
   "outputs": [
    {
     "data": {
      "text/plain": [
       "Index(['번호', '사건명', '발생년도\\n(연,월,일)', '범죄 대상(단체)', 'Victim_Type',\n",
       "       'Victim_Class', '산업분류', '피해 국가', '범죄주체', 'Criminal_Type', '범죄주체\\n관련국가',\n",
       "       'SLCAs/PLCAs', '내부/외부 범죄 여부', 'In_or_Out', '동기(목적)', 'Purpose',\n",
       "       'Purpose2', '공격 유형(대분류)', '사용된 기술(중분류)', 'Attack_Skill',\n",
       "       'Attack_Skill2', '준비기간\\n(공격기간)', '해커수준\\n(등급)', '자산피해규모', '결과종합',\n",
       "       'Result', 'Result2', '국내적용 법률', '국제적용법률', '자료형태', '자료제목', '출처 및 링크',\n",
       "       '비고', 'Unnamed: 33', 'Unnamed: 34', 'Unnamed: 35'],\n",
       "      dtype='object')"
      ]
     },
     "execution_count": 6,
     "metadata": {},
     "output_type": "execute_result"
    }
   ],
   "source": [
    "df.columns"
   ]
  },
  {
   "cell_type": "code",
   "execution_count": 7,
   "id": "4480624e",
   "metadata": {},
   "outputs": [
    {
     "data": {
      "text/plain": [
       "Index(['번호', '사건명', '발생년도\\n(연,월,일)', '범죄 대상(단체)', 'Victim_Type',\n",
       "       'Victim_Class', '산업분류', '피해 국가', '범죄주체', 'Criminal_Type', '범죄주체\\n관련국가',\n",
       "       'SLCAs/PLCAs', '내부/외부 범죄 여부', 'In_or_Out', '동기(목적)', 'Purpose',\n",
       "       'Purpose2', '공격 유형(대분류)', '사용된 기술(중분류)', 'Attack_Skill',\n",
       "       'Attack_Skill2', '준비기간\\n(공격기간)', '해커수준\\n(등급)', '자산피해규모', '결과종합',\n",
       "       'Result', 'Result2', '국내적용 법률', '국제적용법률', '자료형태', '자료제목', '출처 및 링크',\n",
       "       '비고'],\n",
       "      dtype='object')"
      ]
     },
     "execution_count": 7,
     "metadata": {},
     "output_type": "execute_result"
    }
   ],
   "source": [
    "df.drop(columns = ['Unnamed: 33', 'Unnamed: 34', 'Unnamed: 35'], inplace=True)\n",
    "\n",
    "df.columns"
   ]
  },
  {
   "cell_type": "code",
   "execution_count": 8,
   "id": "539cfa1b",
   "metadata": {},
   "outputs": [
    {
     "data": {
      "text/html": [
       "<div>\n",
       "<style scoped>\n",
       "    .dataframe tbody tr th:only-of-type {\n",
       "        vertical-align: middle;\n",
       "    }\n",
       "\n",
       "    .dataframe tbody tr th {\n",
       "        vertical-align: top;\n",
       "    }\n",
       "\n",
       "    .dataframe thead th {\n",
       "        text-align: right;\n",
       "    }\n",
       "</style>\n",
       "<table border=\"1\" class=\"dataframe\">\n",
       "  <thead>\n",
       "    <tr style=\"text-align: right;\">\n",
       "      <th></th>\n",
       "      <th>Purpose2</th>\n",
       "      <th>Attack_Skill2</th>\n",
       "      <th>Result2</th>\n",
       "    </tr>\n",
       "  </thead>\n",
       "  <tbody>\n",
       "    <tr>\n",
       "      <th>0</th>\n",
       "      <td>군, 국가핵심시설에 관한 정보탈취</td>\n",
       "      <td>악성코드</td>\n",
       "      <td>국가기밀유출</td>\n",
       "    </tr>\n",
       "    <tr>\n",
       "      <th>1</th>\n",
       "      <td>국가기능 마비, 국가안보 위협</td>\n",
       "      <td>APT</td>\n",
       "      <td>업무 중단(시스템 마비, 악성코드 감염)</td>\n",
       "    </tr>\n",
       "    <tr>\n",
       "      <th>2</th>\n",
       "      <td>국가기능 마비, 국가안보 위협</td>\n",
       "      <td>악성코드</td>\n",
       "      <td>업무 중단(시스템 마비, 악성코드 감염)</td>\n",
       "    </tr>\n",
       "    <tr>\n",
       "      <th>3</th>\n",
       "      <td>국가기능 마비, 국가안보 위협</td>\n",
       "      <td>악성코드</td>\n",
       "      <td>업무 중단(시스템 마비, 악성코드 감염)</td>\n",
       "    </tr>\n",
       "    <tr>\n",
       "      <th>4</th>\n",
       "      <td>국가기능 마비, 국가안보 위협</td>\n",
       "      <td>DDoS</td>\n",
       "      <td>업무 중단(시스템 마비, 악성코드 감염)</td>\n",
       "    </tr>\n",
       "  </tbody>\n",
       "</table>\n",
       "</div>"
      ],
      "text/plain": [
       "             Purpose2 Attack_Skill2                 Result2\n",
       "0  군, 국가핵심시설에 관한 정보탈취          악성코드                  국가기밀유출\n",
       "1    국가기능 마비, 국가안보 위협           APT  업무 중단(시스템 마비, 악성코드 감염)\n",
       "2    국가기능 마비, 국가안보 위협          악성코드  업무 중단(시스템 마비, 악성코드 감염)\n",
       "3    국가기능 마비, 국가안보 위협          악성코드  업무 중단(시스템 마비, 악성코드 감염)\n",
       "4    국가기능 마비, 국가안보 위협          DDoS  업무 중단(시스템 마비, 악성코드 감염)"
      ]
     },
     "execution_count": 8,
     "metadata": {},
     "output_type": "execute_result"
    }
   ],
   "source": [
    "df = df.loc[:,['Purpose2', 'Attack_Skill2', 'Result2']]\n",
    "\n",
    "df.head()"
   ]
  },
  {
   "cell_type": "code",
   "execution_count": 9,
   "id": "51f11868",
   "metadata": {},
   "outputs": [
    {
     "data": {
      "text/html": [
       "<div>\n",
       "<style scoped>\n",
       "    .dataframe tbody tr th:only-of-type {\n",
       "        vertical-align: middle;\n",
       "    }\n",
       "\n",
       "    .dataframe tbody tr th {\n",
       "        vertical-align: top;\n",
       "    }\n",
       "\n",
       "    .dataframe thead th {\n",
       "        text-align: right;\n",
       "    }\n",
       "</style>\n",
       "<table border=\"1\" class=\"dataframe\">\n",
       "  <thead>\n",
       "    <tr style=\"text-align: right;\">\n",
       "      <th></th>\n",
       "      <th>Purpose</th>\n",
       "      <th>Attack_Skill</th>\n",
       "      <th>Result</th>\n",
       "    </tr>\n",
       "  </thead>\n",
       "  <tbody>\n",
       "    <tr>\n",
       "      <th>0</th>\n",
       "      <td>군, 국가핵심시설에 관한 정보탈취</td>\n",
       "      <td>악성코드</td>\n",
       "      <td>국가기밀유출</td>\n",
       "    </tr>\n",
       "    <tr>\n",
       "      <th>1</th>\n",
       "      <td>국가기능 마비, 국가안보 위협</td>\n",
       "      <td>APT</td>\n",
       "      <td>업무 중단(시스템 마비, 악성코드 감염)</td>\n",
       "    </tr>\n",
       "    <tr>\n",
       "      <th>2</th>\n",
       "      <td>국가기능 마비, 국가안보 위협</td>\n",
       "      <td>악성코드</td>\n",
       "      <td>업무 중단(시스템 마비, 악성코드 감염)</td>\n",
       "    </tr>\n",
       "    <tr>\n",
       "      <th>3</th>\n",
       "      <td>국가기능 마비, 국가안보 위협</td>\n",
       "      <td>악성코드</td>\n",
       "      <td>업무 중단(시스템 마비, 악성코드 감염)</td>\n",
       "    </tr>\n",
       "    <tr>\n",
       "      <th>4</th>\n",
       "      <td>국가기능 마비, 국가안보 위협</td>\n",
       "      <td>DDoS</td>\n",
       "      <td>업무 중단(시스템 마비, 악성코드 감염)</td>\n",
       "    </tr>\n",
       "  </tbody>\n",
       "</table>\n",
       "</div>"
      ],
      "text/plain": [
       "              Purpose Attack_Skill                  Result\n",
       "0  군, 국가핵심시설에 관한 정보탈취         악성코드                  국가기밀유출\n",
       "1    국가기능 마비, 국가안보 위협          APT  업무 중단(시스템 마비, 악성코드 감염)\n",
       "2    국가기능 마비, 국가안보 위협         악성코드  업무 중단(시스템 마비, 악성코드 감염)\n",
       "3    국가기능 마비, 국가안보 위협         악성코드  업무 중단(시스템 마비, 악성코드 감염)\n",
       "4    국가기능 마비, 국가안보 위협         DDoS  업무 중단(시스템 마비, 악성코드 감염)"
      ]
     },
     "execution_count": 9,
     "metadata": {},
     "output_type": "execute_result"
    }
   ],
   "source": [
    "df.rename(columns={'Purpose2' : 'Purpose', 'Attack_Skill2' : 'Attack_Skill', 'Result2': 'Result'}, inplace=True)\n",
    "\n",
    "df.head()"
   ]
  },
  {
   "cell_type": "code",
   "execution_count": 10,
   "id": "29226566",
   "metadata": {},
   "outputs": [],
   "source": [
    "# 범주형 데이터이므로 원핫인코딩 or 라벨인코딩을 진행해야 할 것 같다\n",
    "# 군집분석은 비지도학습이므로 특정한 기준이 없다\n",
    "# 군집분석은 평가의 기준을 정하는 것이 가장 중요한 과제이다.\n",
    "# 데이터를 각각의 군집으로 묶어서 최대한 자연스러운 그룹을 찾는 기법\n",
    "# K-MODES 알고리즘을 사용해야 할 것 같다."
   ]
  },
  {
   "cell_type": "code",
   "execution_count": 10,
   "id": "d7eaca83",
   "metadata": {},
   "outputs": [],
   "source": [
    "# df['Victim_Class'].value_counts()"
   ]
  },
  {
   "cell_type": "code",
   "execution_count": 11,
   "id": "f6885698",
   "metadata": {
    "scrolled": false
   },
   "outputs": [
    {
     "data": {
      "text/plain": [
       "금전적 이득                595\n",
       "군, 국가핵심시설에 관한 정보탈취    108\n",
       "정치적 목적달성, 종교적 목적       67\n",
       "분노표출                   58\n",
       "국가기능 마비, 국가안보 위협       56\n",
       "개인정보획득                 48\n",
       "실력과시, 우월감, 영웅심         34\n",
       "기술탈취                   19\n",
       "미상                     16\n",
       "경쟁에서 우위선점              15\n",
       "사고                     11\n",
       "Name: Purpose, dtype: int64"
      ]
     },
     "execution_count": 11,
     "metadata": {},
     "output_type": "execute_result"
    }
   ],
   "source": [
    "df['Purpose'].value_counts()"
   ]
  },
  {
   "cell_type": "code",
   "execution_count": 12,
   "id": "7822d4a1",
   "metadata": {},
   "outputs": [
    {
     "data": {
      "text/plain": [
       "해킹                   376\n",
       "악성코드                 300\n",
       "명예훼손, 스토킹, 음란물 유포     87\n",
       "사기, 도박                78\n",
       "권한 오남용, 계정 도용         66\n",
       "APT                   38\n",
       "DDoS                  27\n",
       "시스템 침해, 부주의           23\n",
       "개인정보 침해               18\n",
       "저작권 침해                14\n",
       "Name: Attack_Skill, dtype: int64"
      ]
     },
     "execution_count": 12,
     "metadata": {},
     "output_type": "execute_result"
    }
   ],
   "source": [
    "df['Attack_Skill'].value_counts()"
   ]
  },
  {
   "cell_type": "code",
   "execution_count": 13,
   "id": "2ccb61ab",
   "metadata": {},
   "outputs": [
    {
     "data": {
      "text/plain": [
       "금전 손실                     238\n",
       "개인정보 유출                   222\n",
       "정신적 피해                     90\n",
       "국가기밀유출                     87\n",
       "데이터 손실(파괴, 변조 등)           86\n",
       "업무 중단(시스템 마비, 악성코드 감염)     77\n",
       "신뢰하락                       70\n",
       "산업기술 유출                    63\n",
       "침입시도                       56\n",
       "사회불안                       38\n",
       "Name: Result, dtype: int64"
      ]
     },
     "execution_count": 13,
     "metadata": {},
     "output_type": "execute_result"
    }
   ],
   "source": [
    "df['Result'].value_counts()"
   ]
  },
  {
   "cell_type": "code",
   "execution_count": 14,
   "id": "f10d51dd",
   "metadata": {},
   "outputs": [
    {
     "data": {
      "text/plain": [
       "<AxesSubplot:>"
      ]
     },
     "execution_count": 14,
     "metadata": {},
     "output_type": "execute_result"
    },
    {
     "data": {
      "image/png": "[encoded data removed]",
      "text/plain": [
       "<Figure size 1800x720 with 2 Axes>"
      ]
     },
     "metadata": {
      "needs_background": "light"
     },
     "output_type": "display_data"
    }
   ],
   "source": [
    "import missingno as msno\n",
    "\n",
    "msno.matrix(df)"
   ]
  },
  {
   "cell_type": "code",
   "execution_count": 15,
   "id": "8190be78",
   "metadata": {},
   "outputs": [],
   "source": [
    "df.dropna(axis=0, inplace=True)"
   ]
  },
  {
   "cell_type": "code",
   "execution_count": 16,
   "id": "0f2c0238",
   "metadata": {},
   "outputs": [
    {
     "data": {
      "text/plain": [
       "Purpose  Attack_Skill  Result\n",
       "False    False         False     1027\n",
       "dtype: int64"
      ]
     },
     "execution_count": 16,
     "metadata": {},
     "output_type": "execute_result"
    }
   ],
   "source": [
    "df.isnull().value_counts()"
   ]
  },
  {
   "cell_type": "code",
   "execution_count": 17,
   "id": "8f295db5",
   "metadata": {},
   "outputs": [
    {
     "data": {
      "text/plain": [
       "<AxesSubplot:>"
      ]
     },
     "execution_count": 17,
     "metadata": {},
     "output_type": "execute_result"
    },
    {
     "data": {
      "image/png": "[encoded data removed]",
      "text/plain": [
       "<Figure size 1800x720 with 2 Axes>"
      ]
     },
     "metadata": {
      "needs_background": "light"
     },
     "output_type": "display_data"
    }
   ],
   "source": [
    "msno.matrix(df)"
   ]
  },
  {
   "cell_type": "code",
   "execution_count": 18,
   "id": "56f88046",
   "metadata": {},
   "outputs": [
    {
     "name": "stdout",
     "output_type": "stream",
     "text": [
      "<class 'pandas.core.frame.DataFrame'>\n",
      "Int64Index: 1027 entries, 0 to 1026\n",
      "Data columns (total 3 columns):\n",
      " #   Column        Non-Null Count  Dtype \n",
      "---  ------        --------------  ----- \n",
      " 0   Purpose       1027 non-null   object\n",
      " 1   Attack_Skill  1027 non-null   object\n",
      " 2   Result        1027 non-null   object\n",
      "dtypes: object(3)\n",
      "memory usage: 32.1+ KB\n"
     ]
    }
   ],
   "source": [
    "df.info()"
   ]
  },
  {
   "cell_type": "code",
   "execution_count": 19,
   "id": "d5c21f98",
   "metadata": {},
   "outputs": [],
   "source": [
    "df.drop(df[df['Purpose'] == '미상'].index, inplace=True)"
   ]
  },
  {
   "cell_type": "code",
   "execution_count": 20,
   "id": "4f256f06",
   "metadata": {},
   "outputs": [
    {
     "data": {
      "text/html": [
       "<div>\n",
       "<style scoped>\n",
       "    .dataframe tbody tr th:only-of-type {\n",
       "        vertical-align: middle;\n",
       "    }\n",
       "\n",
       "    .dataframe tbody tr th {\n",
       "        vertical-align: top;\n",
       "    }\n",
       "\n",
       "    .dataframe thead th {\n",
       "        text-align: right;\n",
       "    }\n",
       "</style>\n",
       "<table border=\"1\" class=\"dataframe\">\n",
       "  <thead>\n",
       "    <tr style=\"text-align: right;\">\n",
       "      <th></th>\n",
       "      <th>Purpose</th>\n",
       "      <th>Attack_Skill</th>\n",
       "      <th>Result</th>\n",
       "    </tr>\n",
       "  </thead>\n",
       "  <tbody>\n",
       "    <tr>\n",
       "      <th>0</th>\n",
       "      <td>군, 국가핵심시설에 관한 정보탈취</td>\n",
       "      <td>악성코드</td>\n",
       "      <td>국가기밀유출</td>\n",
       "    </tr>\n",
       "    <tr>\n",
       "      <th>1</th>\n",
       "      <td>국가기능 마비, 국가안보 위협</td>\n",
       "      <td>APT</td>\n",
       "      <td>업무 중단(시스템 마비, 악성코드 감염)</td>\n",
       "    </tr>\n",
       "    <tr>\n",
       "      <th>2</th>\n",
       "      <td>국가기능 마비, 국가안보 위협</td>\n",
       "      <td>악성코드</td>\n",
       "      <td>업무 중단(시스템 마비, 악성코드 감염)</td>\n",
       "    </tr>\n",
       "    <tr>\n",
       "      <th>3</th>\n",
       "      <td>국가기능 마비, 국가안보 위협</td>\n",
       "      <td>악성코드</td>\n",
       "      <td>업무 중단(시스템 마비, 악성코드 감염)</td>\n",
       "    </tr>\n",
       "    <tr>\n",
       "      <th>4</th>\n",
       "      <td>국가기능 마비, 국가안보 위협</td>\n",
       "      <td>DDoS</td>\n",
       "      <td>업무 중단(시스템 마비, 악성코드 감염)</td>\n",
       "    </tr>\n",
       "    <tr>\n",
       "      <th>...</th>\n",
       "      <td>...</td>\n",
       "      <td>...</td>\n",
       "      <td>...</td>\n",
       "    </tr>\n",
       "    <tr>\n",
       "      <th>1006</th>\n",
       "      <td>금전적 이득</td>\n",
       "      <td>해킹</td>\n",
       "      <td>개인정보 유출</td>\n",
       "    </tr>\n",
       "    <tr>\n",
       "      <th>1007</th>\n",
       "      <td>금전적 이득</td>\n",
       "      <td>해킹</td>\n",
       "      <td>개인정보 유출</td>\n",
       "    </tr>\n",
       "    <tr>\n",
       "      <th>1008</th>\n",
       "      <td>금전적 이득</td>\n",
       "      <td>해킹</td>\n",
       "      <td>개인정보 유출</td>\n",
       "    </tr>\n",
       "    <tr>\n",
       "      <th>1009</th>\n",
       "      <td>금전적 이득</td>\n",
       "      <td>해킹</td>\n",
       "      <td>산업기술 유출</td>\n",
       "    </tr>\n",
       "    <tr>\n",
       "      <th>1010</th>\n",
       "      <td>군, 국가핵심시설에 관한 정보탈취</td>\n",
       "      <td>해킹</td>\n",
       "      <td>침입시도</td>\n",
       "    </tr>\n",
       "  </tbody>\n",
       "</table>\n",
       "<p>1011 rows × 3 columns</p>\n",
       "</div>"
      ],
      "text/plain": [
       "                 Purpose Attack_Skill                  Result\n",
       "0     군, 국가핵심시설에 관한 정보탈취         악성코드                  국가기밀유출\n",
       "1       국가기능 마비, 국가안보 위협          APT  업무 중단(시스템 마비, 악성코드 감염)\n",
       "2       국가기능 마비, 국가안보 위협         악성코드  업무 중단(시스템 마비, 악성코드 감염)\n",
       "3       국가기능 마비, 국가안보 위협         악성코드  업무 중단(시스템 마비, 악성코드 감염)\n",
       "4       국가기능 마비, 국가안보 위협         DDoS  업무 중단(시스템 마비, 악성코드 감염)\n",
       "...                  ...          ...                     ...\n",
       "1006              금전적 이득           해킹                 개인정보 유출\n",
       "1007              금전적 이득           해킹                 개인정보 유출\n",
       "1008              금전적 이득           해킹                 개인정보 유출\n",
       "1009              금전적 이득           해킹                 산업기술 유출\n",
       "1010  군, 국가핵심시설에 관한 정보탈취           해킹                    침입시도\n",
       "\n",
       "[1011 rows x 3 columns]"
      ]
     },
     "execution_count": 20,
     "metadata": {},
     "output_type": "execute_result"
    }
   ],
   "source": [
    "# index 새로 생성\n",
    "df.reset_index(drop=True, inplace=True)\n",
    "\n",
    "df"
   ]
  },
  {
   "cell_type": "code",
   "execution_count": 21,
   "id": "d4d946bf",
   "metadata": {
    "scrolled": true
   },
   "outputs": [
    {
     "data": {
      "text/plain": [
       "Purpose         0.0\n",
       "Attack_Skill    0.0\n",
       "Result          0.0\n",
       "dtype: float64"
      ]
     },
     "execution_count": 21,
     "metadata": {},
     "output_type": "execute_result"
    }
   ],
   "source": [
    "# Null 값 확인\n",
    "# 데이터 깨끗함\n",
    "\n",
    "df.isnull().sum() * 100 / df.shape[0]"
   ]
  },
  {
   "cell_type": "markdown",
   "id": "4ec0e14f",
   "metadata": {},
   "source": [
    "# K-Modes 군집분석"
   ]
  },
  {
   "cell_type": "code",
   "execution_count": 22,
   "id": "3865a31f",
   "metadata": {},
   "outputs": [
    {
     "data": {
      "text/html": [
       "<div>\n",
       "<style scoped>\n",
       "    .dataframe tbody tr th:only-of-type {\n",
       "        vertical-align: middle;\n",
       "    }\n",
       "\n",
       "    .dataframe tbody tr th {\n",
       "        vertical-align: top;\n",
       "    }\n",
       "\n",
       "    .dataframe thead th {\n",
       "        text-align: right;\n",
       "    }\n",
       "</style>\n",
       "<table border=\"1\" class=\"dataframe\">\n",
       "  <thead>\n",
       "    <tr style=\"text-align: right;\">\n",
       "      <th></th>\n",
       "      <th>Purpose</th>\n",
       "      <th>Attack_Skill</th>\n",
       "      <th>Result</th>\n",
       "    </tr>\n",
       "  </thead>\n",
       "  <tbody>\n",
       "    <tr>\n",
       "      <th>0</th>\n",
       "      <td>군, 국가핵심시설에 관한 정보탈취</td>\n",
       "      <td>악성코드</td>\n",
       "      <td>국가기밀유출</td>\n",
       "    </tr>\n",
       "    <tr>\n",
       "      <th>1</th>\n",
       "      <td>국가기능 마비, 국가안보 위협</td>\n",
       "      <td>APT</td>\n",
       "      <td>업무 중단(시스템 마비, 악성코드 감염)</td>\n",
       "    </tr>\n",
       "    <tr>\n",
       "      <th>2</th>\n",
       "      <td>국가기능 마비, 국가안보 위협</td>\n",
       "      <td>악성코드</td>\n",
       "      <td>업무 중단(시스템 마비, 악성코드 감염)</td>\n",
       "    </tr>\n",
       "    <tr>\n",
       "      <th>3</th>\n",
       "      <td>국가기능 마비, 국가안보 위협</td>\n",
       "      <td>악성코드</td>\n",
       "      <td>업무 중단(시스템 마비, 악성코드 감염)</td>\n",
       "    </tr>\n",
       "    <tr>\n",
       "      <th>4</th>\n",
       "      <td>국가기능 마비, 국가안보 위협</td>\n",
       "      <td>DDoS</td>\n",
       "      <td>업무 중단(시스템 마비, 악성코드 감염)</td>\n",
       "    </tr>\n",
       "  </tbody>\n",
       "</table>\n",
       "</div>"
      ],
      "text/plain": [
       "              Purpose Attack_Skill                  Result\n",
       "0  군, 국가핵심시설에 관한 정보탈취         악성코드                  국가기밀유출\n",
       "1    국가기능 마비, 국가안보 위협          APT  업무 중단(시스템 마비, 악성코드 감염)\n",
       "2    국가기능 마비, 국가안보 위협         악성코드  업무 중단(시스템 마비, 악성코드 감염)\n",
       "3    국가기능 마비, 국가안보 위협         악성코드  업무 중단(시스템 마비, 악성코드 감염)\n",
       "4    국가기능 마비, 국가안보 위협         DDoS  업무 중단(시스템 마비, 악성코드 감염)"
      ]
     },
     "execution_count": 22,
     "metadata": {},
     "output_type": "execute_result"
    }
   ],
   "source": [
    "df_copy = df.copy()\n",
    "\n",
    "df_copy.head()"
   ]
  },
  {
   "cell_type": "code",
   "execution_count": 52,
   "id": "950dfa90",
   "metadata": {},
   "outputs": [
    {
     "data": {
      "text/html": [
       "<div>\n",
       "<style scoped>\n",
       "    .dataframe tbody tr th:only-of-type {\n",
       "        vertical-align: middle;\n",
       "    }\n",
       "\n",
       "    .dataframe tbody tr th {\n",
       "        vertical-align: top;\n",
       "    }\n",
       "\n",
       "    .dataframe thead th {\n",
       "        text-align: right;\n",
       "    }\n",
       "</style>\n",
       "<table border=\"1\" class=\"dataframe\">\n",
       "  <thead>\n",
       "    <tr style=\"text-align: right;\">\n",
       "      <th></th>\n",
       "      <th>index</th>\n",
       "      <th>Purpose</th>\n",
       "      <th>Attack_Skill</th>\n",
       "      <th>Result</th>\n",
       "    </tr>\n",
       "  </thead>\n",
       "  <tbody>\n",
       "    <tr>\n",
       "      <th>0</th>\n",
       "      <td>0</td>\n",
       "      <td>3</td>\n",
       "      <td>7</td>\n",
       "      <td>1</td>\n",
       "    </tr>\n",
       "    <tr>\n",
       "      <th>1</th>\n",
       "      <td>1</td>\n",
       "      <td>2</td>\n",
       "      <td>0</td>\n",
       "      <td>7</td>\n",
       "    </tr>\n",
       "    <tr>\n",
       "      <th>2</th>\n",
       "      <td>2</td>\n",
       "      <td>2</td>\n",
       "      <td>7</td>\n",
       "      <td>7</td>\n",
       "    </tr>\n",
       "    <tr>\n",
       "      <th>3</th>\n",
       "      <td>3</td>\n",
       "      <td>2</td>\n",
       "      <td>7</td>\n",
       "      <td>7</td>\n",
       "    </tr>\n",
       "    <tr>\n",
       "      <th>4</th>\n",
       "      <td>4</td>\n",
       "      <td>2</td>\n",
       "      <td>1</td>\n",
       "      <td>7</td>\n",
       "    </tr>\n",
       "  </tbody>\n",
       "</table>\n",
       "</div>"
      ],
      "text/plain": [
       "   index  Purpose  Attack_Skill  Result\n",
       "0      0        3             7       1\n",
       "1      1        2             0       7\n",
       "2      2        2             7       7\n",
       "3      3        2             7       7\n",
       "4      4        2             1       7"
      ]
     },
     "execution_count": 52,
     "metadata": {},
     "output_type": "execute_result"
    }
   ],
   "source": [
    "# 라벨인코딩을 통해 전부 변경\n",
    "from sklearn import preprocessing\n",
    "lE = preprocessing.LabelEncoder()\n",
    "\n",
    "df = df.apply(lE.fit_transform)\n",
    "df.head()"
   ]
  },
  {
   "cell_type": "code",
   "execution_count": 24,
   "id": "09a105d4",
   "metadata": {},
   "outputs": [],
   "source": [
    "from kmodes.kmodes import KModes"
   ]
  },
  {
   "cell_type": "code",
   "execution_count": 25,
   "id": "3df77e9a",
   "metadata": {},
   "outputs": [
    {
     "name": "stdout",
     "output_type": "stream",
     "text": [
      "Init: initializing centroids\n",
      "Init: initializing clusters\n",
      "Starting iterations...\n",
      "Run 1, iteration: 1/100, moves: 0, cost: 1535.0\n"
     ]
    }
   ],
   "source": [
    "kM_cao = KModes(n_clusters=2, init = 'Cao', n_init=1, verbose=1)\n",
    "fitClusters_cao = kM_cao.fit_predict(df)"
   ]
  },
  {
   "cell_type": "code",
   "execution_count": 26,
   "id": "36b9be8b",
   "metadata": {},
   "outputs": [
    {
     "data": {
      "text/plain": [
       "array([1, 0, 1, ..., 0, 0, 0], dtype=uint16)"
      ]
     },
     "execution_count": 26,
     "metadata": {},
     "output_type": "execute_result"
    }
   ],
   "source": [
    "fitClusters_cao"
   ]
  },
  {
   "cell_type": "code",
   "execution_count": 27,
   "id": "69add8fd",
   "metadata": {},
   "outputs": [],
   "source": [
    "clusterCentroidDf = pd.DataFrame(kM_cao.cluster_centroids_)\n",
    "clusterCentroidDf.columns = df.columns"
   ]
  },
  {
   "cell_type": "code",
   "execution_count": 28,
   "id": "028b1cfe",
   "metadata": {},
   "outputs": [
    {
     "data": {
      "text/html": [
       "<div>\n",
       "<style scoped>\n",
       "    .dataframe tbody tr th:only-of-type {\n",
       "        vertical-align: middle;\n",
       "    }\n",
       "\n",
       "    .dataframe tbody tr th {\n",
       "        vertical-align: top;\n",
       "    }\n",
       "\n",
       "    .dataframe thead th {\n",
       "        text-align: right;\n",
       "    }\n",
       "</style>\n",
       "<table border=\"1\" class=\"dataframe\">\n",
       "  <thead>\n",
       "    <tr style=\"text-align: right;\">\n",
       "      <th></th>\n",
       "      <th>Purpose</th>\n",
       "      <th>Attack_Skill</th>\n",
       "      <th>Result</th>\n",
       "    </tr>\n",
       "  </thead>\n",
       "  <tbody>\n",
       "    <tr>\n",
       "      <th>0</th>\n",
       "      <td>4</td>\n",
       "      <td>9</td>\n",
       "      <td>2</td>\n",
       "    </tr>\n",
       "    <tr>\n",
       "      <th>1</th>\n",
       "      <td>4</td>\n",
       "      <td>7</td>\n",
       "      <td>0</td>\n",
       "    </tr>\n",
       "  </tbody>\n",
       "</table>\n",
       "</div>"
      ],
      "text/plain": [
       "   Purpose  Attack_Skill  Result\n",
       "0        4             9       2\n",
       "1        4             7       0"
      ]
     },
     "execution_count": 28,
     "metadata": {},
     "output_type": "execute_result"
    }
   ],
   "source": [
    "clusterCentroidDf"
   ]
  },
  {
   "cell_type": "code",
   "execution_count": 29,
   "id": "af82e7d3",
   "metadata": {},
   "outputs": [
    {
     "name": "stdout",
     "output_type": "stream",
     "text": [
      "Init: initializing centroids\n",
      "Init: initializing clusters\n",
      "Starting iterations...\n",
      "Run 1, iteration: 1/100, moves: 17, cost: 1646.0\n"
     ]
    }
   ],
   "source": [
    "kM_huang = KModes(n_clusters=2, init='Huang', n_init=1, verbose=1)\n",
    "fitClusters_huang = kM_huang.fit_predict(df)"
   ]
  },
  {
   "cell_type": "code",
   "execution_count": 30,
   "id": "f3d6366b",
   "metadata": {},
   "outputs": [
    {
     "data": {
      "text/plain": [
       "array([0, 0, 0, ..., 0, 0, 0], dtype=uint16)"
      ]
     },
     "execution_count": 30,
     "metadata": {},
     "output_type": "execute_result"
    }
   ],
   "source": [
    "fitClusters_huang"
   ]
  },
  {
   "cell_type": "code",
   "execution_count": 31,
   "id": "d5afacdf",
   "metadata": {},
   "outputs": [
    {
     "name": "stdout",
     "output_type": "stream",
     "text": [
      "Init: initializing centroids\n",
      "Init: initializing clusters\n",
      "Starting iterations...\n",
      "Run 1, iteration: 1/100, moves: 0, cost: 1834.0\n",
      "Init: initializing centroids\n",
      "Init: initializing clusters\n",
      "Starting iterations...\n",
      "Run 1, iteration: 1/100, moves: 0, cost: 1535.0\n",
      "Init: initializing centroids\n",
      "Init: initializing clusters\n",
      "Starting iterations...\n",
      "Run 1, iteration: 1/100, moves: 16, cost: 1350.0\n",
      "Init: initializing centroids\n",
      "Init: initializing clusters\n",
      "Starting iterations...\n",
      "Run 1, iteration: 1/100, moves: 16, cost: 1280.0\n"
     ]
    }
   ],
   "source": [
    "cost = []\n",
    "\n",
    "for num_clusters in list(range(1,5)):\n",
    "    kmode = KModes(n_clusters=num_clusters, init='Cao', n_init=1, verbose=1)\n",
    "    kmode.fit_predict(df)\n",
    "    cost.append(kmode.cost_)"
   ]
  },
  {
   "cell_type": "code",
   "execution_count": 32,
   "id": "dbd261ec",
   "metadata": {},
   "outputs": [
    {
     "data": {
      "text/plain": [
       "[1834.0, 1535.0, 1350.0, 1280.0]"
      ]
     },
     "execution_count": 32,
     "metadata": {},
     "output_type": "execute_result"
    }
   ],
   "source": [
    "cost"
   ]
  },
  {
   "cell_type": "code",
   "execution_count": 33,
   "id": "3ee25abb",
   "metadata": {},
   "outputs": [
    {
     "data": {
      "text/plain": [
       "[<matplotlib.lines.Line2D at 0x25b7bee82c8>]"
      ]
     },
     "execution_count": 33,
     "metadata": {},
     "output_type": "execute_result"
    },
    {
     "data": {
      "image/png": "[encoded data removed]",
      "text/plain": [
       "<Figure size 432x288 with 1 Axes>"
      ]
     },
     "metadata": {
      "needs_background": "light"
     },
     "output_type": "display_data"
    }
   ],
   "source": [
    "y = np.array([i for i in range(1,5,1)])\n",
    "\n",
    "plt.plot(y,cost)"
   ]
  },
  {
   "cell_type": "code",
   "execution_count": 59,
   "id": "b0180e69",
   "metadata": {},
   "outputs": [
    {
     "name": "stdout",
     "output_type": "stream",
     "text": [
      "Initialization method and algorithm are deterministic. Setting n_init to 1.\n",
      "Init: initializing centroids\n",
      "Init: initializing clusters\n",
      "Starting iterations...\n",
      "Run 1, iteration: 1/100, moves: 0, cost: 1535.0\n"
     ]
    }
   ],
   "source": [
    "## Choosing K=3\n",
    "kM_cao = KModes(n_clusters=2, init = \"Cao\", n_init = 5, verbose=1)\n",
    "fitClusters_cao = kM_cao.fit_predict(df)"
   ]
  },
  {
   "cell_type": "code",
   "execution_count": 60,
   "id": "d51bbef8",
   "metadata": {},
   "outputs": [
    {
     "data": {
      "text/plain": [
       "array([1, 0, 1, ..., 0, 0, 0], dtype=uint16)"
      ]
     },
     "execution_count": 60,
     "metadata": {},
     "output_type": "execute_result"
    }
   ],
   "source": [
    "fitClusters_cao"
   ]
  },
  {
   "cell_type": "code",
   "execution_count": 36,
   "id": "347af6ec",
   "metadata": {},
   "outputs": [],
   "source": [
    "df = df_copy.reset_index()"
   ]
  },
  {
   "cell_type": "code",
   "execution_count": 37,
   "id": "9738335e",
   "metadata": {},
   "outputs": [],
   "source": [
    "clustersDf = pd.DataFrame(fitClusters_cao)\n",
    "clustersDf.columns = ['cluster_predicted']\n",
    "\n",
    "combinedDf = pd.concat([df, clustersDf], axis = 1).reset_index()\n",
    "combinedDf = combinedDf.drop(['index', 'level_0'], axis = 1)"
   ]
  },
  {
   "cell_type": "code",
   "execution_count": 61,
   "id": "e7e4049c",
   "metadata": {},
   "outputs": [
    {
     "data": {
      "text/html": [
       "<div>\n",
       "<style scoped>\n",
       "    .dataframe tbody tr th:only-of-type {\n",
       "        vertical-align: middle;\n",
       "    }\n",
       "\n",
       "    .dataframe tbody tr th {\n",
       "        vertical-align: top;\n",
       "    }\n",
       "\n",
       "    .dataframe thead th {\n",
       "        text-align: right;\n",
       "    }\n",
       "</style>\n",
       "<table border=\"1\" class=\"dataframe\">\n",
       "  <thead>\n",
       "    <tr style=\"text-align: right;\">\n",
       "      <th></th>\n",
       "      <th>Purpose</th>\n",
       "      <th>Attack_Skill</th>\n",
       "      <th>Result</th>\n",
       "      <th>cluster_predicted</th>\n",
       "    </tr>\n",
       "  </thead>\n",
       "  <tbody>\n",
       "    <tr>\n",
       "      <th>0</th>\n",
       "      <td>군, 국가핵심시설에 관한 정보탈취</td>\n",
       "      <td>악성코드</td>\n",
       "      <td>국가기밀유출</td>\n",
       "      <td>1</td>\n",
       "    </tr>\n",
       "    <tr>\n",
       "      <th>1</th>\n",
       "      <td>국가기능 마비, 국가안보 위협</td>\n",
       "      <td>APT</td>\n",
       "      <td>업무 중단(시스템 마비, 악성코드 감염)</td>\n",
       "      <td>0</td>\n",
       "    </tr>\n",
       "    <tr>\n",
       "      <th>2</th>\n",
       "      <td>국가기능 마비, 국가안보 위협</td>\n",
       "      <td>악성코드</td>\n",
       "      <td>업무 중단(시스템 마비, 악성코드 감염)</td>\n",
       "      <td>1</td>\n",
       "    </tr>\n",
       "    <tr>\n",
       "      <th>3</th>\n",
       "      <td>국가기능 마비, 국가안보 위협</td>\n",
       "      <td>악성코드</td>\n",
       "      <td>업무 중단(시스템 마비, 악성코드 감염)</td>\n",
       "      <td>1</td>\n",
       "    </tr>\n",
       "    <tr>\n",
       "      <th>4</th>\n",
       "      <td>국가기능 마비, 국가안보 위협</td>\n",
       "      <td>DDoS</td>\n",
       "      <td>업무 중단(시스템 마비, 악성코드 감염)</td>\n",
       "      <td>0</td>\n",
       "    </tr>\n",
       "  </tbody>\n",
       "</table>\n",
       "</div>"
      ],
      "text/plain": [
       "              Purpose Attack_Skill                  Result  cluster_predicted\n",
       "0  군, 국가핵심시설에 관한 정보탈취         악성코드                  국가기밀유출                  1\n",
       "1    국가기능 마비, 국가안보 위협          APT  업무 중단(시스템 마비, 악성코드 감염)                  0\n",
       "2    국가기능 마비, 국가안보 위협         악성코드  업무 중단(시스템 마비, 악성코드 감염)                  1\n",
       "3    국가기능 마비, 국가안보 위협         악성코드  업무 중단(시스템 마비, 악성코드 감염)                  1\n",
       "4    국가기능 마비, 국가안보 위협         DDoS  업무 중단(시스템 마비, 악성코드 감염)                  0"
      ]
     },
     "execution_count": 61,
     "metadata": {},
     "output_type": "execute_result"
    }
   ],
   "source": [
    "combinedDf.head()"
   ]
  },
  {
   "cell_type": "code",
   "execution_count": 62,
   "id": "7ddca935",
   "metadata": {},
   "outputs": [],
   "source": [
    "cluster_0 = combinedDf[combinedDf['cluster_predicted'] == 0]\n",
    "cluster_1 = combinedDf[combinedDf['cluster_predicted'] == 1]\n",
    "# cluster_2 = combinedDf[combinedDf['cluster_predicted'] == 2]"
   ]
  },
  {
   "cell_type": "code",
   "execution_count": 63,
   "id": "9219f9bf",
   "metadata": {},
   "outputs": [
    {
     "name": "stdout",
     "output_type": "stream",
     "text": [
      "<class 'pandas.core.frame.DataFrame'>\n",
      "Int64Index: 654 entries, 1 to 1010\n",
      "Data columns (total 4 columns):\n",
      " #   Column             Non-Null Count  Dtype \n",
      "---  ------             --------------  ----- \n",
      " 0   Purpose            654 non-null    object\n",
      " 1   Attack_Skill       654 non-null    object\n",
      " 2   Result             654 non-null    object\n",
      " 3   cluster_predicted  654 non-null    uint16\n",
      "dtypes: object(3), uint16(1)\n",
      "memory usage: 21.7+ KB\n"
     ]
    }
   ],
   "source": [
    "cluster_0.info()"
   ]
  },
  {
   "cell_type": "code",
   "execution_count": 64,
   "id": "e4f546a8",
   "metadata": {},
   "outputs": [
    {
     "data": {
      "text/html": [
       "<div>\n",
       "<style scoped>\n",
       "    .dataframe tbody tr th:only-of-type {\n",
       "        vertical-align: middle;\n",
       "    }\n",
       "\n",
       "    .dataframe tbody tr th {\n",
       "        vertical-align: top;\n",
       "    }\n",
       "\n",
       "    .dataframe thead th {\n",
       "        text-align: right;\n",
       "    }\n",
       "</style>\n",
       "<table border=\"1\" class=\"dataframe\">\n",
       "  <thead>\n",
       "    <tr style=\"text-align: right;\">\n",
       "      <th></th>\n",
       "      <th>Purpose</th>\n",
       "      <th>Attack_Skill</th>\n",
       "      <th>Result</th>\n",
       "      <th>cluster_predicted</th>\n",
       "    </tr>\n",
       "  </thead>\n",
       "  <tbody>\n",
       "    <tr>\n",
       "      <th>1</th>\n",
       "      <td>국가기능 마비, 국가안보 위협</td>\n",
       "      <td>APT</td>\n",
       "      <td>업무 중단(시스템 마비, 악성코드 감염)</td>\n",
       "      <td>0</td>\n",
       "    </tr>\n",
       "    <tr>\n",
       "      <th>4</th>\n",
       "      <td>국가기능 마비, 국가안보 위협</td>\n",
       "      <td>DDoS</td>\n",
       "      <td>업무 중단(시스템 마비, 악성코드 감염)</td>\n",
       "      <td>0</td>\n",
       "    </tr>\n",
       "    <tr>\n",
       "      <th>6</th>\n",
       "      <td>금전적 이득</td>\n",
       "      <td>악성코드</td>\n",
       "      <td>금전 손실</td>\n",
       "      <td>0</td>\n",
       "    </tr>\n",
       "    <tr>\n",
       "      <th>7</th>\n",
       "      <td>금전적 이득</td>\n",
       "      <td>사기, 도박</td>\n",
       "      <td>사회불안</td>\n",
       "      <td>0</td>\n",
       "    </tr>\n",
       "    <tr>\n",
       "      <th>8</th>\n",
       "      <td>금전적 이득</td>\n",
       "      <td>사기, 도박</td>\n",
       "      <td>사회불안</td>\n",
       "      <td>0</td>\n",
       "    </tr>\n",
       "    <tr>\n",
       "      <th>11</th>\n",
       "      <td>금전적 이득</td>\n",
       "      <td>사기, 도박</td>\n",
       "      <td>사회불안</td>\n",
       "      <td>0</td>\n",
       "    </tr>\n",
       "    <tr>\n",
       "      <th>13</th>\n",
       "      <td>경쟁에서 우위선점</td>\n",
       "      <td>해킹</td>\n",
       "      <td>금전 손실</td>\n",
       "      <td>0</td>\n",
       "    </tr>\n",
       "    <tr>\n",
       "      <th>15</th>\n",
       "      <td>국가기능 마비, 국가안보 위협</td>\n",
       "      <td>DDoS</td>\n",
       "      <td>업무 중단(시스템 마비, 악성코드 감염)</td>\n",
       "      <td>0</td>\n",
       "    </tr>\n",
       "    <tr>\n",
       "      <th>16</th>\n",
       "      <td>분노표출</td>\n",
       "      <td>악성코드</td>\n",
       "      <td>금전 손실</td>\n",
       "      <td>0</td>\n",
       "    </tr>\n",
       "    <tr>\n",
       "      <th>17</th>\n",
       "      <td>금전적 이득</td>\n",
       "      <td>사기, 도박</td>\n",
       "      <td>사회불안</td>\n",
       "      <td>0</td>\n",
       "    </tr>\n",
       "  </tbody>\n",
       "</table>\n",
       "</div>"
      ],
      "text/plain": [
       "             Purpose Attack_Skill                  Result  cluster_predicted\n",
       "1   국가기능 마비, 국가안보 위협          APT  업무 중단(시스템 마비, 악성코드 감염)                  0\n",
       "4   국가기능 마비, 국가안보 위협         DDoS  업무 중단(시스템 마비, 악성코드 감염)                  0\n",
       "6             금전적 이득         악성코드                   금전 손실                  0\n",
       "7             금전적 이득       사기, 도박                    사회불안                  0\n",
       "8             금전적 이득       사기, 도박                    사회불안                  0\n",
       "11            금전적 이득       사기, 도박                    사회불안                  0\n",
       "13         경쟁에서 우위선점           해킹                   금전 손실                  0\n",
       "15  국가기능 마비, 국가안보 위협         DDoS  업무 중단(시스템 마비, 악성코드 감염)                  0\n",
       "16              분노표출         악성코드                   금전 손실                  0\n",
       "17            금전적 이득       사기, 도박                    사회불안                  0"
      ]
     },
     "execution_count": 64,
     "metadata": {},
     "output_type": "execute_result"
    }
   ],
   "source": [
    "cluster_0.head(10)"
   ]
  },
  {
   "cell_type": "code",
   "execution_count": 65,
   "id": "83a8ecaa",
   "metadata": {},
   "outputs": [
    {
     "name": "stdout",
     "output_type": "stream",
     "text": [
      "<class 'pandas.core.frame.DataFrame'>\n",
      "Int64Index: 260 entries, 0 to 1000\n",
      "Data columns (total 4 columns):\n",
      " #   Column             Non-Null Count  Dtype \n",
      "---  ------             --------------  ----- \n",
      " 0   Purpose            260 non-null    object\n",
      " 1   Attack_Skill       260 non-null    object\n",
      " 2   Result             260 non-null    object\n",
      " 3   cluster_predicted  260 non-null    uint16\n",
      "dtypes: object(3), uint16(1)\n",
      "memory usage: 8.6+ KB\n"
     ]
    }
   ],
   "source": [
    "cluster_1.info()"
   ]
  },
  {
   "cell_type": "code",
   "execution_count": 66,
   "id": "35dd7d88",
   "metadata": {},
   "outputs": [
    {
     "data": {
      "text/html": [
       "<div>\n",
       "<style scoped>\n",
       "    .dataframe tbody tr th:only-of-type {\n",
       "        vertical-align: middle;\n",
       "    }\n",
       "\n",
       "    .dataframe tbody tr th {\n",
       "        vertical-align: top;\n",
       "    }\n",
       "\n",
       "    .dataframe thead th {\n",
       "        text-align: right;\n",
       "    }\n",
       "</style>\n",
       "<table border=\"1\" class=\"dataframe\">\n",
       "  <thead>\n",
       "    <tr style=\"text-align: right;\">\n",
       "      <th></th>\n",
       "      <th>Purpose</th>\n",
       "      <th>Attack_Skill</th>\n",
       "      <th>Result</th>\n",
       "      <th>cluster_predicted</th>\n",
       "    </tr>\n",
       "  </thead>\n",
       "  <tbody>\n",
       "    <tr>\n",
       "      <th>0</th>\n",
       "      <td>군, 국가핵심시설에 관한 정보탈취</td>\n",
       "      <td>악성코드</td>\n",
       "      <td>국가기밀유출</td>\n",
       "      <td>1</td>\n",
       "    </tr>\n",
       "    <tr>\n",
       "      <th>2</th>\n",
       "      <td>국가기능 마비, 국가안보 위협</td>\n",
       "      <td>악성코드</td>\n",
       "      <td>업무 중단(시스템 마비, 악성코드 감염)</td>\n",
       "      <td>1</td>\n",
       "    </tr>\n",
       "    <tr>\n",
       "      <th>3</th>\n",
       "      <td>국가기능 마비, 국가안보 위협</td>\n",
       "      <td>악성코드</td>\n",
       "      <td>업무 중단(시스템 마비, 악성코드 감염)</td>\n",
       "      <td>1</td>\n",
       "    </tr>\n",
       "    <tr>\n",
       "      <th>9</th>\n",
       "      <td>사고</td>\n",
       "      <td>시스템 침해, 부주의</td>\n",
       "      <td>개인정보 유출</td>\n",
       "      <td>1</td>\n",
       "    </tr>\n",
       "    <tr>\n",
       "      <th>12</th>\n",
       "      <td>금전적 이득</td>\n",
       "      <td>권한 오남용, 계정 도용</td>\n",
       "      <td>개인정보 유출</td>\n",
       "      <td>1</td>\n",
       "    </tr>\n",
       "    <tr>\n",
       "      <th>23</th>\n",
       "      <td>금전적 이득</td>\n",
       "      <td>권한 오남용, 계정 도용</td>\n",
       "      <td>개인정보 유출</td>\n",
       "      <td>1</td>\n",
       "    </tr>\n",
       "    <tr>\n",
       "      <th>24</th>\n",
       "      <td>정치적 목적달성, 종교적 목적</td>\n",
       "      <td>악성코드</td>\n",
       "      <td>사회불안</td>\n",
       "      <td>1</td>\n",
       "    </tr>\n",
       "    <tr>\n",
       "      <th>29</th>\n",
       "      <td>경쟁에서 우위선점</td>\n",
       "      <td>개인정보 침해</td>\n",
       "      <td>개인정보 유출</td>\n",
       "      <td>1</td>\n",
       "    </tr>\n",
       "    <tr>\n",
       "      <th>32</th>\n",
       "      <td>국가기능 마비, 국가안보 위협</td>\n",
       "      <td>악성코드</td>\n",
       "      <td>업무 중단(시스템 마비, 악성코드 감염)</td>\n",
       "      <td>1</td>\n",
       "    </tr>\n",
       "    <tr>\n",
       "      <th>42</th>\n",
       "      <td>군, 국가핵심시설에 관한 정보탈취</td>\n",
       "      <td>악성코드</td>\n",
       "      <td>산업기술 유출</td>\n",
       "      <td>1</td>\n",
       "    </tr>\n",
       "  </tbody>\n",
       "</table>\n",
       "</div>"
      ],
      "text/plain": [
       "               Purpose   Attack_Skill                  Result  \\\n",
       "0   군, 국가핵심시설에 관한 정보탈취           악성코드                  국가기밀유출   \n",
       "2     국가기능 마비, 국가안보 위협           악성코드  업무 중단(시스템 마비, 악성코드 감염)   \n",
       "3     국가기능 마비, 국가안보 위협           악성코드  업무 중단(시스템 마비, 악성코드 감염)   \n",
       "9                   사고    시스템 침해, 부주의                 개인정보 유출   \n",
       "12              금전적 이득  권한 오남용, 계정 도용                 개인정보 유출   \n",
       "23              금전적 이득  권한 오남용, 계정 도용                 개인정보 유출   \n",
       "24    정치적 목적달성, 종교적 목적           악성코드                    사회불안   \n",
       "29           경쟁에서 우위선점        개인정보 침해                 개인정보 유출   \n",
       "32    국가기능 마비, 국가안보 위협           악성코드  업무 중단(시스템 마비, 악성코드 감염)   \n",
       "42  군, 국가핵심시설에 관한 정보탈취           악성코드                 산업기술 유출   \n",
       "\n",
       "    cluster_predicted  \n",
       "0                   1  \n",
       "2                   1  \n",
       "3                   1  \n",
       "9                   1  \n",
       "12                  1  \n",
       "23                  1  \n",
       "24                  1  \n",
       "29                  1  \n",
       "32                  1  \n",
       "42                  1  "
      ]
     },
     "execution_count": 66,
     "metadata": {},
     "output_type": "execute_result"
    }
   ],
   "source": [
    "cluster_1.head(10)"
   ]
  },
  {
   "cell_type": "code",
   "execution_count": 44,
   "id": "cf4d9941",
   "metadata": {},
   "outputs": [
    {
     "name": "stdout",
     "output_type": "stream",
     "text": [
      "<class 'pandas.core.frame.DataFrame'>\n",
      "Int64Index: 97 entries, 5 to 996\n",
      "Data columns (total 4 columns):\n",
      " #   Column             Non-Null Count  Dtype \n",
      "---  ------             --------------  ----- \n",
      " 0   Purpose            97 non-null     object\n",
      " 1   Attack_Skill       97 non-null     object\n",
      " 2   Result             97 non-null     object\n",
      " 3   cluster_predicted  97 non-null     uint16\n",
      "dtypes: object(3), uint16(1)\n",
      "memory usage: 3.2+ KB\n"
     ]
    }
   ],
   "source": [
    "cluster_2.info()"
   ]
  },
  {
   "cell_type": "code",
   "execution_count": 45,
   "id": "61e5a08b",
   "metadata": {},
   "outputs": [
    {
     "data": {
      "text/html": [
       "<div>\n",
       "<style scoped>\n",
       "    .dataframe tbody tr th:only-of-type {\n",
       "        vertical-align: middle;\n",
       "    }\n",
       "\n",
       "    .dataframe tbody tr th {\n",
       "        vertical-align: top;\n",
       "    }\n",
       "\n",
       "    .dataframe thead th {\n",
       "        text-align: right;\n",
       "    }\n",
       "</style>\n",
       "<table border=\"1\" class=\"dataframe\">\n",
       "  <thead>\n",
       "    <tr style=\"text-align: right;\">\n",
       "      <th></th>\n",
       "      <th>Purpose</th>\n",
       "      <th>Attack_Skill</th>\n",
       "      <th>Result</th>\n",
       "      <th>cluster_predicted</th>\n",
       "    </tr>\n",
       "  </thead>\n",
       "  <tbody>\n",
       "    <tr>\n",
       "      <th>5</th>\n",
       "      <td>금전적 이득</td>\n",
       "      <td>명예훼손, 스토킹, 음란물 유포</td>\n",
       "      <td>정신적 피해</td>\n",
       "      <td>2</td>\n",
       "    </tr>\n",
       "    <tr>\n",
       "      <th>10</th>\n",
       "      <td>실력과시, 우월감, 영웅심</td>\n",
       "      <td>명예훼손, 스토킹, 음란물 유포</td>\n",
       "      <td>정신적 피해</td>\n",
       "      <td>2</td>\n",
       "    </tr>\n",
       "    <tr>\n",
       "      <th>14</th>\n",
       "      <td>분노표출</td>\n",
       "      <td>명예훼손, 스토킹, 음란물 유포</td>\n",
       "      <td>정신적 피해</td>\n",
       "      <td>2</td>\n",
       "    </tr>\n",
       "    <tr>\n",
       "      <th>21</th>\n",
       "      <td>분노표출</td>\n",
       "      <td>명예훼손, 스토킹, 음란물 유포</td>\n",
       "      <td>정신적 피해</td>\n",
       "      <td>2</td>\n",
       "    </tr>\n",
       "    <tr>\n",
       "      <th>25</th>\n",
       "      <td>정치적 목적달성, 종교적 목적</td>\n",
       "      <td>명예훼손, 스토킹, 음란물 유포</td>\n",
       "      <td>정신적 피해</td>\n",
       "      <td>2</td>\n",
       "    </tr>\n",
       "    <tr>\n",
       "      <th>31</th>\n",
       "      <td>분노표출</td>\n",
       "      <td>DDoS</td>\n",
       "      <td>업무 중단(시스템 마비, 악성코드 감염)</td>\n",
       "      <td>2</td>\n",
       "    </tr>\n",
       "    <tr>\n",
       "      <th>34</th>\n",
       "      <td>경쟁에서 우위선점</td>\n",
       "      <td>명예훼손, 스토킹, 음란물 유포</td>\n",
       "      <td>정신적 피해</td>\n",
       "      <td>2</td>\n",
       "    </tr>\n",
       "    <tr>\n",
       "      <th>36</th>\n",
       "      <td>금전적 이득</td>\n",
       "      <td>명예훼손, 스토킹, 음란물 유포</td>\n",
       "      <td>정신적 피해</td>\n",
       "      <td>2</td>\n",
       "    </tr>\n",
       "    <tr>\n",
       "      <th>38</th>\n",
       "      <td>분노표출</td>\n",
       "      <td>명예훼손, 스토킹, 음란물 유포</td>\n",
       "      <td>정신적 피해</td>\n",
       "      <td>2</td>\n",
       "    </tr>\n",
       "    <tr>\n",
       "      <th>71</th>\n",
       "      <td>분노표출</td>\n",
       "      <td>명예훼손, 스토킹, 음란물 유포</td>\n",
       "      <td>정신적 피해</td>\n",
       "      <td>2</td>\n",
       "    </tr>\n",
       "  </tbody>\n",
       "</table>\n",
       "</div>"
      ],
      "text/plain": [
       "             Purpose       Attack_Skill                  Result  \\\n",
       "5             금전적 이득  명예훼손, 스토킹, 음란물 유포                  정신적 피해   \n",
       "10    실력과시, 우월감, 영웅심  명예훼손, 스토킹, 음란물 유포                  정신적 피해   \n",
       "14              분노표출  명예훼손, 스토킹, 음란물 유포                  정신적 피해   \n",
       "21              분노표출  명예훼손, 스토킹, 음란물 유포                  정신적 피해   \n",
       "25  정치적 목적달성, 종교적 목적  명예훼손, 스토킹, 음란물 유포                  정신적 피해   \n",
       "31              분노표출               DDoS  업무 중단(시스템 마비, 악성코드 감염)   \n",
       "34         경쟁에서 우위선점  명예훼손, 스토킹, 음란물 유포                  정신적 피해   \n",
       "36            금전적 이득  명예훼손, 스토킹, 음란물 유포                  정신적 피해   \n",
       "38              분노표출  명예훼손, 스토킹, 음란물 유포                  정신적 피해   \n",
       "71              분노표출  명예훼손, 스토킹, 음란물 유포                  정신적 피해   \n",
       "\n",
       "    cluster_predicted  \n",
       "5                   2  \n",
       "10                  2  \n",
       "14                  2  \n",
       "21                  2  \n",
       "25                  2  \n",
       "31                  2  \n",
       "34                  2  \n",
       "36                  2  \n",
       "38                  2  \n",
       "71                  2  "
      ]
     },
     "execution_count": 45,
     "metadata": {},
     "output_type": "execute_result"
    }
   ],
   "source": [
    "cluster_2.head(10)"
   ]
  },
  {
   "cell_type": "code",
   "execution_count": 58,
   "id": "53d92859",
   "metadata": {},
   "outputs": [
    {
     "data": {
      "image/png": "[encoded data removed]",
      "text/plain": [
       "<Figure size 1152x648 with 1 Axes>"
      ]
     },
     "metadata": {
      "needs_background": "light"
     },
     "output_type": "display_data"
    }
   ],
   "source": [
    "# Victim_Class\n",
    "plt.subplots(figsize = (16,9))\n",
    "sns.scatterplot(x=combinedDf['Purpose'], y=combinedDf['Attack_Skill'],\n",
    "#               order=combinedDf['Victim_Class'].value_counts().index,\n",
    "              hue=combinedDf['cluster_predicted'])\n",
    "\n",
    "plt.xticks(rotation = 90)\n",
    "plt.show()"
   ]
  },
  {
   "cell_type": "code",
   "execution_count": 47,
   "id": "76f814d8",
   "metadata": {},
   "outputs": [
    {
     "data": {
      "image/png": "[encoded data removed]",
      "text/plain": [
       "<Figure size 1152x648 with 1 Axes>"
      ]
     },
     "metadata": {
      "needs_background": "light"
     },
     "output_type": "display_data"
    }
   ],
   "source": [
    "# Purpose\n",
    "plt.subplots(figsize = (16,9))\n",
    "sns.countplot(x=combinedDf['Purpose'],\n",
    "              order=combinedDf['Purpose'].value_counts().index,\n",
    "              hue=combinedDf['cluster_predicted'])\n",
    "\n",
    "plt.xticks(rotation = 45)\n",
    "plt.show()"
   ]
  },
  {
   "cell_type": "code",
   "execution_count": 48,
   "id": "3bc350ef",
   "metadata": {},
   "outputs": [
    {
     "data": {
      "image/png": "[encoded data removed]",
      "text/plain": [
       "<Figure size 1152x648 with 1 Axes>"
      ]
     },
     "metadata": {
      "needs_background": "light"
     },
     "output_type": "display_data"
    }
   ],
   "source": [
    "# Attack_Skill\n",
    "plt.subplots(figsize = (16,9))\n",
    "sns.countplot(x=combinedDf['Attack_Skill'],\n",
    "              order=combinedDf['Attack_Skill'].value_counts().index,\n",
    "              hue=combinedDf['cluster_predicted'])\n",
    "\n",
    "plt.xticks(rotation = 45)\n",
    "plt.show()"
   ]
  },
  {
   "cell_type": "code",
   "execution_count": 49,
   "id": "307771cf",
   "metadata": {
    "scrolled": false
   },
   "outputs": [
    {
     "data": {
      "image/png": "[encoded data removed]",
      "text/plain": [
       "<Figure size 1152x648 with 1 Axes>"
      ]
     },
     "metadata": {
      "needs_background": "light"
     },
     "output_type": "display_data"
    }
   ],
   "source": [
    "# Result\n",
    "plt.subplots(figsize = (16,9))\n",
    "sns.countplot(x=combinedDf['Result'],\n",
    "              order=combinedDf['Result'].value_counts().index,\n",
    "              hue=combinedDf['cluster_predicted'])\n",
    "\n",
    "plt.xticks(rotation = 45)\n",
    "plt.show()"
   ]
  },
  {
   "cell_type": "code",
   "execution_count": 53,
   "id": "511584b4",
   "metadata": {},
   "outputs": [],
   "source": [
    "################################################################################"
   ]
  },
  {
   "cell_type": "code",
   "execution_count": 55,
   "id": "a4a91a45",
   "metadata": {},
   "outputs": [],
   "source": [
    "df.drop(columns='index', inplace=True)"
   ]
  },
  {
   "cell_type": "code",
   "execution_count": 56,
   "id": "68e29349",
   "metadata": {
    "scrolled": false
   },
   "outputs": [
    {
     "data": {
      "text/html": [
       "<div>\n",
       "<style scoped>\n",
       "    .dataframe tbody tr th:only-of-type {\n",
       "        vertical-align: middle;\n",
       "    }\n",
       "\n",
       "    .dataframe tbody tr th {\n",
       "        vertical-align: top;\n",
       "    }\n",
       "\n",
       "    .dataframe thead th {\n",
       "        text-align: right;\n",
       "    }\n",
       "</style>\n",
       "<table border=\"1\" class=\"dataframe\">\n",
       "  <thead>\n",
       "    <tr style=\"text-align: right;\">\n",
       "      <th></th>\n",
       "      <th>Purpose</th>\n",
       "      <th>Attack_Skill</th>\n",
       "      <th>Result</th>\n",
       "    </tr>\n",
       "  </thead>\n",
       "  <tbody>\n",
       "    <tr>\n",
       "      <th>0</th>\n",
       "      <td>3</td>\n",
       "      <td>7</td>\n",
       "      <td>1</td>\n",
       "    </tr>\n",
       "    <tr>\n",
       "      <th>1</th>\n",
       "      <td>2</td>\n",
       "      <td>0</td>\n",
       "      <td>7</td>\n",
       "    </tr>\n",
       "    <tr>\n",
       "      <th>2</th>\n",
       "      <td>2</td>\n",
       "      <td>7</td>\n",
       "      <td>7</td>\n",
       "    </tr>\n",
       "    <tr>\n",
       "      <th>3</th>\n",
       "      <td>2</td>\n",
       "      <td>7</td>\n",
       "      <td>7</td>\n",
       "    </tr>\n",
       "    <tr>\n",
       "      <th>4</th>\n",
       "      <td>2</td>\n",
       "      <td>1</td>\n",
       "      <td>7</td>\n",
       "    </tr>\n",
       "  </tbody>\n",
       "</table>\n",
       "</div>"
      ],
      "text/plain": [
       "   Purpose  Attack_Skill  Result\n",
       "0        3             7       1\n",
       "1        2             0       7\n",
       "2        2             7       7\n",
       "3        2             7       7\n",
       "4        2             1       7"
      ]
     },
     "execution_count": 56,
     "metadata": {},
     "output_type": "execute_result"
    }
   ],
   "source": [
    "df.head()"
   ]
  },
  {
   "cell_type": "code",
   "execution_count": 57,
   "id": "7e286a12",
   "metadata": {},
   "outputs": [
    {
     "data": {
      "text/plain": [
       "0.043686606750666886"
      ]
     },
     "execution_count": 57,
     "metadata": {},
     "output_type": "execute_result"
    }
   ],
   "source": [
    "## 실루엣 계수\n",
    "from sklearn.metrics import silhouette_samples, silhouette_score\n",
    "\n",
    "# 실루엣 계수\n",
    "silhouette_score(df, combinedDf['cluster_predicted'])"
   ]
  }
 ],
 "metadata": {
  "kernelspec": {
   "display_name": "Python 3 (ipykernel)",
   "language": "python",
   "name": "python3"
  },
  "language_info": {
   "codemirror_mode": {
    "name": "ipython",
    "version": 3
   },
   "file_extension": ".py",
   "mimetype": "text/x-python",
   "name": "python",
   "nbconvert_exporter": "python",
   "pygments_lexer": "ipython3",
   "version": "3.7.11"
  }
 },
 "nbformat": 4,
 "nbformat_minor": 5
}
