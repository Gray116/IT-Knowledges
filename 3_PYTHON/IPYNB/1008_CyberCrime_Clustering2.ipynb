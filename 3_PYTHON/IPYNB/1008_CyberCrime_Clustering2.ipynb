{
 "cells": [
  {
   "cell_type": "code",
   "execution_count": 1,
   "metadata": {},
   "outputs": [],
   "source": [
    "import pandas as pd\n",
    "import numpy as np\n",
    "import matplotlib.pyplot as plt\n",
    "import seaborn as sns\n",
    "import missingno as msno\n",
    "import os\n",
    "\n",
    "%matplotlib inline\n",
    "\n",
    "import warnings\n",
    "warnings.filterwarnings(action='ignore')\n",
    "\n",
    "pd.set_option('display.max_seq_items', None)\n",
    "\n",
    "# 한글 세팅\n",
    "from matplotlib import font_manager, rc\n",
    "font_path = \"C:\\Windows\\Fonts/H2GTRM.TTF\"\n",
    "font = font_manager.FontProperties(fname=font_path).get_name()\n",
    "rc('font', family=font)"
   ]
  },
  {
   "cell_type": "code",
   "execution_count": 2,
   "metadata": {},
   "outputs": [
    {
     "name": "stdout",
     "output_type": "stream",
     "text": [
      "C:\\Users\\이지영\\Desktop\\Workspace\\Python\\CyberCrime\\data_0927.xlsx\n"
     ]
    }
   ],
   "source": [
    "# 현재경로 확인\n",
    "dir_path = os.getcwd()\n",
    "\n",
    "# data 파일 경로 설정\n",
    "file_name = 'data_0927.xlsx'\n",
    "data_path = os.path.join(dir_path, file_name)\n",
    "print(data_path)"
   ]
  },
  {
   "cell_type": "code",
   "execution_count": 3,
   "metadata": {},
   "outputs": [],
   "source": [
    "df = pd.read_excel(data_path,engine=\"openpyxl\", header=2)"
   ]
  },
  {
   "cell_type": "code",
   "execution_count": 4,
   "metadata": {
    "scrolled": true
   },
   "outputs": [
    {
     "data": {
      "text/html": [
       "<div>\n",
       "<style scoped>\n",
       "    .dataframe tbody tr th:only-of-type {\n",
       "        vertical-align: middle;\n",
       "    }\n",
       "\n",
       "    .dataframe tbody tr th {\n",
       "        vertical-align: top;\n",
       "    }\n",
       "\n",
       "    .dataframe thead th {\n",
       "        text-align: right;\n",
       "    }\n",
       "</style>\n",
       "<table border=\"1\" class=\"dataframe\">\n",
       "  <thead>\n",
       "    <tr style=\"text-align: right;\">\n",
       "      <th></th>\n",
       "      <th>번호</th>\n",
       "      <th>구분</th>\n",
       "      <th>사건명</th>\n",
       "      <th>발생년도\\n(연,월,일)</th>\n",
       "      <th>범죄 대상(단체)</th>\n",
       "      <th>피해 국가</th>\n",
       "      <th>범죄주체</th>\n",
       "      <th>범죄주체\\n관련국가</th>\n",
       "      <th>내부/외부 범죄 여부</th>\n",
       "      <th>동기(목적)</th>\n",
       "      <th>...</th>\n",
       "      <th>Result</th>\n",
       "      <th>국내적용 법률</th>\n",
       "      <th>국제적용법률</th>\n",
       "      <th>자료형태</th>\n",
       "      <th>자료제목</th>\n",
       "      <th>출처 및 링크</th>\n",
       "      <th>비고</th>\n",
       "      <th>Unnamed: 25</th>\n",
       "      <th>Unnamed: 26</th>\n",
       "      <th>Unnamed: 27</th>\n",
       "    </tr>\n",
       "  </thead>\n",
       "  <tbody>\n",
       "    <tr>\n",
       "      <th>0</th>\n",
       "      <td>1</td>\n",
       "      <td>데이터</td>\n",
       "      <td>코인체크 공격</td>\n",
       "      <td>2018.01.26</td>\n",
       "      <td>암호화폐 거래사업자 코인체크</td>\n",
       "      <td>일본</td>\n",
       "      <td>라자루스</td>\n",
       "      <td>북한</td>\n",
       "      <td>외부</td>\n",
       "      <td>금전적 이득</td>\n",
       "      <td>...</td>\n",
       "      <td>금전 손실</td>\n",
       "      <td>피해국가 국내법</td>\n",
       "      <td>국가책임법</td>\n",
       "      <td>웹사이트</td>\n",
       "      <td>코인체크 해킹 사건</td>\n",
       "      <td>NAVER 지식백과, 2018년3월6일 입력, 2021년8월30일 접속, https...</td>\n",
       "      <td>NaN</td>\n",
       "      <td>NaN</td>\n",
       "      <td>NaN</td>\n",
       "      <td>NaN</td>\n",
       "    </tr>\n",
       "    <tr>\n",
       "      <th>1</th>\n",
       "      <td>2</td>\n",
       "      <td>데이터</td>\n",
       "      <td>3·20 전산 대란</td>\n",
       "      <td>2013.03.20</td>\n",
       "      <td>MBC, KBS, YTN, 신한은행, 농협, 제주은행</td>\n",
       "      <td>한국</td>\n",
       "      <td>북한 정찰총국</td>\n",
       "      <td>북한</td>\n",
       "      <td>외부</td>\n",
       "      <td>사회혼란, 정보획득</td>\n",
       "      <td>...</td>\n",
       "      <td>사회혼란</td>\n",
       "      <td>정보통신망법</td>\n",
       "      <td>UN헌장, 국가책임법</td>\n",
       "      <td>학술지</td>\n",
       "      <td>국가 사이버보안 피해금액 분석과 대안 - 3.20 사이버 침해사건을 중심으로-</td>\n",
       "      <td>신영웅, 전상훈, 임채호, 김명철, 『국가정보연구』, 제6권 1호(2013), p.134</td>\n",
       "      <td>NaN</td>\n",
       "      <td>NaN</td>\n",
       "      <td>NaN</td>\n",
       "      <td>NaN</td>\n",
       "    </tr>\n",
       "    <tr>\n",
       "      <th>2</th>\n",
       "      <td>3</td>\n",
       "      <td>데이터</td>\n",
       "      <td>6·25 사이버 테러</td>\n",
       "      <td>2013.06.25</td>\n",
       "      <td>새누리당, 청와대, 정부당국, 언론사, 군장병, 주한미군</td>\n",
       "      <td>한국</td>\n",
       "      <td>북한 정찰총국</td>\n",
       "      <td>북한</td>\n",
       "      <td>외부</td>\n",
       "      <td>사회혼란, 정보획득</td>\n",
       "      <td>...</td>\n",
       "      <td>사회혼란</td>\n",
       "      <td>정보통신망법</td>\n",
       "      <td>UN헌장, 국가책임법</td>\n",
       "      <td>웹사이트</td>\n",
       "      <td>10만건 개인정보유출 사실로 드러나…청와대, 사과문 공지</td>\n",
       "      <td>디지털데일리, 2013년6월29일 입력, 2021년8월30일접속, http://ww...</td>\n",
       "      <td>NaN</td>\n",
       "      <td>NaN</td>\n",
       "      <td>NaN</td>\n",
       "      <td>NaN</td>\n",
       "    </tr>\n",
       "    <tr>\n",
       "      <th>3</th>\n",
       "      <td>4</td>\n",
       "      <td>데이터</td>\n",
       "      <td>소니 픽쳐스 해킹</td>\n",
       "      <td>2014.11.24</td>\n",
       "      <td>소니 픽쳐스 엔터테인먼트</td>\n",
       "      <td>미국</td>\n",
       "      <td>북한 정찰총국</td>\n",
       "      <td>북한</td>\n",
       "      <td>외부</td>\n",
       "      <td>정보획득, 경제손실</td>\n",
       "      <td>...</td>\n",
       "      <td>금전 손실</td>\n",
       "      <td>피해국가 국내법</td>\n",
       "      <td>국가책임법</td>\n",
       "      <td>기사</td>\n",
       "      <td>북한의 사이버전 능력을 보여주는 5대 해킹 사건</td>\n",
       "      <td>BBC News, 2017년10월12 입력, 2021년 8월26일 접속, https...</td>\n",
       "      <td>NaN</td>\n",
       "      <td>NaN</td>\n",
       "      <td>NaN</td>\n",
       "      <td>NaN</td>\n",
       "    </tr>\n",
       "    <tr>\n",
       "      <th>4</th>\n",
       "      <td>5</td>\n",
       "      <td>데이터</td>\n",
       "      <td>1·25 인터넷 대란</td>\n",
       "      <td>2003.01.25</td>\n",
       "      <td>KT</td>\n",
       "      <td>한국</td>\n",
       "      <td>NaN</td>\n",
       "      <td>NaN</td>\n",
       "      <td>외부</td>\n",
       "      <td>사회혼란</td>\n",
       "      <td>...</td>\n",
       "      <td>사회혼란</td>\n",
       "      <td>NaN</td>\n",
       "      <td>NaN</td>\n",
       "      <td>웹사이트</td>\n",
       "      <td>대한민국의 정보 보안 사고 목록</td>\n",
       "      <td>위키백과, https://ko.wikipedia.org/wiki/%EB%8C%80%...</td>\n",
       "      <td>https://namu.wiki/w/1.25%20%EC%9D%B8%ED%84%B0%...</td>\n",
       "      <td>NaN</td>\n",
       "      <td>NaN</td>\n",
       "      <td>NaN</td>\n",
       "    </tr>\n",
       "  </tbody>\n",
       "</table>\n",
       "<p>5 rows × 28 columns</p>\n",
       "</div>"
      ],
      "text/plain": [
       "   번호   구분         사건명  발생년도\\n(연,월,일)                        범죄 대상(단체) 피해 국가  \\\n",
       "0   1  데이터      코인체크 공격    2018.01.26                  암호화폐 거래사업자 코인체크    일본   \n",
       "1   2  데이터   3·20 전산 대란    2013.03.20    MBC, KBS, YTN, 신한은행, 농협, 제주은행    한국   \n",
       "2   3  데이터  6·25 사이버 테러    2013.06.25  새누리당, 청와대, 정부당국, 언론사, 군장병, 주한미군    한국   \n",
       "3   4  데이터    소니 픽쳐스 해킹    2014.11.24                    소니 픽쳐스 엔터테인먼트    미국   \n",
       "4   5  데이터  1·25 인터넷 대란    2003.01.25                               KT    한국   \n",
       "\n",
       "      범죄주체 범죄주체\\n관련국가 내부/외부 범죄 여부      동기(목적)  ... Result   국내적용 법률  \\\n",
       "0     라자루스         북한          외부      금전적 이득  ...  금전 손실  피해국가 국내법   \n",
       "1  북한 정찰총국         북한          외부  사회혼란, 정보획득  ...   사회혼란    정보통신망법   \n",
       "2  북한 정찰총국         북한          외부  사회혼란, 정보획득  ...   사회혼란    정보통신망법   \n",
       "3  북한 정찰총국         북한          외부  정보획득, 경제손실  ...  금전 손실  피해국가 국내법   \n",
       "4      NaN        NaN          외부        사회혼란  ...   사회혼란       NaN   \n",
       "\n",
       "        국제적용법률  자료형태                                         자료제목  \\\n",
       "0        국가책임법  웹사이트                                   코인체크 해킹 사건   \n",
       "1  UN헌장, 국가책임법   학술지  국가 사이버보안 피해금액 분석과 대안 - 3.20 사이버 침해사건을 중심으로-   \n",
       "2  UN헌장, 국가책임법  웹사이트              10만건 개인정보유출 사실로 드러나…청와대, 사과문 공지   \n",
       "3        국가책임법    기사                   북한의 사이버전 능력을 보여주는 5대 해킹 사건   \n",
       "4          NaN  웹사이트                            대한민국의 정보 보안 사고 목록   \n",
       "\n",
       "                                             출처 및 링크  \\\n",
       "0  NAVER 지식백과, 2018년3월6일 입력, 2021년8월30일 접속, https...   \n",
       "1  신영웅, 전상훈, 임채호, 김명철, 『국가정보연구』, 제6권 1호(2013), p.134   \n",
       "2  디지털데일리, 2013년6월29일 입력, 2021년8월30일접속, http://ww...   \n",
       "3  BBC News, 2017년10월12 입력, 2021년 8월26일 접속, https...   \n",
       "4  위키백과, https://ko.wikipedia.org/wiki/%EB%8C%80%...   \n",
       "\n",
       "                                                  비고 Unnamed: 25 Unnamed: 26  \\\n",
       "0                                                NaN         NaN         NaN   \n",
       "1                                                NaN         NaN         NaN   \n",
       "2                                                NaN         NaN         NaN   \n",
       "3                                                NaN         NaN         NaN   \n",
       "4  https://namu.wiki/w/1.25%20%EC%9D%B8%ED%84%B0%...         NaN         NaN   \n",
       "\n",
       "  Unnamed: 27  \n",
       "0         NaN  \n",
       "1         NaN  \n",
       "2         NaN  \n",
       "3         NaN  \n",
       "4         NaN  \n",
       "\n",
       "[5 rows x 28 columns]"
      ]
     },
     "execution_count": 4,
     "metadata": {},
     "output_type": "execute_result"
    }
   ],
   "source": [
    "df.head()"
   ]
  },
  {
   "cell_type": "code",
   "execution_count": 5,
   "metadata": {},
   "outputs": [
    {
     "name": "stdout",
     "output_type": "stream",
     "text": [
      "<class 'pandas.core.frame.DataFrame'>\n",
      "RangeIndex: 306 entries, 0 to 305\n",
      "Data columns (total 28 columns):\n",
      " #   Column        Non-Null Count  Dtype  \n",
      "---  ------        --------------  -----  \n",
      " 0   번호            306 non-null    int64  \n",
      " 1   구분            306 non-null    object \n",
      " 2   사건명           306 non-null    object \n",
      " 3   발생년도\n",
      "(연,월,일)  296 non-null    object \n",
      " 4   범죄 대상(단체)     291 non-null    object \n",
      " 5   피해 국가         287 non-null    object \n",
      " 6   범죄주체          199 non-null    object \n",
      " 7   범죄주체\n",
      "관련국가     188 non-null    object \n",
      " 8   내부/외부 범죄 여부   260 non-null    object \n",
      " 9   동기(목적)        214 non-null    object \n",
      " 10  Purpose       300 non-null    object \n",
      " 11  공격 유형(대분류)    223 non-null    object \n",
      " 12  사용된 기술(중분류)   205 non-null    object \n",
      " 13  Attack_Skill  300 non-null    object \n",
      " 14  준비기간\n",
      "(공격기간)   48 non-null     object \n",
      " 15  해커수준\n",
      "(등급)     2 non-null      object \n",
      " 16  자산피해규모        59 non-null     object \n",
      " 17  결과종합          299 non-null    object \n",
      " 18  Result        298 non-null    object \n",
      " 19  국내적용 법률       97 non-null     object \n",
      " 20  국제적용법률        7 non-null      object \n",
      " 21  자료형태          301 non-null    object \n",
      " 22  자료제목          306 non-null    object \n",
      " 23  출처 및 링크       306 non-null    object \n",
      " 24  비고            189 non-null    object \n",
      " 25  Unnamed: 25   0 non-null      float64\n",
      " 26  Unnamed: 26   0 non-null      float64\n",
      " 27  Unnamed: 27   0 non-null      float64\n",
      "dtypes: float64(3), int64(1), object(24)\n",
      "memory usage: 67.1+ KB\n"
     ]
    }
   ],
   "source": [
    "df.info()"
   ]
  },
  {
   "cell_type": "code",
   "execution_count": 6,
   "metadata": {
    "scrolled": false
   },
   "outputs": [
    {
     "data": {
      "text/plain": [
       "금전적 이득                               104\n",
       "군, 국가핵심시설에 관한 정보탈취                    25\n",
       "경쟁에서 우위선점                             11\n",
       "정치적 목적달성                               9\n",
       "복수심                                    8\n",
       "정보획득                                   7\n",
       "우월감                                    4\n",
       "자기만족                                   4\n",
       "정치적 목적 달성                              4\n",
       "사회혼란                                   3\n",
       "실수                                     3\n",
       "영웅심                                    3\n",
       "사회혼란, 정보획득                             3\n",
       "정치적 목적달성(추정)                           3\n",
       "망상장애                                   3\n",
       "실력과시                                   2\n",
       "분노표출                                   2\n",
       "국가기능 마비, 사회혼란                          2\n",
       "정치적 목적 달성, 사회혼란                        1\n",
       "정보 획득                                  1\n",
       "과실                                     1\n",
       "정차적 목적달성                               1\n",
       "복수심, 금전적 이득                            1\n",
       "군, 국가핵심시설에 관한 정보탈취, 정치적 목적달성           1\n",
       "정치적 목적 달성, 우월감                         1\n",
       "정치적 목적달성, 우월감                          1\n",
       "명성획득                                   1\n",
       "종교적 목적                                 1\n",
       "군, 국가핵심시설에 관한 정보탈취, 국가기능 마비, 사회혼란      1\n",
       "국가기능 마비, 사회혼란, 정치적 목적달성                1\n",
       "사고                                     1\n",
       "정보획득, 경제손실                             1\n",
       "Name: 동기(목적), dtype: int64"
      ]
     },
     "execution_count": 6,
     "metadata": {},
     "output_type": "execute_result"
    }
   ],
   "source": [
    "purpose_count = df['동기(목적)'].value_counts()\n",
    "purpose_count\n",
    "# purpose_count.plot(kind='bar')"
   ]
  },
  {
   "cell_type": "code",
   "execution_count": 7,
   "metadata": {},
   "outputs": [
    {
     "data": {
      "text/plain": [
       "시스템 마비              23\n",
       "정신적 피해              22\n",
       "정보유출, 사회혼란, 신뢰하락    13\n",
       "금전 손실               11\n",
       "사회혼란                 9\n",
       "                    ..\n",
       "사회혼란, 시스템 마비         1\n",
       "정보 유출, 영업중단          1\n",
       "직원 개인정보 유출           1\n",
       "75만건의 공공아이핀 부정발급     1\n",
       "여배우 사진 100여장 유출      1\n",
       "Name: 결과종합, Length: 178, dtype: int64"
      ]
     },
     "execution_count": 7,
     "metadata": {},
     "output_type": "execute_result"
    }
   ],
   "source": [
    "df['결과종합'].value_counts()"
   ]
  },
  {
   "cell_type": "code",
   "execution_count": 8,
   "metadata": {},
   "outputs": [
    {
     "data": {
      "text/plain": [
       "개인               37\n",
       "조직               23\n",
       "북한 정찰총국          20\n",
       "북한                5\n",
       "30대 여성            3\n",
       "                 ..\n",
       "Anonymous(추정)     1\n",
       "이란(추정)            1\n",
       "유튜버               1\n",
       "호텔직원              1\n",
       "회사 블래이징패스(추정)     1\n",
       "Name: 범죄주체, Length: 100, dtype: int64"
      ]
     },
     "execution_count": 8,
     "metadata": {},
     "output_type": "execute_result"
    }
   ],
   "source": [
    "df['범죄주체'].value_counts()"
   ]
  },
  {
   "cell_type": "markdown",
   "metadata": {},
   "source": [
    "## 데이터프레임 생성"
   ]
  },
  {
   "cell_type": "code",
   "execution_count": 9,
   "metadata": {
    "scrolled": true
   },
   "outputs": [
    {
     "data": {
      "text/plain": [
       "Index(['번호', '구분', '사건명 ', '발생년도\\n(연,월,일)', '범죄 대상(단체)', '피해 국가', '범죄주체',\n",
       "       '범죄주체\\n관련국가', '내부/외부 범죄 여부', '동기(목적)', 'Purpose', '공격 유형(대분류)',\n",
       "       '사용된 기술(중분류)', 'Attack_Skill', '준비기간\\n(공격기간)', '해커수준\\n(등급)', '자산피해규모',\n",
       "       '결과종합', 'Result', '국내적용 법률', '국제적용법률', '자료형태', '자료제목', '출처 및 링크', '비고',\n",
       "       'Unnamed: 25', 'Unnamed: 26', 'Unnamed: 27'],\n",
       "      dtype='object')"
      ]
     },
     "execution_count": 9,
     "metadata": {},
     "output_type": "execute_result"
    }
   ],
   "source": [
    "# 컬럼명 확인\n",
    "df.columns"
   ]
  },
  {
   "cell_type": "code",
   "execution_count": 10,
   "metadata": {
    "scrolled": false
   },
   "outputs": [
    {
     "data": {
      "text/plain": [
       "Index(['번호', '구분', '사건명 ', '발생년도\\n(연,월,일)', '범죄 대상(단체)', '피해 국가', '범죄주체',\n",
       "       '범죄주체\\n관련국가', '내부/외부 범죄 여부', '동기(목적)', 'Purpose', '공격 유형(대분류)',\n",
       "       '사용된 기술(중분류)', 'Attack_Skill', '준비기간\\n(공격기간)', '해커수준\\n(등급)', '자산피해규모',\n",
       "       '결과종합', 'Result', '국내적용 법률', '국제적용법률', '자료형태', '자료제목', '출처 및 링크', '비고'],\n",
       "      dtype='object')"
      ]
     },
     "execution_count": 10,
     "metadata": {},
     "output_type": "execute_result"
    }
   ],
   "source": [
    "# Unnamed 컬럼 삭제\n",
    "Unnamed_col = ['Unnamed: 25', 'Unnamed: 26', 'Unnamed: 27']\n",
    "df.drop(columns=Unnamed_col, inplace=True)\n",
    "df.columns"
   ]
  },
  {
   "cell_type": "code",
   "execution_count": 11,
   "metadata": {},
   "outputs": [
    {
     "name": "stdout",
     "output_type": "stream",
     "text": [
      "10\n",
      "10\n"
     ]
    }
   ],
   "source": [
    "## 데이터프레임화\n",
    "# 사용할 컬럼만 추출\n",
    "df_usecols = ['사건명 ', '발생년도\\n(연,월,일)', '범죄 대상(단체)', '피해 국가', '범죄주체','범죄주체\\n관련국가', '내부/외부 범죄 여부', 'Purpose','Attack_Skill','Result']\n",
    "df_newcols = ['Case_Name','Date', 'Affected_Group','Affected_Country', 'Criminal', 'Criminal_Country','InOrOutside_Crime','Purpose','Attack_Skill','Result' ]\n",
    "\n",
    "print(len(df_usecols))\n",
    "print(len(df_newcols))"
   ]
  },
  {
   "cell_type": "code",
   "execution_count": 12,
   "metadata": {},
   "outputs": [
    {
     "data": {
      "text/html": [
       "<div>\n",
       "<style scoped>\n",
       "    .dataframe tbody tr th:only-of-type {\n",
       "        vertical-align: middle;\n",
       "    }\n",
       "\n",
       "    .dataframe tbody tr th {\n",
       "        vertical-align: top;\n",
       "    }\n",
       "\n",
       "    .dataframe thead th {\n",
       "        text-align: right;\n",
       "    }\n",
       "</style>\n",
       "<table border=\"1\" class=\"dataframe\">\n",
       "  <thead>\n",
       "    <tr style=\"text-align: right;\">\n",
       "      <th></th>\n",
       "      <th>Case_Name</th>\n",
       "      <th>Date</th>\n",
       "      <th>Affected_Group</th>\n",
       "      <th>Affected_Country</th>\n",
       "      <th>Criminal</th>\n",
       "      <th>Criminal_Country</th>\n",
       "      <th>InOrOutside_Crime</th>\n",
       "      <th>Purpose</th>\n",
       "      <th>Attack_Skill</th>\n",
       "      <th>Result</th>\n",
       "    </tr>\n",
       "  </thead>\n",
       "  <tbody>\n",
       "    <tr>\n",
       "      <th>0</th>\n",
       "      <td>코인체크 공격</td>\n",
       "      <td>2018.01.26</td>\n",
       "      <td>암호화폐 거래사업자 코인체크</td>\n",
       "      <td>일본</td>\n",
       "      <td>라자루스</td>\n",
       "      <td>북한</td>\n",
       "      <td>외부</td>\n",
       "      <td>금전적 이득</td>\n",
       "      <td>해킹</td>\n",
       "      <td>금전 손실</td>\n",
       "    </tr>\n",
       "    <tr>\n",
       "      <th>1</th>\n",
       "      <td>3·20 전산 대란</td>\n",
       "      <td>2013.03.20</td>\n",
       "      <td>MBC, KBS, YTN, 신한은행, 농협, 제주은행</td>\n",
       "      <td>한국</td>\n",
       "      <td>북한 정찰총국</td>\n",
       "      <td>북한</td>\n",
       "      <td>외부</td>\n",
       "      <td>사회혼란</td>\n",
       "      <td>APT</td>\n",
       "      <td>사회혼란</td>\n",
       "    </tr>\n",
       "    <tr>\n",
       "      <th>2</th>\n",
       "      <td>6·25 사이버 테러</td>\n",
       "      <td>2013.06.25</td>\n",
       "      <td>새누리당, 청와대, 정부당국, 언론사, 군장병, 주한미군</td>\n",
       "      <td>한국</td>\n",
       "      <td>북한 정찰총국</td>\n",
       "      <td>북한</td>\n",
       "      <td>외부</td>\n",
       "      <td>사회혼란</td>\n",
       "      <td>ScanNDoS</td>\n",
       "      <td>사회혼란</td>\n",
       "    </tr>\n",
       "    <tr>\n",
       "      <th>3</th>\n",
       "      <td>소니 픽쳐스 해킹</td>\n",
       "      <td>2014.11.24</td>\n",
       "      <td>소니 픽쳐스 엔터테인먼트</td>\n",
       "      <td>미국</td>\n",
       "      <td>북한 정찰총국</td>\n",
       "      <td>북한</td>\n",
       "      <td>외부</td>\n",
       "      <td>정보획득</td>\n",
       "      <td>악성코드</td>\n",
       "      <td>금전 손실</td>\n",
       "    </tr>\n",
       "    <tr>\n",
       "      <th>4</th>\n",
       "      <td>1·25 인터넷 대란</td>\n",
       "      <td>2003.01.25</td>\n",
       "      <td>KT</td>\n",
       "      <td>한국</td>\n",
       "      <td>NaN</td>\n",
       "      <td>NaN</td>\n",
       "      <td>외부</td>\n",
       "      <td>사회혼란</td>\n",
       "      <td>ScanNDoS</td>\n",
       "      <td>사회혼란</td>\n",
       "    </tr>\n",
       "  </tbody>\n",
       "</table>\n",
       "</div>"
      ],
      "text/plain": [
       "     Case_Name        Date                   Affected_Group Affected_Country  \\\n",
       "0      코인체크 공격  2018.01.26                  암호화폐 거래사업자 코인체크               일본   \n",
       "1   3·20 전산 대란  2013.03.20    MBC, KBS, YTN, 신한은행, 농협, 제주은행               한국   \n",
       "2  6·25 사이버 테러  2013.06.25  새누리당, 청와대, 정부당국, 언론사, 군장병, 주한미군               한국   \n",
       "3    소니 픽쳐스 해킹  2014.11.24                    소니 픽쳐스 엔터테인먼트               미국   \n",
       "4  1·25 인터넷 대란  2003.01.25                               KT               한국   \n",
       "\n",
       "  Criminal Criminal_Country InOrOutside_Crime Purpose Attack_Skill Result  \n",
       "0     라자루스               북한                외부  금전적 이득           해킹  금전 손실  \n",
       "1  북한 정찰총국               북한                외부    사회혼란          APT   사회혼란  \n",
       "2  북한 정찰총국               북한                외부    사회혼란     ScanNDoS   사회혼란  \n",
       "3  북한 정찰총국               북한                외부    정보획득         악성코드  금전 손실  \n",
       "4      NaN              NaN                외부    사회혼란     ScanNDoS   사회혼란  "
      ]
     },
     "execution_count": 12,
     "metadata": {},
     "output_type": "execute_result"
    }
   ],
   "source": [
    "# df_new 생성\n",
    "df_new = df[df_usecols]\n",
    "df_new.columns = df_newcols\n",
    "df_new.head()"
   ]
  },
  {
   "cell_type": "markdown",
   "metadata": {},
   "source": [
    "# 데이터 탐색(EDA)"
   ]
  },
  {
   "cell_type": "code",
   "execution_count": 13,
   "metadata": {},
   "outputs": [
    {
     "name": "stdout",
     "output_type": "stream",
     "text": [
      "<class 'pandas.core.frame.DataFrame'>\n",
      "RangeIndex: 306 entries, 0 to 305\n",
      "Data columns (total 10 columns):\n",
      " #   Column             Non-Null Count  Dtype \n",
      "---  ------             --------------  ----- \n",
      " 0   Case_Name          306 non-null    object\n",
      " 1   Date               296 non-null    object\n",
      " 2   Affected_Group     291 non-null    object\n",
      " 3   Affected_Country   287 non-null    object\n",
      " 4   Criminal           199 non-null    object\n",
      " 5   Criminal_Country   188 non-null    object\n",
      " 6   InOrOutside_Crime  260 non-null    object\n",
      " 7   Purpose            300 non-null    object\n",
      " 8   Attack_Skill       300 non-null    object\n",
      " 9   Result             298 non-null    object\n",
      "dtypes: object(10)\n",
      "memory usage: 24.0+ KB\n"
     ]
    }
   ],
   "source": [
    "## 데이터 개수, 데이터 타입, 결측치 확인\n",
    "df_new.info()"
   ]
  },
  {
   "cell_type": "code",
   "execution_count": 14,
   "metadata": {
    "scrolled": false
   },
   "outputs": [
    {
     "data": {
      "text/plain": [
       "<AxesSubplot:>"
      ]
     },
     "execution_count": 14,
     "metadata": {},
     "output_type": "execute_result"
    },
    {
     "data": {
      "image/png": "[encoded data removed]",
      "text/plain": [
       "<Figure size 1800x720 with 2 Axes>"
      ]
     },
     "metadata": {
      "needs_background": "light"
     },
     "output_type": "display_data"
    }
   ],
   "source": [
    "# 결측치 확인\n",
    "msno.matrix(df_new)"
   ]
  },
  {
   "cell_type": "code",
   "execution_count": 15,
   "metadata": {},
   "outputs": [
    {
     "data": {
      "text/plain": [
       "False    300\n",
       "True       6\n",
       "Name: Purpose, dtype: int64"
      ]
     },
     "execution_count": 15,
     "metadata": {},
     "output_type": "execute_result"
    }
   ],
   "source": [
    "# Purpose\n",
    "df_new['Purpose'].isnull().value_counts()"
   ]
  },
  {
   "cell_type": "code",
   "execution_count": 16,
   "metadata": {},
   "outputs": [
    {
     "data": {
      "text/plain": [
       "False    298\n",
       "True       8\n",
       "Name: Result, dtype: int64"
      ]
     },
     "execution_count": 16,
     "metadata": {},
     "output_type": "execute_result"
    }
   ],
   "source": [
    "# Result\n",
    "df_new['Result'].isnull().value_counts()"
   ]
  },
  {
   "cell_type": "code",
   "execution_count": 17,
   "metadata": {
    "scrolled": true
   },
   "outputs": [
    {
     "data": {
      "text/html": [
       "<div>\n",
       "<style scoped>\n",
       "    .dataframe tbody tr th:only-of-type {\n",
       "        vertical-align: middle;\n",
       "    }\n",
       "\n",
       "    .dataframe tbody tr th {\n",
       "        vertical-align: top;\n",
       "    }\n",
       "\n",
       "    .dataframe thead th {\n",
       "        text-align: right;\n",
       "    }\n",
       "</style>\n",
       "<table border=\"1\" class=\"dataframe\">\n",
       "  <thead>\n",
       "    <tr style=\"text-align: right;\">\n",
       "      <th></th>\n",
       "      <th>Case_Name</th>\n",
       "      <th>Date</th>\n",
       "      <th>Affected_Group</th>\n",
       "      <th>Affected_Country</th>\n",
       "      <th>Criminal</th>\n",
       "      <th>Criminal_Country</th>\n",
       "      <th>InOrOutside_Crime</th>\n",
       "      <th>Purpose</th>\n",
       "      <th>Attack_Skill</th>\n",
       "      <th>Result</th>\n",
       "    </tr>\n",
       "  </thead>\n",
       "  <tbody>\n",
       "    <tr>\n",
       "      <th>153</th>\n",
       "      <td>오스트레일리아 사이버공격</td>\n",
       "      <td>2010</td>\n",
       "      <td>NaN</td>\n",
       "      <td>NaN</td>\n",
       "      <td>NaN</td>\n",
       "      <td>NaN</td>\n",
       "      <td>NaN</td>\n",
       "      <td>NaN</td>\n",
       "      <td>NaN</td>\n",
       "      <td>NaN</td>\n",
       "    </tr>\n",
       "    <tr>\n",
       "      <th>155</th>\n",
       "      <td>패이백 작전</td>\n",
       "      <td>2010</td>\n",
       "      <td>NaN</td>\n",
       "      <td>NaN</td>\n",
       "      <td>NaN</td>\n",
       "      <td>NaN</td>\n",
       "      <td>NaN</td>\n",
       "      <td>NaN</td>\n",
       "      <td>NaN</td>\n",
       "      <td>NaN</td>\n",
       "    </tr>\n",
       "    <tr>\n",
       "      <th>163</th>\n",
       "      <td>스트라포르 이메일 유출 사건</td>\n",
       "      <td>2012</td>\n",
       "      <td>NaN</td>\n",
       "      <td>NaN</td>\n",
       "      <td>NaN</td>\n",
       "      <td>NaN</td>\n",
       "      <td>NaN</td>\n",
       "      <td>NaN</td>\n",
       "      <td>NaN</td>\n",
       "      <td>NaN</td>\n",
       "    </tr>\n",
       "    <tr>\n",
       "      <th>166</th>\n",
       "      <td>토바르 작전</td>\n",
       "      <td>2014</td>\n",
       "      <td>NaN</td>\n",
       "      <td>NaN</td>\n",
       "      <td>NaN</td>\n",
       "      <td>NaN</td>\n",
       "      <td>NaN</td>\n",
       "      <td>NaN</td>\n",
       "      <td>NaN</td>\n",
       "      <td>NaN</td>\n",
       "    </tr>\n",
       "    <tr>\n",
       "      <th>178</th>\n",
       "      <td>웨스터민스터 사이버공격</td>\n",
       "      <td>2017</td>\n",
       "      <td>영국</td>\n",
       "      <td>영국, 한국 등</td>\n",
       "      <td>조직</td>\n",
       "      <td>영국</td>\n",
       "      <td>외부</td>\n",
       "      <td>NaN</td>\n",
       "      <td>NaN</td>\n",
       "      <td>NaN</td>\n",
       "    </tr>\n",
       "    <tr>\n",
       "      <th>180</th>\n",
       "      <td>미국 애틀랜타 사이버공격</td>\n",
       "      <td>2018.03</td>\n",
       "      <td>미국 애틀렌타</td>\n",
       "      <td>미국</td>\n",
       "      <td>샘샘(SamSam)</td>\n",
       "      <td>NaN</td>\n",
       "      <td>외부</td>\n",
       "      <td>금전적 이득</td>\n",
       "      <td>악성코드</td>\n",
       "      <td>NaN</td>\n",
       "    </tr>\n",
       "    <tr>\n",
       "      <th>261</th>\n",
       "      <td>후지 제록스 정보 유출</td>\n",
       "      <td>2016</td>\n",
       "      <td>Commonwealth Bank</td>\n",
       "      <td>오스트레일리아</td>\n",
       "      <td>NaN</td>\n",
       "      <td>NaN</td>\n",
       "      <td>NaN</td>\n",
       "      <td>정보 획득</td>\n",
       "      <td>해킹</td>\n",
       "      <td>NaN</td>\n",
       "    </tr>\n",
       "    <tr>\n",
       "      <th>273</th>\n",
       "      <td>청와대 사칭 hwp 한글 악성파일 첨부</td>\n",
       "      <td>2016.01</td>\n",
       "      <td>NaN</td>\n",
       "      <td>한국</td>\n",
       "      <td>NaN</td>\n",
       "      <td>북한</td>\n",
       "      <td>NaN</td>\n",
       "      <td>NaN</td>\n",
       "      <td>NaN</td>\n",
       "      <td>NaN</td>\n",
       "    </tr>\n",
       "  </tbody>\n",
       "</table>\n",
       "</div>"
      ],
      "text/plain": [
       "                 Case_Name     Date     Affected_Group Affected_Country  \\\n",
       "153          오스트레일리아 사이버공격     2010                NaN              NaN   \n",
       "155                 패이백 작전     2010                NaN              NaN   \n",
       "163        스트라포르 이메일 유출 사건     2012                NaN              NaN   \n",
       "166                 토바르 작전     2014                NaN              NaN   \n",
       "178           웨스터민스터 사이버공격     2017                 영국         영국, 한국 등   \n",
       "180          미국 애틀랜타 사이버공격  2018.03            미국 애틀렌타               미국   \n",
       "261           후지 제록스 정보 유출     2016  Commonwealth Bank          오스트레일리아   \n",
       "273  청와대 사칭 hwp 한글 악성파일 첨부  2016.01                NaN               한국   \n",
       "\n",
       "       Criminal Criminal_Country InOrOutside_Crime Purpose Attack_Skill Result  \n",
       "153         NaN              NaN               NaN     NaN          NaN    NaN  \n",
       "155         NaN              NaN               NaN     NaN          NaN    NaN  \n",
       "163         NaN              NaN               NaN     NaN          NaN    NaN  \n",
       "166         NaN              NaN               NaN     NaN          NaN    NaN  \n",
       "178          조직               영국                외부     NaN          NaN    NaN  \n",
       "180  샘샘(SamSam)              NaN                외부  금전적 이득         악성코드    NaN  \n",
       "261         NaN              NaN               NaN   정보 획득           해킹    NaN  \n",
       "273         NaN               북한               NaN     NaN          NaN    NaN  "
      ]
     },
     "execution_count": 17,
     "metadata": {},
     "output_type": "execute_result"
    }
   ],
   "source": [
    "df_new[df_new['Result'].isnull() == True]"
   ]
  },
  {
   "cell_type": "code",
   "execution_count": 18,
   "metadata": {
    "scrolled": true
   },
   "outputs": [
    {
     "name": "stdout",
     "output_type": "stream",
     "text": [
      "<class 'pandas.core.frame.DataFrame'>\n",
      "Int64Index: 298 entries, 0 to 305\n",
      "Data columns (total 10 columns):\n",
      " #   Column             Non-Null Count  Dtype \n",
      "---  ------             --------------  ----- \n",
      " 0   Case_Name          298 non-null    object\n",
      " 1   Date               288 non-null    object\n",
      " 2   Affected_Group     288 non-null    object\n",
      " 3   Affected_Country   283 non-null    object\n",
      " 4   Criminal           197 non-null    object\n",
      " 5   Criminal_Country   186 non-null    object\n",
      " 6   InOrOutside_Crime  258 non-null    object\n",
      " 7   Purpose            298 non-null    object\n",
      " 8   Attack_Skill       298 non-null    object\n",
      " 9   Result             298 non-null    object\n",
      "dtypes: object(10)\n",
      "memory usage: 25.6+ KB\n"
     ]
    }
   ],
   "source": [
    "# 결측치 제거\n",
    "df_dropna = df_new.dropna(subset=['Result'], how='any', axis=0)\n",
    "df_dropna.info()"
   ]
  },
  {
   "cell_type": "code",
   "execution_count": 19,
   "metadata": {},
   "outputs": [
    {
     "data": {
      "text/html": [
       "<div>\n",
       "<style scoped>\n",
       "    .dataframe tbody tr th:only-of-type {\n",
       "        vertical-align: middle;\n",
       "    }\n",
       "\n",
       "    .dataframe tbody tr th {\n",
       "        vertical-align: top;\n",
       "    }\n",
       "\n",
       "    .dataframe thead th {\n",
       "        text-align: right;\n",
       "    }\n",
       "</style>\n",
       "<table border=\"1\" class=\"dataframe\">\n",
       "  <thead>\n",
       "    <tr style=\"text-align: right;\">\n",
       "      <th></th>\n",
       "      <th>Case_Name</th>\n",
       "      <th>Date</th>\n",
       "      <th>Affected_Group</th>\n",
       "      <th>Affected_Country</th>\n",
       "      <th>Criminal</th>\n",
       "      <th>Criminal_Country</th>\n",
       "      <th>InOrOutside_Crime</th>\n",
       "      <th>Purpose</th>\n",
       "      <th>Attack_Skill</th>\n",
       "      <th>Result</th>\n",
       "    </tr>\n",
       "  </thead>\n",
       "  <tbody>\n",
       "    <tr>\n",
       "      <th>0</th>\n",
       "      <td>코인체크 공격</td>\n",
       "      <td>2018.01.26</td>\n",
       "      <td>암호화폐 거래사업자 코인체크</td>\n",
       "      <td>일본</td>\n",
       "      <td>라자루스</td>\n",
       "      <td>북한</td>\n",
       "      <td>외부</td>\n",
       "      <td>금전적 이득</td>\n",
       "      <td>해킹</td>\n",
       "      <td>금전 손실</td>\n",
       "    </tr>\n",
       "    <tr>\n",
       "      <th>1</th>\n",
       "      <td>3·20 전산 대란</td>\n",
       "      <td>2013.03.20</td>\n",
       "      <td>MBC, KBS, YTN, 신한은행, 농협, 제주은행</td>\n",
       "      <td>한국</td>\n",
       "      <td>북한 정찰총국</td>\n",
       "      <td>북한</td>\n",
       "      <td>외부</td>\n",
       "      <td>사회혼란</td>\n",
       "      <td>APT</td>\n",
       "      <td>사회혼란</td>\n",
       "    </tr>\n",
       "    <tr>\n",
       "      <th>2</th>\n",
       "      <td>6·25 사이버 테러</td>\n",
       "      <td>2013.06.25</td>\n",
       "      <td>새누리당, 청와대, 정부당국, 언론사, 군장병, 주한미군</td>\n",
       "      <td>한국</td>\n",
       "      <td>북한 정찰총국</td>\n",
       "      <td>북한</td>\n",
       "      <td>외부</td>\n",
       "      <td>사회혼란</td>\n",
       "      <td>ScanNDoS</td>\n",
       "      <td>사회혼란</td>\n",
       "    </tr>\n",
       "    <tr>\n",
       "      <th>3</th>\n",
       "      <td>소니 픽쳐스 해킹</td>\n",
       "      <td>2014.11.24</td>\n",
       "      <td>소니 픽쳐스 엔터테인먼트</td>\n",
       "      <td>미국</td>\n",
       "      <td>북한 정찰총국</td>\n",
       "      <td>북한</td>\n",
       "      <td>외부</td>\n",
       "      <td>정보획득</td>\n",
       "      <td>악성코드</td>\n",
       "      <td>금전 손실</td>\n",
       "    </tr>\n",
       "    <tr>\n",
       "      <th>4</th>\n",
       "      <td>1·25 인터넷 대란</td>\n",
       "      <td>2003.01.25</td>\n",
       "      <td>KT</td>\n",
       "      <td>한국</td>\n",
       "      <td>NaN</td>\n",
       "      <td>NaN</td>\n",
       "      <td>외부</td>\n",
       "      <td>사회혼란</td>\n",
       "      <td>ScanNDoS</td>\n",
       "      <td>사회혼란</td>\n",
       "    </tr>\n",
       "    <tr>\n",
       "      <th>...</th>\n",
       "      <td>...</td>\n",
       "      <td>...</td>\n",
       "      <td>...</td>\n",
       "      <td>...</td>\n",
       "      <td>...</td>\n",
       "      <td>...</td>\n",
       "      <td>...</td>\n",
       "      <td>...</td>\n",
       "      <td>...</td>\n",
       "      <td>...</td>\n",
       "    </tr>\n",
       "    <tr>\n",
       "      <th>293</th>\n",
       "      <td>개인정보 도용 휴대전화 6000여대 개통</td>\n",
       "      <td>2014</td>\n",
       "      <td>개인</td>\n",
       "      <td>한국</td>\n",
       "      <td>조직</td>\n",
       "      <td>한국</td>\n",
       "      <td>외부</td>\n",
       "      <td>금전적 이득</td>\n",
       "      <td>도박</td>\n",
       "      <td>금전 손실</td>\n",
       "    </tr>\n",
       "    <tr>\n",
       "      <th>294</th>\n",
       "      <td>바카라 인터넷 도박</td>\n",
       "      <td>2008</td>\n",
       "      <td>NaN</td>\n",
       "      <td>NaN</td>\n",
       "      <td>조직</td>\n",
       "      <td>한국</td>\n",
       "      <td>외부</td>\n",
       "      <td>금전적 이득</td>\n",
       "      <td>도박</td>\n",
       "      <td>사회혼란</td>\n",
       "    </tr>\n",
       "    <tr>\n",
       "      <th>295</th>\n",
       "      <td>조직폭력배 개입 불법 인터넷 도박사이트</td>\n",
       "      <td>2011</td>\n",
       "      <td>NaN</td>\n",
       "      <td>NaN</td>\n",
       "      <td>조직</td>\n",
       "      <td>한국</td>\n",
       "      <td>외부</td>\n",
       "      <td>금전적 이득</td>\n",
       "      <td>도박</td>\n",
       "      <td>사회혼란</td>\n",
       "    </tr>\n",
       "    <tr>\n",
       "      <th>296</th>\n",
       "      <td>장애인 대상 소액결제</td>\n",
       "      <td>2021</td>\n",
       "      <td>지적장애인 여성</td>\n",
       "      <td>한국</td>\n",
       "      <td>20대 남성,여성(조직)</td>\n",
       "      <td>한국</td>\n",
       "      <td>외부</td>\n",
       "      <td>금전적 이득</td>\n",
       "      <td>도박</td>\n",
       "      <td>금전 손실</td>\n",
       "    </tr>\n",
       "    <tr>\n",
       "      <th>297</th>\n",
       "      <td>10대 불법도박,2차 범죄</td>\n",
       "      <td>2020</td>\n",
       "      <td>NaN</td>\n",
       "      <td>NaN</td>\n",
       "      <td>10대 남성</td>\n",
       "      <td>한국</td>\n",
       "      <td>외부</td>\n",
       "      <td>금전적 이득</td>\n",
       "      <td>도박</td>\n",
       "      <td>사회혼란</td>\n",
       "    </tr>\n",
       "  </tbody>\n",
       "</table>\n",
       "<p>298 rows × 10 columns</p>\n",
       "</div>"
      ],
      "text/plain": [
       "                  Case_Name        Date                   Affected_Group  \\\n",
       "0                   코인체크 공격  2018.01.26                  암호화폐 거래사업자 코인체크   \n",
       "1                3·20 전산 대란  2013.03.20    MBC, KBS, YTN, 신한은행, 농협, 제주은행   \n",
       "2               6·25 사이버 테러  2013.06.25  새누리당, 청와대, 정부당국, 언론사, 군장병, 주한미군   \n",
       "3                 소니 픽쳐스 해킹  2014.11.24                    소니 픽쳐스 엔터테인먼트   \n",
       "4               1·25 인터넷 대란  2003.01.25                               KT   \n",
       "..                      ...         ...                              ...   \n",
       "293  개인정보 도용 휴대전화 6000여대 개통        2014                               개인   \n",
       "294              바카라 인터넷 도박        2008                              NaN   \n",
       "295   조직폭력배 개입 불법 인터넷 도박사이트        2011                              NaN   \n",
       "296             장애인 대상 소액결제        2021                         지적장애인 여성   \n",
       "297          10대 불법도박,2차 범죄        2020                              NaN   \n",
       "\n",
       "    Affected_Country       Criminal Criminal_Country InOrOutside_Crime  \\\n",
       "0                 일본           라자루스               북한                외부   \n",
       "1                 한국        북한 정찰총국               북한                외부   \n",
       "2                 한국        북한 정찰총국               북한                외부   \n",
       "3                 미국        북한 정찰총국               북한                외부   \n",
       "4                 한국            NaN              NaN                외부   \n",
       "..               ...            ...              ...               ...   \n",
       "293               한국             조직               한국                외부   \n",
       "294              NaN             조직               한국                외부   \n",
       "295              NaN             조직               한국                외부   \n",
       "296               한국  20대 남성,여성(조직)               한국                외부   \n",
       "297              NaN         10대 남성               한국                외부   \n",
       "\n",
       "    Purpose Attack_Skill Result  \n",
       "0    금전적 이득           해킹  금전 손실  \n",
       "1      사회혼란          APT   사회혼란  \n",
       "2      사회혼란     ScanNDoS   사회혼란  \n",
       "3      정보획득         악성코드  금전 손실  \n",
       "4      사회혼란     ScanNDoS   사회혼란  \n",
       "..      ...          ...    ...  \n",
       "293  금전적 이득           도박  금전 손실  \n",
       "294  금전적 이득           도박   사회혼란  \n",
       "295  금전적 이득           도박   사회혼란  \n",
       "296  금전적 이득           도박  금전 손실  \n",
       "297  금전적 이득           도박   사회혼란  \n",
       "\n",
       "[298 rows x 10 columns]"
      ]
     },
     "execution_count": 19,
     "metadata": {},
     "output_type": "execute_result"
    }
   ],
   "source": [
    "# index 새로 생성\n",
    "df_dropna.reset_index(drop=True, inplace=True)\n",
    "df_dropna"
   ]
  },
  {
   "cell_type": "code",
   "execution_count": 20,
   "metadata": {},
   "outputs": [
    {
     "data": {
      "text/plain": [
       "옥션 개인정보 유출 사건                1\n",
       "허위사실 SNS글 1년 넘게 공유           1\n",
       "Damai 회원정보 유출                1\n",
       "하나투어 개인정보 유출 사건              1\n",
       "대한항공(군 무인정찰기 생산) 해킹          1\n",
       "                            ..\n",
       "국방통합데이터센터(DIDC) 해킹           1\n",
       "도박게임 사이버머니 환전업체 운영 경찰관 구속    1\n",
       "EBS 개인정보 유출 사건               1\n",
       "일대일 비밀대화 명예훼손죄 성립            1\n",
       "삼성 메신저 사칭 악성메일 이슈            1\n",
       "Name: Case_Name, Length: 298, dtype: int64"
      ]
     },
     "execution_count": 20,
     "metadata": {},
     "output_type": "execute_result"
    }
   ],
   "source": [
    "df_dropna['Case_Name'].value_counts()"
   ]
  },
  {
   "cell_type": "code",
   "execution_count": 21,
   "metadata": {},
   "outputs": [
    {
     "data": {
      "text/plain": [
       "False    298\n",
       "Name: Result, dtype: int64"
      ]
     },
     "execution_count": 21,
     "metadata": {},
     "output_type": "execute_result"
    }
   ],
   "source": [
    "df_dropna['Result'].isnull().value_counts()"
   ]
  },
  {
   "cell_type": "code",
   "execution_count": 22,
   "metadata": {},
   "outputs": [
    {
     "data": {
      "text/plain": [
       "금전적 이득                151\n",
       "군, 국가핵심시설에 관한 정보탈취     35\n",
       "정치적 목적달성               25\n",
       "분노표출                   16\n",
       "사회혼란                   15\n",
       "경쟁에서 우위선점              14\n",
       "정보획득                   10\n",
       "국가기능 마비                 8\n",
       "기타                      6\n",
       "사고                      4\n",
       "우월감                     4\n",
       "영웅심                     3\n",
       "실력과시                    3\n",
       "정보 획득                   2\n",
       "개인정보수집                  1\n",
       "종교적 목적                  1\n",
       "Name: Purpose, dtype: int64"
      ]
     },
     "execution_count": 22,
     "metadata": {},
     "output_type": "execute_result"
    }
   ],
   "source": [
    "df_dropna['Purpose'].value_counts()"
   ]
  },
  {
   "cell_type": "code",
   "execution_count": 23,
   "metadata": {},
   "outputs": [
    {
     "data": {
      "text/plain": [
       "개인정보 유출    96\n",
       "사회혼란       61\n",
       "금전 손실      50\n",
       "정신적 피해     31\n",
       "국가기밀유출     27\n",
       "평판훼손       11\n",
       "산업기술 유출    10\n",
       "신뢰하락        4\n",
       "사회 혼란       4\n",
       "데이터 손실      3\n",
       "저작권 침해      1\n",
       "Name: Result, dtype: int64"
      ]
     },
     "execution_count": 23,
     "metadata": {},
     "output_type": "execute_result"
    }
   ],
   "source": [
    "df_dropna['Result'].value_counts()"
   ]
  },
  {
   "cell_type": "markdown",
   "metadata": {},
   "source": [
    "# 명목형 변수 수치화"
   ]
  },
  {
   "cell_type": "code",
   "execution_count": 24,
   "metadata": {},
   "outputs": [
    {
     "data": {
      "text/html": [
       "<div>\n",
       "<style scoped>\n",
       "    .dataframe tbody tr th:only-of-type {\n",
       "        vertical-align: middle;\n",
       "    }\n",
       "\n",
       "    .dataframe tbody tr th {\n",
       "        vertical-align: top;\n",
       "    }\n",
       "\n",
       "    .dataframe thead th {\n",
       "        text-align: right;\n",
       "    }\n",
       "</style>\n",
       "<table border=\"1\" class=\"dataframe\">\n",
       "  <thead>\n",
       "    <tr style=\"text-align: right;\">\n",
       "      <th></th>\n",
       "      <th>Case_Name</th>\n",
       "      <th>Purpose</th>\n",
       "    </tr>\n",
       "  </thead>\n",
       "  <tbody>\n",
       "    <tr>\n",
       "      <th>0</th>\n",
       "      <td>코인체크 공격</td>\n",
       "      <td>금전적 이득</td>\n",
       "    </tr>\n",
       "    <tr>\n",
       "      <th>1</th>\n",
       "      <td>3·20 전산 대란</td>\n",
       "      <td>사회혼란</td>\n",
       "    </tr>\n",
       "    <tr>\n",
       "      <th>2</th>\n",
       "      <td>6·25 사이버 테러</td>\n",
       "      <td>사회혼란</td>\n",
       "    </tr>\n",
       "    <tr>\n",
       "      <th>3</th>\n",
       "      <td>소니 픽쳐스 해킹</td>\n",
       "      <td>정보획득</td>\n",
       "    </tr>\n",
       "    <tr>\n",
       "      <th>4</th>\n",
       "      <td>1·25 인터넷 대란</td>\n",
       "      <td>사회혼란</td>\n",
       "    </tr>\n",
       "    <tr>\n",
       "      <th>...</th>\n",
       "      <td>...</td>\n",
       "      <td>...</td>\n",
       "    </tr>\n",
       "    <tr>\n",
       "      <th>293</th>\n",
       "      <td>개인정보 도용 휴대전화 6000여대 개통</td>\n",
       "      <td>금전적 이득</td>\n",
       "    </tr>\n",
       "    <tr>\n",
       "      <th>294</th>\n",
       "      <td>바카라 인터넷 도박</td>\n",
       "      <td>금전적 이득</td>\n",
       "    </tr>\n",
       "    <tr>\n",
       "      <th>295</th>\n",
       "      <td>조직폭력배 개입 불법 인터넷 도박사이트</td>\n",
       "      <td>금전적 이득</td>\n",
       "    </tr>\n",
       "    <tr>\n",
       "      <th>296</th>\n",
       "      <td>장애인 대상 소액결제</td>\n",
       "      <td>금전적 이득</td>\n",
       "    </tr>\n",
       "    <tr>\n",
       "      <th>297</th>\n",
       "      <td>10대 불법도박,2차 범죄</td>\n",
       "      <td>금전적 이득</td>\n",
       "    </tr>\n",
       "  </tbody>\n",
       "</table>\n",
       "<p>298 rows × 2 columns</p>\n",
       "</div>"
      ],
      "text/plain": [
       "                  Case_Name Purpose\n",
       "0                   코인체크 공격  금전적 이득\n",
       "1                3·20 전산 대란    사회혼란\n",
       "2               6·25 사이버 테러    사회혼란\n",
       "3                 소니 픽쳐스 해킹    정보획득\n",
       "4               1·25 인터넷 대란    사회혼란\n",
       "..                      ...     ...\n",
       "293  개인정보 도용 휴대전화 6000여대 개통  금전적 이득\n",
       "294              바카라 인터넷 도박  금전적 이득\n",
       "295   조직폭력배 개입 불법 인터넷 도박사이트  금전적 이득\n",
       "296             장애인 대상 소액결제  금전적 이득\n",
       "297          10대 불법도박,2차 범죄  금전적 이득\n",
       "\n",
       "[298 rows x 2 columns]"
      ]
     },
     "execution_count": 24,
     "metadata": {},
     "output_type": "execute_result"
    }
   ],
   "source": [
    "## Purpose\n",
    "df_purpose = df_dropna[['Case_Name', 'Purpose']]\n",
    "df_purpose"
   ]
  },
  {
   "cell_type": "code",
   "execution_count": 25,
   "metadata": {},
   "outputs": [
    {
     "data": {
      "text/plain": [
       "16"
      ]
     },
     "execution_count": 25,
     "metadata": {},
     "output_type": "execute_result"
    }
   ],
   "source": [
    "# 명목형 변수의 값 개수\n",
    "df_purpose['Purpose'].nunique()"
   ]
  },
  {
   "cell_type": "code",
   "execution_count": 26,
   "metadata": {},
   "outputs": [
    {
     "data": {
      "text/plain": [
       "array([0., 0., 0., 0., 1., 0., 0., 0., 0., 0., 0., 0., 0., 0., 0., 0.])"
      ]
     },
     "execution_count": 26,
     "metadata": {},
     "output_type": "execute_result"
    }
   ],
   "source": [
    "# One-hot Encoding\n",
    "from sklearn.preprocessing import OneHotEncoder\n",
    "\n",
    "ohe = OneHotEncoder(sparse=False)\n",
    "\n",
    "ohe.fit(df_purpose[['Purpose']])\n",
    "ohe_trans = ohe.transform(df_purpose[['Purpose']])\n",
    "ohe_trans[-1]"
   ]
  },
  {
   "cell_type": "code",
   "execution_count": 27,
   "metadata": {},
   "outputs": [
    {
     "name": "stdout",
     "output_type": "stream",
     "text": [
      "['pp0', 'pp1', 'pp2', 'pp3', 'pp4', 'pp5', 'pp6', 'pp7', 'pp8', 'pp9', 'pp10', 'pp11', 'pp12', 'pp13', 'pp14', 'pp15']\n"
     ]
    }
   ],
   "source": [
    "pcols = list(map(lambda x: 'pp'+str(x), range(16)))\n",
    "print(pcols)"
   ]
  },
  {
   "cell_type": "code",
   "execution_count": 28,
   "metadata": {
    "scrolled": true
   },
   "outputs": [
    {
     "data": {
      "text/html": [
       "<div>\n",
       "<style scoped>\n",
       "    .dataframe tbody tr th:only-of-type {\n",
       "        vertical-align: middle;\n",
       "    }\n",
       "\n",
       "    .dataframe tbody tr th {\n",
       "        vertical-align: top;\n",
       "    }\n",
       "\n",
       "    .dataframe thead th {\n",
       "        text-align: right;\n",
       "    }\n",
       "</style>\n",
       "<table border=\"1\" class=\"dataframe\">\n",
       "  <thead>\n",
       "    <tr style=\"text-align: right;\">\n",
       "      <th></th>\n",
       "      <th>pp0</th>\n",
       "      <th>pp1</th>\n",
       "      <th>pp2</th>\n",
       "      <th>pp3</th>\n",
       "      <th>pp4</th>\n",
       "      <th>pp5</th>\n",
       "      <th>pp6</th>\n",
       "      <th>pp7</th>\n",
       "      <th>pp8</th>\n",
       "      <th>pp9</th>\n",
       "      <th>pp10</th>\n",
       "      <th>pp11</th>\n",
       "      <th>pp12</th>\n",
       "      <th>pp13</th>\n",
       "      <th>pp14</th>\n",
       "      <th>pp15</th>\n",
       "    </tr>\n",
       "  </thead>\n",
       "  <tbody>\n",
       "    <tr>\n",
       "      <th>0</th>\n",
       "      <td>0.0</td>\n",
       "      <td>0.0</td>\n",
       "      <td>0.0</td>\n",
       "      <td>0.0</td>\n",
       "      <td>1.0</td>\n",
       "      <td>0.0</td>\n",
       "      <td>0.0</td>\n",
       "      <td>0.0</td>\n",
       "      <td>0.0</td>\n",
       "      <td>0.0</td>\n",
       "      <td>0.0</td>\n",
       "      <td>0.0</td>\n",
       "      <td>0.0</td>\n",
       "      <td>0.0</td>\n",
       "      <td>0.0</td>\n",
       "      <td>0.0</td>\n",
       "    </tr>\n",
       "    <tr>\n",
       "      <th>1</th>\n",
       "      <td>0.0</td>\n",
       "      <td>0.0</td>\n",
       "      <td>0.0</td>\n",
       "      <td>0.0</td>\n",
       "      <td>0.0</td>\n",
       "      <td>0.0</td>\n",
       "      <td>0.0</td>\n",
       "      <td>0.0</td>\n",
       "      <td>1.0</td>\n",
       "      <td>0.0</td>\n",
       "      <td>0.0</td>\n",
       "      <td>0.0</td>\n",
       "      <td>0.0</td>\n",
       "      <td>0.0</td>\n",
       "      <td>0.0</td>\n",
       "      <td>0.0</td>\n",
       "    </tr>\n",
       "    <tr>\n",
       "      <th>2</th>\n",
       "      <td>0.0</td>\n",
       "      <td>0.0</td>\n",
       "      <td>0.0</td>\n",
       "      <td>0.0</td>\n",
       "      <td>0.0</td>\n",
       "      <td>0.0</td>\n",
       "      <td>0.0</td>\n",
       "      <td>0.0</td>\n",
       "      <td>1.0</td>\n",
       "      <td>0.0</td>\n",
       "      <td>0.0</td>\n",
       "      <td>0.0</td>\n",
       "      <td>0.0</td>\n",
       "      <td>0.0</td>\n",
       "      <td>0.0</td>\n",
       "      <td>0.0</td>\n",
       "    </tr>\n",
       "    <tr>\n",
       "      <th>3</th>\n",
       "      <td>0.0</td>\n",
       "      <td>0.0</td>\n",
       "      <td>0.0</td>\n",
       "      <td>0.0</td>\n",
       "      <td>0.0</td>\n",
       "      <td>0.0</td>\n",
       "      <td>0.0</td>\n",
       "      <td>0.0</td>\n",
       "      <td>0.0</td>\n",
       "      <td>0.0</td>\n",
       "      <td>0.0</td>\n",
       "      <td>0.0</td>\n",
       "      <td>0.0</td>\n",
       "      <td>1.0</td>\n",
       "      <td>0.0</td>\n",
       "      <td>0.0</td>\n",
       "    </tr>\n",
       "    <tr>\n",
       "      <th>4</th>\n",
       "      <td>0.0</td>\n",
       "      <td>0.0</td>\n",
       "      <td>0.0</td>\n",
       "      <td>0.0</td>\n",
       "      <td>0.0</td>\n",
       "      <td>0.0</td>\n",
       "      <td>0.0</td>\n",
       "      <td>0.0</td>\n",
       "      <td>1.0</td>\n",
       "      <td>0.0</td>\n",
       "      <td>0.0</td>\n",
       "      <td>0.0</td>\n",
       "      <td>0.0</td>\n",
       "      <td>0.0</td>\n",
       "      <td>0.0</td>\n",
       "      <td>0.0</td>\n",
       "    </tr>\n",
       "    <tr>\n",
       "      <th>...</th>\n",
       "      <td>...</td>\n",
       "      <td>...</td>\n",
       "      <td>...</td>\n",
       "      <td>...</td>\n",
       "      <td>...</td>\n",
       "      <td>...</td>\n",
       "      <td>...</td>\n",
       "      <td>...</td>\n",
       "      <td>...</td>\n",
       "      <td>...</td>\n",
       "      <td>...</td>\n",
       "      <td>...</td>\n",
       "      <td>...</td>\n",
       "      <td>...</td>\n",
       "      <td>...</td>\n",
       "      <td>...</td>\n",
       "    </tr>\n",
       "    <tr>\n",
       "      <th>293</th>\n",
       "      <td>0.0</td>\n",
       "      <td>0.0</td>\n",
       "      <td>0.0</td>\n",
       "      <td>0.0</td>\n",
       "      <td>1.0</td>\n",
       "      <td>0.0</td>\n",
       "      <td>0.0</td>\n",
       "      <td>0.0</td>\n",
       "      <td>0.0</td>\n",
       "      <td>0.0</td>\n",
       "      <td>0.0</td>\n",
       "      <td>0.0</td>\n",
       "      <td>0.0</td>\n",
       "      <td>0.0</td>\n",
       "      <td>0.0</td>\n",
       "      <td>0.0</td>\n",
       "    </tr>\n",
       "    <tr>\n",
       "      <th>294</th>\n",
       "      <td>0.0</td>\n",
       "      <td>0.0</td>\n",
       "      <td>0.0</td>\n",
       "      <td>0.0</td>\n",
       "      <td>1.0</td>\n",
       "      <td>0.0</td>\n",
       "      <td>0.0</td>\n",
       "      <td>0.0</td>\n",
       "      <td>0.0</td>\n",
       "      <td>0.0</td>\n",
       "      <td>0.0</td>\n",
       "      <td>0.0</td>\n",
       "      <td>0.0</td>\n",
       "      <td>0.0</td>\n",
       "      <td>0.0</td>\n",
       "      <td>0.0</td>\n",
       "    </tr>\n",
       "    <tr>\n",
       "      <th>295</th>\n",
       "      <td>0.0</td>\n",
       "      <td>0.0</td>\n",
       "      <td>0.0</td>\n",
       "      <td>0.0</td>\n",
       "      <td>1.0</td>\n",
       "      <td>0.0</td>\n",
       "      <td>0.0</td>\n",
       "      <td>0.0</td>\n",
       "      <td>0.0</td>\n",
       "      <td>0.0</td>\n",
       "      <td>0.0</td>\n",
       "      <td>0.0</td>\n",
       "      <td>0.0</td>\n",
       "      <td>0.0</td>\n",
       "      <td>0.0</td>\n",
       "      <td>0.0</td>\n",
       "    </tr>\n",
       "    <tr>\n",
       "      <th>296</th>\n",
       "      <td>0.0</td>\n",
       "      <td>0.0</td>\n",
       "      <td>0.0</td>\n",
       "      <td>0.0</td>\n",
       "      <td>1.0</td>\n",
       "      <td>0.0</td>\n",
       "      <td>0.0</td>\n",
       "      <td>0.0</td>\n",
       "      <td>0.0</td>\n",
       "      <td>0.0</td>\n",
       "      <td>0.0</td>\n",
       "      <td>0.0</td>\n",
       "      <td>0.0</td>\n",
       "      <td>0.0</td>\n",
       "      <td>0.0</td>\n",
       "      <td>0.0</td>\n",
       "    </tr>\n",
       "    <tr>\n",
       "      <th>297</th>\n",
       "      <td>0.0</td>\n",
       "      <td>0.0</td>\n",
       "      <td>0.0</td>\n",
       "      <td>0.0</td>\n",
       "      <td>1.0</td>\n",
       "      <td>0.0</td>\n",
       "      <td>0.0</td>\n",
       "      <td>0.0</td>\n",
       "      <td>0.0</td>\n",
       "      <td>0.0</td>\n",
       "      <td>0.0</td>\n",
       "      <td>0.0</td>\n",
       "      <td>0.0</td>\n",
       "      <td>0.0</td>\n",
       "      <td>0.0</td>\n",
       "      <td>0.0</td>\n",
       "    </tr>\n",
       "  </tbody>\n",
       "</table>\n",
       "<p>298 rows × 16 columns</p>\n",
       "</div>"
      ],
      "text/plain": [
       "     pp0  pp1  pp2  pp3  pp4  pp5  pp6  pp7  pp8  pp9  pp10  pp11  pp12  pp13  \\\n",
       "0    0.0  0.0  0.0  0.0  1.0  0.0  0.0  0.0  0.0  0.0   0.0   0.0   0.0   0.0   \n",
       "1    0.0  0.0  0.0  0.0  0.0  0.0  0.0  0.0  1.0  0.0   0.0   0.0   0.0   0.0   \n",
       "2    0.0  0.0  0.0  0.0  0.0  0.0  0.0  0.0  1.0  0.0   0.0   0.0   0.0   0.0   \n",
       "3    0.0  0.0  0.0  0.0  0.0  0.0  0.0  0.0  0.0  0.0   0.0   0.0   0.0   1.0   \n",
       "4    0.0  0.0  0.0  0.0  0.0  0.0  0.0  0.0  1.0  0.0   0.0   0.0   0.0   0.0   \n",
       "..   ...  ...  ...  ...  ...  ...  ...  ...  ...  ...   ...   ...   ...   ...   \n",
       "293  0.0  0.0  0.0  0.0  1.0  0.0  0.0  0.0  0.0  0.0   0.0   0.0   0.0   0.0   \n",
       "294  0.0  0.0  0.0  0.0  1.0  0.0  0.0  0.0  0.0  0.0   0.0   0.0   0.0   0.0   \n",
       "295  0.0  0.0  0.0  0.0  1.0  0.0  0.0  0.0  0.0  0.0   0.0   0.0   0.0   0.0   \n",
       "296  0.0  0.0  0.0  0.0  1.0  0.0  0.0  0.0  0.0  0.0   0.0   0.0   0.0   0.0   \n",
       "297  0.0  0.0  0.0  0.0  1.0  0.0  0.0  0.0  0.0  0.0   0.0   0.0   0.0   0.0   \n",
       "\n",
       "     pp14  pp15  \n",
       "0     0.0   0.0  \n",
       "1     0.0   0.0  \n",
       "2     0.0   0.0  \n",
       "3     0.0   0.0  \n",
       "4     0.0   0.0  \n",
       "..    ...   ...  \n",
       "293   0.0   0.0  \n",
       "294   0.0   0.0  \n",
       "295   0.0   0.0  \n",
       "296   0.0   0.0  \n",
       "297   0.0   0.0  \n",
       "\n",
       "[298 rows x 16 columns]"
      ]
     },
     "execution_count": 28,
     "metadata": {},
     "output_type": "execute_result"
    }
   ],
   "source": [
    "# 인코딩 변수 데이터프레임화\n",
    "df_ohe = pd.DataFrame(ohe_trans)\n",
    "df_ohe.columns = pcols\n",
    "df_ohe"
   ]
  },
  {
   "cell_type": "code",
   "execution_count": 29,
   "metadata": {},
   "outputs": [
    {
     "data": {
      "text/html": [
       "<div>\n",
       "<style scoped>\n",
       "    .dataframe tbody tr th:only-of-type {\n",
       "        vertical-align: middle;\n",
       "    }\n",
       "\n",
       "    .dataframe tbody tr th {\n",
       "        vertical-align: top;\n",
       "    }\n",
       "\n",
       "    .dataframe thead th {\n",
       "        text-align: right;\n",
       "    }\n",
       "</style>\n",
       "<table border=\"1\" class=\"dataframe\">\n",
       "  <thead>\n",
       "    <tr style=\"text-align: right;\">\n",
       "      <th></th>\n",
       "      <th>Case_Name</th>\n",
       "      <th>Purpose</th>\n",
       "      <th>pp0</th>\n",
       "      <th>pp1</th>\n",
       "      <th>pp2</th>\n",
       "      <th>pp3</th>\n",
       "      <th>pp4</th>\n",
       "      <th>pp5</th>\n",
       "      <th>pp6</th>\n",
       "      <th>pp7</th>\n",
       "      <th>pp8</th>\n",
       "      <th>pp9</th>\n",
       "      <th>pp10</th>\n",
       "      <th>pp11</th>\n",
       "      <th>pp12</th>\n",
       "      <th>pp13</th>\n",
       "      <th>pp14</th>\n",
       "      <th>pp15</th>\n",
       "    </tr>\n",
       "  </thead>\n",
       "  <tbody>\n",
       "    <tr>\n",
       "      <th>0</th>\n",
       "      <td>코인체크 공격</td>\n",
       "      <td>금전적 이득</td>\n",
       "      <td>0.0</td>\n",
       "      <td>0.0</td>\n",
       "      <td>0.0</td>\n",
       "      <td>0.0</td>\n",
       "      <td>1.0</td>\n",
       "      <td>0.0</td>\n",
       "      <td>0.0</td>\n",
       "      <td>0.0</td>\n",
       "      <td>0.0</td>\n",
       "      <td>0.0</td>\n",
       "      <td>0.0</td>\n",
       "      <td>0.0</td>\n",
       "      <td>0.0</td>\n",
       "      <td>0.0</td>\n",
       "      <td>0.0</td>\n",
       "      <td>0.0</td>\n",
       "    </tr>\n",
       "    <tr>\n",
       "      <th>1</th>\n",
       "      <td>3·20 전산 대란</td>\n",
       "      <td>사회혼란</td>\n",
       "      <td>0.0</td>\n",
       "      <td>0.0</td>\n",
       "      <td>0.0</td>\n",
       "      <td>0.0</td>\n",
       "      <td>0.0</td>\n",
       "      <td>0.0</td>\n",
       "      <td>0.0</td>\n",
       "      <td>0.0</td>\n",
       "      <td>1.0</td>\n",
       "      <td>0.0</td>\n",
       "      <td>0.0</td>\n",
       "      <td>0.0</td>\n",
       "      <td>0.0</td>\n",
       "      <td>0.0</td>\n",
       "      <td>0.0</td>\n",
       "      <td>0.0</td>\n",
       "    </tr>\n",
       "    <tr>\n",
       "      <th>2</th>\n",
       "      <td>6·25 사이버 테러</td>\n",
       "      <td>사회혼란</td>\n",
       "      <td>0.0</td>\n",
       "      <td>0.0</td>\n",
       "      <td>0.0</td>\n",
       "      <td>0.0</td>\n",
       "      <td>0.0</td>\n",
       "      <td>0.0</td>\n",
       "      <td>0.0</td>\n",
       "      <td>0.0</td>\n",
       "      <td>1.0</td>\n",
       "      <td>0.0</td>\n",
       "      <td>0.0</td>\n",
       "      <td>0.0</td>\n",
       "      <td>0.0</td>\n",
       "      <td>0.0</td>\n",
       "      <td>0.0</td>\n",
       "      <td>0.0</td>\n",
       "    </tr>\n",
       "    <tr>\n",
       "      <th>3</th>\n",
       "      <td>소니 픽쳐스 해킹</td>\n",
       "      <td>정보획득</td>\n",
       "      <td>0.0</td>\n",
       "      <td>0.0</td>\n",
       "      <td>0.0</td>\n",
       "      <td>0.0</td>\n",
       "      <td>0.0</td>\n",
       "      <td>0.0</td>\n",
       "      <td>0.0</td>\n",
       "      <td>0.0</td>\n",
       "      <td>0.0</td>\n",
       "      <td>0.0</td>\n",
       "      <td>0.0</td>\n",
       "      <td>0.0</td>\n",
       "      <td>0.0</td>\n",
       "      <td>1.0</td>\n",
       "      <td>0.0</td>\n",
       "      <td>0.0</td>\n",
       "    </tr>\n",
       "    <tr>\n",
       "      <th>4</th>\n",
       "      <td>1·25 인터넷 대란</td>\n",
       "      <td>사회혼란</td>\n",
       "      <td>0.0</td>\n",
       "      <td>0.0</td>\n",
       "      <td>0.0</td>\n",
       "      <td>0.0</td>\n",
       "      <td>0.0</td>\n",
       "      <td>0.0</td>\n",
       "      <td>0.0</td>\n",
       "      <td>0.0</td>\n",
       "      <td>1.0</td>\n",
       "      <td>0.0</td>\n",
       "      <td>0.0</td>\n",
       "      <td>0.0</td>\n",
       "      <td>0.0</td>\n",
       "      <td>0.0</td>\n",
       "      <td>0.0</td>\n",
       "      <td>0.0</td>\n",
       "    </tr>\n",
       "    <tr>\n",
       "      <th>...</th>\n",
       "      <td>...</td>\n",
       "      <td>...</td>\n",
       "      <td>...</td>\n",
       "      <td>...</td>\n",
       "      <td>...</td>\n",
       "      <td>...</td>\n",
       "      <td>...</td>\n",
       "      <td>...</td>\n",
       "      <td>...</td>\n",
       "      <td>...</td>\n",
       "      <td>...</td>\n",
       "      <td>...</td>\n",
       "      <td>...</td>\n",
       "      <td>...</td>\n",
       "      <td>...</td>\n",
       "      <td>...</td>\n",
       "      <td>...</td>\n",
       "      <td>...</td>\n",
       "    </tr>\n",
       "    <tr>\n",
       "      <th>293</th>\n",
       "      <td>개인정보 도용 휴대전화 6000여대 개통</td>\n",
       "      <td>금전적 이득</td>\n",
       "      <td>0.0</td>\n",
       "      <td>0.0</td>\n",
       "      <td>0.0</td>\n",
       "      <td>0.0</td>\n",
       "      <td>1.0</td>\n",
       "      <td>0.0</td>\n",
       "      <td>0.0</td>\n",
       "      <td>0.0</td>\n",
       "      <td>0.0</td>\n",
       "      <td>0.0</td>\n",
       "      <td>0.0</td>\n",
       "      <td>0.0</td>\n",
       "      <td>0.0</td>\n",
       "      <td>0.0</td>\n",
       "      <td>0.0</td>\n",
       "      <td>0.0</td>\n",
       "    </tr>\n",
       "    <tr>\n",
       "      <th>294</th>\n",
       "      <td>바카라 인터넷 도박</td>\n",
       "      <td>금전적 이득</td>\n",
       "      <td>0.0</td>\n",
       "      <td>0.0</td>\n",
       "      <td>0.0</td>\n",
       "      <td>0.0</td>\n",
       "      <td>1.0</td>\n",
       "      <td>0.0</td>\n",
       "      <td>0.0</td>\n",
       "      <td>0.0</td>\n",
       "      <td>0.0</td>\n",
       "      <td>0.0</td>\n",
       "      <td>0.0</td>\n",
       "      <td>0.0</td>\n",
       "      <td>0.0</td>\n",
       "      <td>0.0</td>\n",
       "      <td>0.0</td>\n",
       "      <td>0.0</td>\n",
       "    </tr>\n",
       "    <tr>\n",
       "      <th>295</th>\n",
       "      <td>조직폭력배 개입 불법 인터넷 도박사이트</td>\n",
       "      <td>금전적 이득</td>\n",
       "      <td>0.0</td>\n",
       "      <td>0.0</td>\n",
       "      <td>0.0</td>\n",
       "      <td>0.0</td>\n",
       "      <td>1.0</td>\n",
       "      <td>0.0</td>\n",
       "      <td>0.0</td>\n",
       "      <td>0.0</td>\n",
       "      <td>0.0</td>\n",
       "      <td>0.0</td>\n",
       "      <td>0.0</td>\n",
       "      <td>0.0</td>\n",
       "      <td>0.0</td>\n",
       "      <td>0.0</td>\n",
       "      <td>0.0</td>\n",
       "      <td>0.0</td>\n",
       "    </tr>\n",
       "    <tr>\n",
       "      <th>296</th>\n",
       "      <td>장애인 대상 소액결제</td>\n",
       "      <td>금전적 이득</td>\n",
       "      <td>0.0</td>\n",
       "      <td>0.0</td>\n",
       "      <td>0.0</td>\n",
       "      <td>0.0</td>\n",
       "      <td>1.0</td>\n",
       "      <td>0.0</td>\n",
       "      <td>0.0</td>\n",
       "      <td>0.0</td>\n",
       "      <td>0.0</td>\n",
       "      <td>0.0</td>\n",
       "      <td>0.0</td>\n",
       "      <td>0.0</td>\n",
       "      <td>0.0</td>\n",
       "      <td>0.0</td>\n",
       "      <td>0.0</td>\n",
       "      <td>0.0</td>\n",
       "    </tr>\n",
       "    <tr>\n",
       "      <th>297</th>\n",
       "      <td>10대 불법도박,2차 범죄</td>\n",
       "      <td>금전적 이득</td>\n",
       "      <td>0.0</td>\n",
       "      <td>0.0</td>\n",
       "      <td>0.0</td>\n",
       "      <td>0.0</td>\n",
       "      <td>1.0</td>\n",
       "      <td>0.0</td>\n",
       "      <td>0.0</td>\n",
       "      <td>0.0</td>\n",
       "      <td>0.0</td>\n",
       "      <td>0.0</td>\n",
       "      <td>0.0</td>\n",
       "      <td>0.0</td>\n",
       "      <td>0.0</td>\n",
       "      <td>0.0</td>\n",
       "      <td>0.0</td>\n",
       "      <td>0.0</td>\n",
       "    </tr>\n",
       "  </tbody>\n",
       "</table>\n",
       "<p>298 rows × 18 columns</p>\n",
       "</div>"
      ],
      "text/plain": [
       "                  Case_Name Purpose  pp0  pp1  pp2  pp3  pp4  pp5  pp6  pp7  \\\n",
       "0                   코인체크 공격  금전적 이득  0.0  0.0  0.0  0.0  1.0  0.0  0.0  0.0   \n",
       "1                3·20 전산 대란    사회혼란  0.0  0.0  0.0  0.0  0.0  0.0  0.0  0.0   \n",
       "2               6·25 사이버 테러    사회혼란  0.0  0.0  0.0  0.0  0.0  0.0  0.0  0.0   \n",
       "3                 소니 픽쳐스 해킹    정보획득  0.0  0.0  0.0  0.0  0.0  0.0  0.0  0.0   \n",
       "4               1·25 인터넷 대란    사회혼란  0.0  0.0  0.0  0.0  0.0  0.0  0.0  0.0   \n",
       "..                      ...     ...  ...  ...  ...  ...  ...  ...  ...  ...   \n",
       "293  개인정보 도용 휴대전화 6000여대 개통  금전적 이득  0.0  0.0  0.0  0.0  1.0  0.0  0.0  0.0   \n",
       "294              바카라 인터넷 도박  금전적 이득  0.0  0.0  0.0  0.0  1.0  0.0  0.0  0.0   \n",
       "295   조직폭력배 개입 불법 인터넷 도박사이트  금전적 이득  0.0  0.0  0.0  0.0  1.0  0.0  0.0  0.0   \n",
       "296             장애인 대상 소액결제  금전적 이득  0.0  0.0  0.0  0.0  1.0  0.0  0.0  0.0   \n",
       "297          10대 불법도박,2차 범죄  금전적 이득  0.0  0.0  0.0  0.0  1.0  0.0  0.0  0.0   \n",
       "\n",
       "     pp8  pp9  pp10  pp11  pp12  pp13  pp14  pp15  \n",
       "0    0.0  0.0   0.0   0.0   0.0   0.0   0.0   0.0  \n",
       "1    1.0  0.0   0.0   0.0   0.0   0.0   0.0   0.0  \n",
       "2    1.0  0.0   0.0   0.0   0.0   0.0   0.0   0.0  \n",
       "3    0.0  0.0   0.0   0.0   0.0   1.0   0.0   0.0  \n",
       "4    1.0  0.0   0.0   0.0   0.0   0.0   0.0   0.0  \n",
       "..   ...  ...   ...   ...   ...   ...   ...   ...  \n",
       "293  0.0  0.0   0.0   0.0   0.0   0.0   0.0   0.0  \n",
       "294  0.0  0.0   0.0   0.0   0.0   0.0   0.0   0.0  \n",
       "295  0.0  0.0   0.0   0.0   0.0   0.0   0.0   0.0  \n",
       "296  0.0  0.0   0.0   0.0   0.0   0.0   0.0   0.0  \n",
       "297  0.0  0.0   0.0   0.0   0.0   0.0   0.0   0.0  \n",
       "\n",
       "[298 rows x 18 columns]"
      ]
     },
     "execution_count": 29,
     "metadata": {},
     "output_type": "execute_result"
    }
   ],
   "source": [
    "# 인코딩 변수 담기\n",
    "df_purpose2 = pd.concat([df_purpose, df_ohe], axis=1)\n",
    "df_purpose2"
   ]
  },
  {
   "cell_type": "markdown",
   "metadata": {},
   "source": [
    "# Purpose 군집분석\n",
    "1. 범주형변수 인코딩\n",
    "2. KMeans 군집분석\n",
    "3. 군집별 비교\n",
    "==> 결론: 변수 1개만으로 의미 찾기 어려움"
   ]
  },
  {
   "cell_type": "code",
   "execution_count": 30,
   "metadata": {},
   "outputs": [
    {
     "data": {
      "text/plain": [
       "array([1, 0, 0, 0, 0, 0, 1, 1, 1, 3, 1, 0, 1, 0, 1, 1, 3, 1, 1, 1, 1, 1,\n",
       "       1, 0, 1, 1, 1, 2, 1, 1, 1, 1, 1, 1, 1, 1, 0, 1, 1, 1, 1, 0, 1, 1,\n",
       "       0, 1, 0, 0, 1, 1, 2, 1, 2, 1, 2, 2, 0, 3, 3, 0, 2, 2, 2, 2, 2, 2,\n",
       "       3, 0, 1, 2, 2, 0, 0, 0, 0, 0, 3, 1, 0, 0, 1, 1, 0, 1, 1, 1, 1, 1,\n",
       "       1, 1, 1, 1, 1, 1, 1, 1, 1, 1, 1, 1, 1, 1, 1, 1, 0, 1, 1, 1, 1, 1,\n",
       "       1, 1, 1, 1, 0, 1, 1, 1, 0, 0, 0, 0, 0, 0, 0, 0, 1, 3, 0, 3, 1, 1,\n",
       "       2, 0, 1, 0, 1, 2, 2, 1, 1, 1, 0, 1, 3, 0, 3, 1, 2, 1, 0, 1, 3, 0,\n",
       "       3, 0, 1, 3, 2, 1, 3, 0, 1, 1, 1, 0, 1, 1, 1, 1, 3, 3, 3, 3, 1, 1,\n",
       "       1, 3, 1, 1, 1, 1, 0, 1, 1, 1, 3, 0, 1, 0, 0, 1, 0, 0, 0, 3, 1, 0,\n",
       "       0, 0, 0, 0, 0, 1, 0, 3, 0, 0, 0, 0, 0, 3, 0, 0, 1, 0, 0, 0, 0, 0,\n",
       "       0, 0, 0, 1, 0, 0, 0, 0, 0, 3, 2, 2, 2, 1, 1, 1, 0, 1, 1, 1, 1, 1,\n",
       "       1, 1, 1, 1, 1, 0, 1, 1, 1, 1, 0, 1, 0, 0, 0, 1, 1, 3, 1, 1, 1, 1,\n",
       "       0, 2, 2, 2, 2, 2, 2, 2, 2, 2, 2, 2, 2, 2, 2, 1, 1, 0, 1, 1, 1, 1,\n",
       "       1, 1, 1, 1, 0, 1, 1, 1, 1, 1, 1, 1])"
      ]
     },
     "execution_count": 30,
     "metadata": {},
     "output_type": "execute_result"
    }
   ],
   "source": [
    "from sklearn.cluster import KMeans\n",
    "\n",
    "# X 변수\n",
    "x = df_ohe\n",
    "\n",
    "# 모델 생성\n",
    "kmeans = KMeans(n_clusters=4, init='random')\n",
    "\n",
    "# 모델 학습 및 예측\n",
    "y_pred = kmeans.fit_predict(x)\n",
    "y_pred"
   ]
  },
  {
   "cell_type": "code",
   "execution_count": 31,
   "metadata": {},
   "outputs": [
    {
     "data": {
      "text/html": [
       "<div>\n",
       "<style scoped>\n",
       "    .dataframe tbody tr th:only-of-type {\n",
       "        vertical-align: middle;\n",
       "    }\n",
       "\n",
       "    .dataframe tbody tr th {\n",
       "        vertical-align: top;\n",
       "    }\n",
       "\n",
       "    .dataframe thead th {\n",
       "        text-align: right;\n",
       "    }\n",
       "</style>\n",
       "<table border=\"1\" class=\"dataframe\">\n",
       "  <thead>\n",
       "    <tr style=\"text-align: right;\">\n",
       "      <th></th>\n",
       "      <th>Case_Name</th>\n",
       "      <th>Purpose</th>\n",
       "      <th>cluster</th>\n",
       "    </tr>\n",
       "  </thead>\n",
       "  <tbody>\n",
       "    <tr>\n",
       "      <th>0</th>\n",
       "      <td>코인체크 공격</td>\n",
       "      <td>금전적 이득</td>\n",
       "      <td>1</td>\n",
       "    </tr>\n",
       "    <tr>\n",
       "      <th>1</th>\n",
       "      <td>3·20 전산 대란</td>\n",
       "      <td>사회혼란</td>\n",
       "      <td>0</td>\n",
       "    </tr>\n",
       "    <tr>\n",
       "      <th>2</th>\n",
       "      <td>6·25 사이버 테러</td>\n",
       "      <td>사회혼란</td>\n",
       "      <td>0</td>\n",
       "    </tr>\n",
       "    <tr>\n",
       "      <th>3</th>\n",
       "      <td>소니 픽쳐스 해킹</td>\n",
       "      <td>정보획득</td>\n",
       "      <td>0</td>\n",
       "    </tr>\n",
       "    <tr>\n",
       "      <th>4</th>\n",
       "      <td>1·25 인터넷 대란</td>\n",
       "      <td>사회혼란</td>\n",
       "      <td>0</td>\n",
       "    </tr>\n",
       "    <tr>\n",
       "      <th>...</th>\n",
       "      <td>...</td>\n",
       "      <td>...</td>\n",
       "      <td>...</td>\n",
       "    </tr>\n",
       "    <tr>\n",
       "      <th>293</th>\n",
       "      <td>개인정보 도용 휴대전화 6000여대 개통</td>\n",
       "      <td>금전적 이득</td>\n",
       "      <td>1</td>\n",
       "    </tr>\n",
       "    <tr>\n",
       "      <th>294</th>\n",
       "      <td>바카라 인터넷 도박</td>\n",
       "      <td>금전적 이득</td>\n",
       "      <td>1</td>\n",
       "    </tr>\n",
       "    <tr>\n",
       "      <th>295</th>\n",
       "      <td>조직폭력배 개입 불법 인터넷 도박사이트</td>\n",
       "      <td>금전적 이득</td>\n",
       "      <td>1</td>\n",
       "    </tr>\n",
       "    <tr>\n",
       "      <th>296</th>\n",
       "      <td>장애인 대상 소액결제</td>\n",
       "      <td>금전적 이득</td>\n",
       "      <td>1</td>\n",
       "    </tr>\n",
       "    <tr>\n",
       "      <th>297</th>\n",
       "      <td>10대 불법도박,2차 범죄</td>\n",
       "      <td>금전적 이득</td>\n",
       "      <td>1</td>\n",
       "    </tr>\n",
       "  </tbody>\n",
       "</table>\n",
       "<p>298 rows × 3 columns</p>\n",
       "</div>"
      ],
      "text/plain": [
       "                  Case_Name Purpose  cluster\n",
       "0                   코인체크 공격  금전적 이득        1\n",
       "1                3·20 전산 대란    사회혼란        0\n",
       "2               6·25 사이버 테러    사회혼란        0\n",
       "3                 소니 픽쳐스 해킹    정보획득        0\n",
       "4               1·25 인터넷 대란    사회혼란        0\n",
       "..                      ...     ...      ...\n",
       "293  개인정보 도용 휴대전화 6000여대 개통  금전적 이득        1\n",
       "294              바카라 인터넷 도박  금전적 이득        1\n",
       "295   조직폭력배 개입 불법 인터넷 도박사이트  금전적 이득        1\n",
       "296             장애인 대상 소액결제  금전적 이득        1\n",
       "297          10대 불법도박,2차 범죄  금전적 이득        1\n",
       "\n",
       "[298 rows x 3 columns]"
      ]
     },
     "execution_count": 31,
     "metadata": {},
     "output_type": "execute_result"
    }
   ],
   "source": [
    "# 데이터프레임에 군집결과 컬럼추가\n",
    "df_purpose['cluster'] = y_pred\n",
    "df_purpose"
   ]
  },
  {
   "cell_type": "code",
   "execution_count": 32,
   "metadata": {},
   "outputs": [
    {
     "data": {
      "text/plain": [
       "1    151\n",
       "0     87\n",
       "2     35\n",
       "3     25\n",
       "Name: cluster, dtype: int64"
      ]
     },
     "execution_count": 32,
     "metadata": {},
     "output_type": "execute_result"
    }
   ],
   "source": [
    "# 군집별 데이터 개수 확인\n",
    "df_purpose['cluster'].value_counts()"
   ]
  },
  {
   "cell_type": "code",
   "execution_count": 33,
   "metadata": {},
   "outputs": [
    {
     "name": "stdout",
     "output_type": "stream",
     "text": [
      "==== cluster0 ====\n",
      " 분노표출         16\n",
      "사회혼란         15\n",
      "경쟁에서 우위선점    14\n",
      "정보획득         10\n",
      "국가기능 마비       8\n",
      "기타            6\n",
      "사고            4\n",
      "우월감           4\n",
      "영웅심           3\n",
      "실력과시          3\n",
      "정보 획득         2\n",
      "개인정보수집        1\n",
      "종교적 목적        1\n",
      "Name: Purpose, dtype: int64 \n",
      "\n",
      "==== cluster1 ====\n",
      " 금전적 이득    151\n",
      "Name: Purpose, dtype: int64 \n",
      "\n",
      "==== cluster2 ====\n",
      " 군, 국가핵심시설에 관한 정보탈취    35\n",
      "Name: Purpose, dtype: int64 \n",
      "\n",
      "==== cluster3 ====\n",
      " 정치적 목적달성    25\n",
      "Name: Purpose, dtype: int64 \n",
      "\n",
      "==== cluster4 ====\n",
      " Series([], Name: Purpose, dtype: int64)\n"
     ]
    }
   ],
   "source": [
    "\n",
    "cluster0 = df_purpose[df_purpose['cluster']==0]['Purpose'].value_counts()\n",
    "cluster1 = df_purpose[df_purpose['cluster']==1]['Purpose'].value_counts()\n",
    "cluster2 = df_purpose[df_purpose['cluster']==2]['Purpose'].value_counts()\n",
    "cluster3 = df_purpose[df_purpose['cluster']==3]['Purpose'].value_counts()\n",
    "cluster4 = df_purpose[df_purpose['cluster']==4]['Purpose'].value_counts()\n",
    "\n",
    "print(\"==== cluster0 ====\\n\", cluster0, '\\n')\n",
    "print(\"==== cluster1 ====\\n\", cluster1, '\\n')\n",
    "print(\"==== cluster2 ====\\n\", cluster2, '\\n')\n",
    "print(\"==== cluster3 ====\\n\", cluster3, '\\n')\n",
    "print(\"==== cluster4 ====\\n\", cluster4)"
   ]
  },
  {
   "cell_type": "markdown",
   "metadata": {},
   "source": [
    "# Purpose, Attack_Skill, Result 수치화&군집분석"
   ]
  },
  {
   "cell_type": "code",
   "execution_count": 34,
   "metadata": {},
   "outputs": [
    {
     "data": {
      "text/html": [
       "<div>\n",
       "<style scoped>\n",
       "    .dataframe tbody tr th:only-of-type {\n",
       "        vertical-align: middle;\n",
       "    }\n",
       "\n",
       "    .dataframe tbody tr th {\n",
       "        vertical-align: top;\n",
       "    }\n",
       "\n",
       "    .dataframe thead th {\n",
       "        text-align: right;\n",
       "    }\n",
       "</style>\n",
       "<table border=\"1\" class=\"dataframe\">\n",
       "  <thead>\n",
       "    <tr style=\"text-align: right;\">\n",
       "      <th></th>\n",
       "      <th>Purpose</th>\n",
       "      <th>Attack_Skill</th>\n",
       "      <th>Result</th>\n",
       "    </tr>\n",
       "  </thead>\n",
       "  <tbody>\n",
       "    <tr>\n",
       "      <th>0</th>\n",
       "      <td>금전적 이득</td>\n",
       "      <td>해킹</td>\n",
       "      <td>금전 손실</td>\n",
       "    </tr>\n",
       "    <tr>\n",
       "      <th>1</th>\n",
       "      <td>사회혼란</td>\n",
       "      <td>APT</td>\n",
       "      <td>사회혼란</td>\n",
       "    </tr>\n",
       "    <tr>\n",
       "      <th>2</th>\n",
       "      <td>사회혼란</td>\n",
       "      <td>ScanNDoS</td>\n",
       "      <td>사회혼란</td>\n",
       "    </tr>\n",
       "    <tr>\n",
       "      <th>3</th>\n",
       "      <td>정보획득</td>\n",
       "      <td>악성코드</td>\n",
       "      <td>금전 손실</td>\n",
       "    </tr>\n",
       "    <tr>\n",
       "      <th>4</th>\n",
       "      <td>사회혼란</td>\n",
       "      <td>ScanNDoS</td>\n",
       "      <td>사회혼란</td>\n",
       "    </tr>\n",
       "    <tr>\n",
       "      <th>...</th>\n",
       "      <td>...</td>\n",
       "      <td>...</td>\n",
       "      <td>...</td>\n",
       "    </tr>\n",
       "    <tr>\n",
       "      <th>293</th>\n",
       "      <td>금전적 이득</td>\n",
       "      <td>도박</td>\n",
       "      <td>금전 손실</td>\n",
       "    </tr>\n",
       "    <tr>\n",
       "      <th>294</th>\n",
       "      <td>금전적 이득</td>\n",
       "      <td>도박</td>\n",
       "      <td>사회혼란</td>\n",
       "    </tr>\n",
       "    <tr>\n",
       "      <th>295</th>\n",
       "      <td>금전적 이득</td>\n",
       "      <td>도박</td>\n",
       "      <td>사회혼란</td>\n",
       "    </tr>\n",
       "    <tr>\n",
       "      <th>296</th>\n",
       "      <td>금전적 이득</td>\n",
       "      <td>도박</td>\n",
       "      <td>금전 손실</td>\n",
       "    </tr>\n",
       "    <tr>\n",
       "      <th>297</th>\n",
       "      <td>금전적 이득</td>\n",
       "      <td>도박</td>\n",
       "      <td>사회혼란</td>\n",
       "    </tr>\n",
       "  </tbody>\n",
       "</table>\n",
       "<p>298 rows × 3 columns</p>\n",
       "</div>"
      ],
      "text/plain": [
       "    Purpose Attack_Skill Result\n",
       "0    금전적 이득           해킹  금전 손실\n",
       "1      사회혼란          APT   사회혼란\n",
       "2      사회혼란     ScanNDoS   사회혼란\n",
       "3      정보획득         악성코드  금전 손실\n",
       "4      사회혼란     ScanNDoS   사회혼란\n",
       "..      ...          ...    ...\n",
       "293  금전적 이득           도박  금전 손실\n",
       "294  금전적 이득           도박   사회혼란\n",
       "295  금전적 이득           도박   사회혼란\n",
       "296  금전적 이득           도박  금전 손실\n",
       "297  금전적 이득           도박   사회혼란\n",
       "\n",
       "[298 rows x 3 columns]"
      ]
     },
     "execution_count": 34,
     "metadata": {},
     "output_type": "execute_result"
    }
   ],
   "source": [
    "df2 = df_dropna[['Purpose', 'Attack_Skill', 'Result']]\n",
    "df2"
   ]
  },
  {
   "cell_type": "code",
   "execution_count": 35,
   "metadata": {
    "scrolled": true
   },
   "outputs": [
    {
     "name": "stdout",
     "output_type": "stream",
     "text": [
      "<class 'pandas.core.frame.DataFrame'>\n",
      "RangeIndex: 298 entries, 0 to 297\n",
      "Data columns (total 3 columns):\n",
      " #   Column        Non-Null Count  Dtype \n",
      "---  ------        --------------  ----- \n",
      " 0   Purpose       298 non-null    object\n",
      " 1   Attack_Skill  298 non-null    object\n",
      " 2   Result        298 non-null    object\n",
      "dtypes: object(3)\n",
      "memory usage: 7.1+ KB\n"
     ]
    }
   ],
   "source": [
    "df2.info()"
   ]
  },
  {
   "cell_type": "markdown",
   "metadata": {},
   "source": [
    "### 방법1. 더미변수화 & K Means\n",
    "참고자료\n",
    "1. ADP 실기책 p.399\n",
    "2. https://shiningyouandme.tistory.com/39"
   ]
  },
  {
   "cell_type": "code",
   "execution_count": 36,
   "metadata": {
    "scrolled": true
   },
   "outputs": [
    {
     "name": "stdout",
     "output_type": "stream",
     "text": [
      "<class 'pandas.core.frame.DataFrame'>\n",
      "RangeIndex: 298 entries, 0 to 297\n",
      "Data columns (total 42 columns):\n",
      " #   Column                      Non-Null Count  Dtype\n",
      "---  ------                      --------------  -----\n",
      " 0   Purpose_개인정보수집              298 non-null    uint8\n",
      " 1   Purpose_경쟁에서 우위선점           298 non-null    uint8\n",
      " 2   Purpose_국가기능 마비             298 non-null    uint8\n",
      " 3   Purpose_군, 국가핵심시설에 관한 정보탈취  298 non-null    uint8\n",
      " 4   Purpose_금전적 이득              298 non-null    uint8\n",
      " 5   Purpose_기타                  298 non-null    uint8\n",
      " 6   Purpose_분노표출                298 non-null    uint8\n",
      " 7   Purpose_사고                  298 non-null    uint8\n",
      " 8   Purpose_사회혼란                298 non-null    uint8\n",
      " 9   Purpose_실력과시                298 non-null    uint8\n",
      " 10  Purpose_영웅심                 298 non-null    uint8\n",
      " 11  Purpose_우월감                 298 non-null    uint8\n",
      " 12  Purpose_정보 획득               298 non-null    uint8\n",
      " 13  Purpose_정보획득                298 non-null    uint8\n",
      " 14  Purpose_정치적 목적달성            298 non-null    uint8\n",
      " 15  Purpose_종교적 목적              298 non-null    uint8\n",
      " 16  Attack_Skill_APT            298 non-null    uint8\n",
      " 17  Attack_Skill_ScanNDoS       298 non-null    uint8\n",
      " 18  Attack_Skill_개인정보 침해        298 non-null    uint8\n",
      " 19  Attack_Skill_계정 도용          298 non-null    uint8\n",
      " 20  Attack_Skill_권한 오남용         298 non-null    uint8\n",
      " 21  Attack_Skill_도박             298 non-null    uint8\n",
      " 22  Attack_Skill_명예훼손           298 non-null    uint8\n",
      " 23  Attack_Skill_부주의            298 non-null    uint8\n",
      " 24  Attack_Skill_사기             298 non-null    uint8\n",
      " 25  Attack_Skill_스토킹            298 non-null    uint8\n",
      " 26  Attack_Skill_시스템 침해         298 non-null    uint8\n",
      " 27  Attack_Skill_악성코드           298 non-null    uint8\n",
      " 28  Attack_Skill_음란물 유포         298 non-null    uint8\n",
      " 29  Attack_Skill_저작권 침해         298 non-null    uint8\n",
      " 30  Attack_Skill_해킹             298 non-null    uint8\n",
      " 31  Result_개인정보 유출              298 non-null    uint8\n",
      " 32  Result_국가기밀유출               298 non-null    uint8\n",
      " 33  Result_금전 손실                298 non-null    uint8\n",
      " 34  Result_데이터 손실               298 non-null    uint8\n",
      " 35  Result_사회 혼란                298 non-null    uint8\n",
      " 36  Result_사회혼란                 298 non-null    uint8\n",
      " 37  Result_산업기술 유출              298 non-null    uint8\n",
      " 38  Result_신뢰하락                 298 non-null    uint8\n",
      " 39  Result_저작권 침해               298 non-null    uint8\n",
      " 40  Result_정신적 피해               298 non-null    uint8\n",
      " 41  Result_평판훼손                 298 non-null    uint8\n",
      "dtypes: uint8(42)\n",
      "memory usage: 12.3 KB\n"
     ]
    }
   ],
   "source": [
    "## 방법1. 더미변수화\n",
    "# 더미변수화\n",
    "df2_dummy = pd.get_dummies(df2)\n",
    "df2_dummy.info()"
   ]
  },
  {
   "cell_type": "code",
   "execution_count": 37,
   "metadata": {},
   "outputs": [
    {
     "data": {
      "image/png": "[encoded data removed]",
      "text/plain": [
       "<Figure size 720x360 with 1 Axes>"
      ]
     },
     "metadata": {
      "needs_background": "light"
     },
     "output_type": "display_data"
    }
   ],
   "source": [
    "## 군집개수 정하기\n",
    "# distortions 급격한 변화일 때의 클러스터 개수 선정 =5\n",
    "# PCA 필요해보임..\n",
    "distortions = []\n",
    "for k in range(2, 20):\n",
    "    kmeans = KMeans(n_clusters=k)\n",
    "    kmeans.fit(x)\n",
    "    distortions.append(kmeans.inertia_)\n",
    "\n",
    "fig = plt.figure(figsize=(10, 5))\n",
    "plt.plot(range(2, 20), distortions)\n",
    "plt.grid(True)\n",
    "plt.title('Elbow curve')\n",
    "plt.show()"
   ]
  },
  {
   "cell_type": "code",
   "execution_count": 38,
   "metadata": {},
   "outputs": [
    {
     "data": {
      "text/plain": [
       "array([4, 0, 0, 4, 0, 2, 2, 2, 2, 0, 2, 0, 2, 0, 2, 2, 0, 2, 2, 2, 2, 2,\n",
       "       2, 2, 2, 2, 2, 3, 2, 4, 2, 2, 2, 4, 4, 4, 2, 4, 2, 0, 2, 2, 0, 0,\n",
       "       0, 4, 2, 2, 0, 4, 3, 2, 3, 0, 3, 3, 0, 0, 0, 0, 0, 0, 0, 3, 0, 3,\n",
       "       0, 0, 2, 3, 3, 0, 0, 0, 1, 0, 3, 2, 2, 4, 4, 4, 2, 4, 4, 0, 4, 2,\n",
       "       2, 2, 2, 2, 2, 2, 2, 2, 2, 2, 2, 2, 2, 2, 2, 2, 2, 2, 2, 2, 2, 2,\n",
       "       2, 2, 2, 2, 0, 2, 4, 4, 0, 4, 0, 0, 0, 0, 0, 0, 0, 0, 0, 0, 4, 2,\n",
       "       3, 0, 0, 0, 2, 3, 3, 0, 2, 0, 0, 4, 0, 0, 0, 0, 3, 3, 2, 4, 0, 0,\n",
       "       0, 0, 2, 0, 3, 4, 0, 2, 2, 2, 2, 3, 2, 2, 4, 4, 2, 0, 2, 0, 2, 2,\n",
       "       2, 0, 4, 4, 4, 4, 4, 1, 1, 2, 0, 2, 2, 1, 1, 4, 1, 4, 1, 1, 1, 1,\n",
       "       1, 1, 1, 1, 1, 1, 1, 1, 1, 1, 1, 1, 1, 1, 1, 1, 1, 1, 1, 1, 1, 1,\n",
       "       1, 0, 0, 2, 0, 2, 2, 2, 0, 3, 3, 3, 3, 4, 4, 4, 2, 2, 2, 2, 2, 2,\n",
       "       2, 2, 2, 4, 2, 4, 4, 4, 1, 1, 1, 4, 2, 1, 1, 1, 1, 1, 2, 4, 4, 1,\n",
       "       0, 3, 3, 3, 3, 3, 3, 3, 3, 3, 3, 3, 3, 3, 3, 4, 1, 1, 4, 4, 4, 1,\n",
       "       4, 0, 0, 0, 4, 4, 4, 4, 0, 0, 4, 0])"
      ]
     },
     "execution_count": 38,
     "metadata": {},
     "output_type": "execute_result"
    }
   ],
   "source": [
    "## 군집분석\n",
    "\n",
    "# X 변수\n",
    "x = df2_dummy.values\n",
    "\n",
    "# 모델 생성\n",
    "kmeans = KMeans(n_clusters=5, init='random')\n",
    "\n",
    "# 모델 학습 및 예측\n",
    "model = kmeans.fit(x)\n",
    "y_pred = model.predict(x)\n",
    "y_pred"
   ]
  },
  {
   "cell_type": "code",
   "execution_count": 39,
   "metadata": {},
   "outputs": [
    {
     "data": {
      "text/html": [
       "<div>\n",
       "<style scoped>\n",
       "    .dataframe tbody tr th:only-of-type {\n",
       "        vertical-align: middle;\n",
       "    }\n",
       "\n",
       "    .dataframe tbody tr th {\n",
       "        vertical-align: top;\n",
       "    }\n",
       "\n",
       "    .dataframe thead th {\n",
       "        text-align: right;\n",
       "    }\n",
       "</style>\n",
       "<table border=\"1\" class=\"dataframe\">\n",
       "  <thead>\n",
       "    <tr style=\"text-align: right;\">\n",
       "      <th></th>\n",
       "      <th>Purpose</th>\n",
       "      <th>Attack_Skill</th>\n",
       "      <th>Result</th>\n",
       "      <th>cluster</th>\n",
       "    </tr>\n",
       "  </thead>\n",
       "  <tbody>\n",
       "    <tr>\n",
       "      <th>0</th>\n",
       "      <td>금전적 이득</td>\n",
       "      <td>해킹</td>\n",
       "      <td>금전 손실</td>\n",
       "      <td>4</td>\n",
       "    </tr>\n",
       "    <tr>\n",
       "      <th>1</th>\n",
       "      <td>사회혼란</td>\n",
       "      <td>APT</td>\n",
       "      <td>사회혼란</td>\n",
       "      <td>0</td>\n",
       "    </tr>\n",
       "    <tr>\n",
       "      <th>2</th>\n",
       "      <td>사회혼란</td>\n",
       "      <td>ScanNDoS</td>\n",
       "      <td>사회혼란</td>\n",
       "      <td>0</td>\n",
       "    </tr>\n",
       "    <tr>\n",
       "      <th>3</th>\n",
       "      <td>정보획득</td>\n",
       "      <td>악성코드</td>\n",
       "      <td>금전 손실</td>\n",
       "      <td>4</td>\n",
       "    </tr>\n",
       "    <tr>\n",
       "      <th>4</th>\n",
       "      <td>사회혼란</td>\n",
       "      <td>ScanNDoS</td>\n",
       "      <td>사회혼란</td>\n",
       "      <td>0</td>\n",
       "    </tr>\n",
       "    <tr>\n",
       "      <th>...</th>\n",
       "      <td>...</td>\n",
       "      <td>...</td>\n",
       "      <td>...</td>\n",
       "      <td>...</td>\n",
       "    </tr>\n",
       "    <tr>\n",
       "      <th>293</th>\n",
       "      <td>금전적 이득</td>\n",
       "      <td>도박</td>\n",
       "      <td>금전 손실</td>\n",
       "      <td>4</td>\n",
       "    </tr>\n",
       "    <tr>\n",
       "      <th>294</th>\n",
       "      <td>금전적 이득</td>\n",
       "      <td>도박</td>\n",
       "      <td>사회혼란</td>\n",
       "      <td>0</td>\n",
       "    </tr>\n",
       "    <tr>\n",
       "      <th>295</th>\n",
       "      <td>금전적 이득</td>\n",
       "      <td>도박</td>\n",
       "      <td>사회혼란</td>\n",
       "      <td>0</td>\n",
       "    </tr>\n",
       "    <tr>\n",
       "      <th>296</th>\n",
       "      <td>금전적 이득</td>\n",
       "      <td>도박</td>\n",
       "      <td>금전 손실</td>\n",
       "      <td>4</td>\n",
       "    </tr>\n",
       "    <tr>\n",
       "      <th>297</th>\n",
       "      <td>금전적 이득</td>\n",
       "      <td>도박</td>\n",
       "      <td>사회혼란</td>\n",
       "      <td>0</td>\n",
       "    </tr>\n",
       "  </tbody>\n",
       "</table>\n",
       "<p>298 rows × 4 columns</p>\n",
       "</div>"
      ],
      "text/plain": [
       "    Purpose Attack_Skill Result  cluster\n",
       "0    금전적 이득           해킹  금전 손실        4\n",
       "1      사회혼란          APT   사회혼란        0\n",
       "2      사회혼란     ScanNDoS   사회혼란        0\n",
       "3      정보획득         악성코드  금전 손실        4\n",
       "4      사회혼란     ScanNDoS   사회혼란        0\n",
       "..      ...          ...    ...      ...\n",
       "293  금전적 이득           도박  금전 손실        4\n",
       "294  금전적 이득           도박   사회혼란        0\n",
       "295  금전적 이득           도박   사회혼란        0\n",
       "296  금전적 이득           도박  금전 손실        4\n",
       "297  금전적 이득           도박   사회혼란        0\n",
       "\n",
       "[298 rows x 4 columns]"
      ]
     },
     "execution_count": 39,
     "metadata": {},
     "output_type": "execute_result"
    }
   ],
   "source": [
    "# 데이터프레임에 군집결과 컬럼추가\n",
    "df2['cluster'] = y_pred\n",
    "df2"
   ]
  },
  {
   "cell_type": "code",
   "execution_count": 40,
   "metadata": {
    "scrolled": true
   },
   "outputs": [
    {
     "data": {
      "text/plain": [
       "array([[ 1.40845070e-02,  7.04225352e-02,  1.12676056e-01,\n",
       "         5.63380282e-02,  2.39436620e-01,  1.40845070e-02,\n",
       "         1.40845070e-02,  1.40845070e-02,  1.97183099e-01,\n",
       "         1.40845070e-02, -1.73472348e-18,  1.04083409e-17,\n",
       "         5.20417043e-18,  1.40845070e-02,  2.39436620e-01,\n",
       "         2.60208521e-18,  4.22535211e-02,  1.97183099e-01,\n",
       "        -6.93889390e-18,  2.60208521e-18, -6.93889390e-18,\n",
       "         8.45070423e-02, -4.16333634e-17,  1.40845070e-02,\n",
       "         5.20417043e-18, -1.04083409e-17,  4.22535211e-02,\n",
       "         5.21126761e-01, -5.55111512e-17, -3.46944695e-18,\n",
       "         9.85915493e-02,  1.40845070e-02, -2.77555756e-17,\n",
       "         5.55111512e-17,  4.22535211e-02,  1.04083409e-17,\n",
       "         8.59154930e-01,  5.63380282e-02,  1.40845070e-02,\n",
       "         1.40845070e-02, -2.77555756e-17, -5.55111512e-17],\n",
       "       [ 1.73472348e-18,  6.66666667e-02,  1.38777878e-17,\n",
       "        -1.38777878e-17,  2.66666667e-01,  1.11111111e-01,\n",
       "         2.88888889e-01,  6.93889390e-18, -3.46944695e-17,\n",
       "         6.93889390e-18,  2.22222222e-02,  8.88888889e-02,\n",
       "         3.46944695e-18,  4.44444444e-02,  8.88888889e-02,\n",
       "         2.22222222e-02, -2.77555756e-17, -2.08166817e-17,\n",
       "         4.44444444e-02,  2.22222222e-02,  4.44444444e-02,\n",
       "         2.77555756e-17,  4.44444444e-01,  1.38777878e-17,\n",
       "         3.46944695e-18,  1.11111111e-01,  6.93889390e-18,\n",
       "        -2.77555756e-17,  2.44444444e-01,  6.66666667e-02,\n",
       "         2.22222222e-02,  2.22044605e-16, -2.77555756e-17,\n",
       "         2.22222222e-02,  6.93889390e-18,  6.93889390e-18,\n",
       "         0.00000000e+00,  2.22222222e-02,  2.22222222e-02,\n",
       "         1.73472348e-18,  6.88888889e-01,  2.44444444e-01],\n",
       "       [ 3.90312782e-18,  1.04166667e-02,  3.12250226e-17,\n",
       "        -2.77555756e-16,  8.02083333e-01, -2.77555756e-17,\n",
       "         1.04166667e-02,  3.12500000e-02, -2.08166817e-17,\n",
       "         2.08333333e-02,  2.08333333e-02,  1.56125113e-17,\n",
       "         2.08333333e-02,  6.25000000e-02,  2.08333333e-02,\n",
       "         3.90312782e-18,  6.93889390e-17,  9.02056208e-17,\n",
       "         1.04166667e-01,  3.90312782e-18,  7.29166667e-02,\n",
       "        -5.55111512e-17, -6.93889390e-17,  5.20833333e-02,\n",
       "         7.80625564e-18, -1.73472348e-17,  1.56125113e-17,\n",
       "         1.25000000e-01, -7.63278329e-17, -2.77555756e-17,\n",
       "         6.45833333e-01,  9.79166667e-01, -1.38777878e-17,\n",
       "         1.11022302e-16, -1.38777878e-17,  1.56125113e-17,\n",
       "        -1.94289029e-16,  1.04166667e-02,  1.04166667e-02,\n",
       "         3.90312782e-18, -8.32667268e-17, -7.63278329e-17],\n",
       "       [ 0.00000000e+00, -6.93889390e-18,  0.00000000e+00,\n",
       "         8.85714286e-01,  2.85714286e-02,  1.04083409e-17,\n",
       "         0.00000000e+00,  0.00000000e+00,  2.85714286e-02,\n",
       "         5.20417043e-18,  5.20417043e-18,  0.00000000e+00,\n",
       "         0.00000000e+00,  6.93889390e-18,  5.71428571e-02,\n",
       "         0.00000000e+00,  5.14285714e-01, -6.93889390e-18,\n",
       "         2.08166817e-17,  0.00000000e+00,  2.08166817e-17,\n",
       "         2.08166817e-17,  1.38777878e-17,  1.04083409e-17,\n",
       "         0.00000000e+00,  3.46944695e-18,  0.00000000e+00,\n",
       "         3.14285714e-01,  6.93889390e-18,  1.04083409e-17,\n",
       "         1.71428571e-01,  2.85714286e-02,  7.71428571e-01,\n",
       "         2.77555756e-17,  5.20417043e-18,  1.14285714e-01,\n",
       "         0.00000000e+00,  5.71428571e-02,  2.85714286e-02,\n",
       "         0.00000000e+00,  2.77555756e-17,  6.93889390e-18],\n",
       "       [ 1.73472348e-18,  9.80392157e-02,  1.38777878e-17,\n",
       "        -2.77555756e-17,  8.62745098e-01,  1.73472348e-17,\n",
       "         1.96078431e-02,  6.93889390e-18, -2.77555756e-17,\n",
       "         8.67361738e-18,  8.67361738e-18,  6.93889390e-18,\n",
       "         3.46944695e-18,  1.96078431e-02,  1.38777878e-17,\n",
       "         1.73472348e-18, -2.77555756e-17, -2.08166817e-17,\n",
       "         3.46944695e-17,  1.73472348e-18,  5.88235294e-02,\n",
       "         1.17647059e-01,  0.00000000e+00,  1.73472348e-17,\n",
       "         3.92156863e-02,  0.00000000e+00,  1.96078431e-02,\n",
       "         2.74509804e-01, -2.08166817e-17,  5.88235294e-02,\n",
       "         4.31372549e-01,  2.77555756e-16, -2.77555756e-17,\n",
       "         9.60784314e-01,  8.67361738e-18,  6.93889390e-18,\n",
       "         0.00000000e+00,  3.92156863e-02,  6.93889390e-18,\n",
       "         1.73472348e-18,  8.32667268e-17, -2.08166817e-17]])"
      ]
     },
     "execution_count": 40,
     "metadata": {},
     "output_type": "execute_result"
    }
   ],
   "source": [
    "model.cluster_centers_"
   ]
  },
  {
   "cell_type": "code",
   "execution_count": 41,
   "metadata": {
    "scrolled": true
   },
   "outputs": [
    {
     "name": "stdout",
     "output_type": "stream",
     "text": [
      "==== cluster0 ====\n",
      " 정치적 목적달성              17\n",
      "금전적 이득                17\n",
      "사회혼란                  14\n",
      "국가기능 마비                8\n",
      "경쟁에서 우위선점              5\n",
      "군, 국가핵심시설에 관한 정보탈취     4\n",
      "실력과시                   1\n",
      "사고                     1\n",
      "정보획득                   1\n",
      "개인정보수집                 1\n",
      "기타                     1\n",
      "분노표출                   1\n",
      "Name: Purpose, dtype: int64 \n",
      "\n",
      "==== cluster1 ====\n",
      " 분노표출         13\n",
      "금전적 이득       12\n",
      "기타            5\n",
      "정치적 목적달성      4\n",
      "우월감           4\n",
      "경쟁에서 우위선점     3\n",
      "정보획득          2\n",
      "종교적 목적        1\n",
      "영웅심           1\n",
      "Name: Purpose, dtype: int64 \n",
      "\n",
      "==== cluster2 ====\n",
      " 금전적 이득       77\n",
      "정보획득          6\n",
      "사고            3\n",
      "정보 획득         2\n",
      "영웅심           2\n",
      "정치적 목적달성      2\n",
      "실력과시          2\n",
      "분노표출          1\n",
      "경쟁에서 우위선점     1\n",
      "Name: Purpose, dtype: int64 \n",
      "\n",
      "==== cluster3 ====\n",
      " 군, 국가핵심시설에 관한 정보탈취    31\n",
      "정치적 목적달성               2\n",
      "사회혼란                   1\n",
      "금전적 이득                 1\n",
      "Name: Purpose, dtype: int64 \n",
      "\n"
     ]
    }
   ],
   "source": [
    "\n",
    "cluster0 = df2[df2['cluster']==0]['Purpose'].value_counts()\n",
    "cluster1 = df2[df2['cluster']==1]['Purpose'].value_counts()\n",
    "cluster2 = df2[df2['cluster']==2]['Purpose'].value_counts()\n",
    "cluster3 = df2[df2['cluster']==3]['Purpose'].value_counts()\n",
    "\n",
    "print(\"==== cluster0 ====\\n\", cluster0, '\\n')\n",
    "print(\"==== cluster1 ====\\n\", cluster1, '\\n')\n",
    "print(\"==== cluster2 ====\\n\", cluster2, '\\n')\n",
    "print(\"==== cluster3 ====\\n\", cluster3, '\\n')"
   ]
  },
  {
   "cell_type": "code",
   "execution_count": 42,
   "metadata": {},
   "outputs": [
    {
     "data": {
      "text/plain": [
       "2    96\n",
       "0    71\n",
       "4    51\n",
       "1    45\n",
       "3    35\n",
       "Name: cluster, dtype: int64"
      ]
     },
     "execution_count": 42,
     "metadata": {},
     "output_type": "execute_result"
    }
   ],
   "source": [
    "df2['cluster'].value_counts()"
   ]
  },
  {
   "cell_type": "code",
   "execution_count": 43,
   "metadata": {
    "scrolled": false
   },
   "outputs": [
    {
     "data": {
      "text/html": [
       "<div>\n",
       "<style scoped>\n",
       "    .dataframe tbody tr th:only-of-type {\n",
       "        vertical-align: middle;\n",
       "    }\n",
       "\n",
       "    .dataframe tbody tr th {\n",
       "        vertical-align: top;\n",
       "    }\n",
       "\n",
       "    .dataframe thead th {\n",
       "        text-align: right;\n",
       "    }\n",
       "</style>\n",
       "<table border=\"1\" class=\"dataframe\">\n",
       "  <thead>\n",
       "    <tr style=\"text-align: right;\">\n",
       "      <th></th>\n",
       "      <th>Purpose</th>\n",
       "      <th>Attack_Skill</th>\n",
       "      <th>Result</th>\n",
       "      <th>cluster</th>\n",
       "    </tr>\n",
       "  </thead>\n",
       "  <tbody>\n",
       "    <tr>\n",
       "      <th>1</th>\n",
       "      <td>사회혼란</td>\n",
       "      <td>APT</td>\n",
       "      <td>사회혼란</td>\n",
       "      <td>0</td>\n",
       "    </tr>\n",
       "    <tr>\n",
       "      <th>2</th>\n",
       "      <td>사회혼란</td>\n",
       "      <td>ScanNDoS</td>\n",
       "      <td>사회혼란</td>\n",
       "      <td>0</td>\n",
       "    </tr>\n",
       "    <tr>\n",
       "      <th>9</th>\n",
       "      <td>정치적 목적달성</td>\n",
       "      <td>ScanNDoS</td>\n",
       "      <td>사회혼란</td>\n",
       "      <td>0</td>\n",
       "    </tr>\n",
       "    <tr>\n",
       "      <th>39</th>\n",
       "      <td>금전적 이득</td>\n",
       "      <td>악성코드</td>\n",
       "      <td>사회혼란</td>\n",
       "      <td>0</td>\n",
       "    </tr>\n",
       "    <tr>\n",
       "      <th>44</th>\n",
       "      <td>국가기능 마비</td>\n",
       "      <td>악성코드</td>\n",
       "      <td>사회혼란</td>\n",
       "      <td>0</td>\n",
       "    </tr>\n",
       "    <tr>\n",
       "      <th>48</th>\n",
       "      <td>금전적 이득</td>\n",
       "      <td>ScanNDoS</td>\n",
       "      <td>사회혼란</td>\n",
       "      <td>0</td>\n",
       "    </tr>\n",
       "    <tr>\n",
       "      <th>53</th>\n",
       "      <td>금전적 이득</td>\n",
       "      <td>APT</td>\n",
       "      <td>사회혼란</td>\n",
       "      <td>0</td>\n",
       "    </tr>\n",
       "    <tr>\n",
       "      <th>57</th>\n",
       "      <td>정치적 목적달성</td>\n",
       "      <td>악성코드</td>\n",
       "      <td>사회혼란</td>\n",
       "      <td>0</td>\n",
       "    </tr>\n",
       "    <tr>\n",
       "      <th>60</th>\n",
       "      <td>군, 국가핵심시설에 관한 정보탈취</td>\n",
       "      <td>해킹</td>\n",
       "      <td>사회혼란</td>\n",
       "      <td>0</td>\n",
       "    </tr>\n",
       "    <tr>\n",
       "      <th>61</th>\n",
       "      <td>군, 국가핵심시설에 관한 정보탈취</td>\n",
       "      <td>악성코드</td>\n",
       "      <td>사회혼란</td>\n",
       "      <td>0</td>\n",
       "    </tr>\n",
       "    <tr>\n",
       "      <th>66</th>\n",
       "      <td>정치적 목적달성</td>\n",
       "      <td>APT</td>\n",
       "      <td>사회혼란</td>\n",
       "      <td>0</td>\n",
       "    </tr>\n",
       "    <tr>\n",
       "      <th>67</th>\n",
       "      <td>경쟁에서 우위선점</td>\n",
       "      <td>악성코드</td>\n",
       "      <td>산업기술 유출</td>\n",
       "      <td>0</td>\n",
       "    </tr>\n",
       "    <tr>\n",
       "      <th>71</th>\n",
       "      <td>개인정보수집</td>\n",
       "      <td>악성코드</td>\n",
       "      <td>산업기술 유출</td>\n",
       "      <td>0</td>\n",
       "    </tr>\n",
       "    <tr>\n",
       "      <th>75</th>\n",
       "      <td>경쟁에서 우위선점</td>\n",
       "      <td>악성코드</td>\n",
       "      <td>저작권 침해</td>\n",
       "      <td>0</td>\n",
       "    </tr>\n",
       "    <tr>\n",
       "      <th>118</th>\n",
       "      <td>사회혼란</td>\n",
       "      <td>악성코드</td>\n",
       "      <td>사회혼란</td>\n",
       "      <td>0</td>\n",
       "    </tr>\n",
       "    <tr>\n",
       "      <th>120</th>\n",
       "      <td>실력과시</td>\n",
       "      <td>해킹</td>\n",
       "      <td>사회혼란</td>\n",
       "      <td>0</td>\n",
       "    </tr>\n",
       "    <tr>\n",
       "      <th>121</th>\n",
       "      <td>사회혼란</td>\n",
       "      <td>해킹</td>\n",
       "      <td>사회혼란</td>\n",
       "      <td>0</td>\n",
       "    </tr>\n",
       "    <tr>\n",
       "      <th>122</th>\n",
       "      <td>사고</td>\n",
       "      <td>부주의</td>\n",
       "      <td>사회혼란</td>\n",
       "      <td>0</td>\n",
       "    </tr>\n",
       "    <tr>\n",
       "      <th>123</th>\n",
       "      <td>국가기능 마비</td>\n",
       "      <td>시스템 침해</td>\n",
       "      <td>사회혼란</td>\n",
       "      <td>0</td>\n",
       "    </tr>\n",
       "    <tr>\n",
       "      <th>124</th>\n",
       "      <td>정보획득</td>\n",
       "      <td>악성코드</td>\n",
       "      <td>데이터 손실</td>\n",
       "      <td>0</td>\n",
       "    </tr>\n",
       "    <tr>\n",
       "      <th>126</th>\n",
       "      <td>금전적 이득</td>\n",
       "      <td>시스템 침해</td>\n",
       "      <td>사회혼란</td>\n",
       "      <td>0</td>\n",
       "    </tr>\n",
       "    <tr>\n",
       "      <th>128</th>\n",
       "      <td>경쟁에서 우위선점</td>\n",
       "      <td>ScanNDoS</td>\n",
       "      <td>사회혼란</td>\n",
       "      <td>0</td>\n",
       "    </tr>\n",
       "    <tr>\n",
       "      <th>133</th>\n",
       "      <td>국가기능 마비</td>\n",
       "      <td>ScanNDoS</td>\n",
       "      <td>사회혼란</td>\n",
       "      <td>0</td>\n",
       "    </tr>\n",
       "    <tr>\n",
       "      <th>153</th>\n",
       "      <td>분노표출</td>\n",
       "      <td>ScanNDoS</td>\n",
       "      <td>사회혼란</td>\n",
       "      <td>0</td>\n",
       "    </tr>\n",
       "    <tr>\n",
       "      <th>154</th>\n",
       "      <td>정치적 목적달성</td>\n",
       "      <td>해킹</td>\n",
       "      <td>사회혼란</td>\n",
       "      <td>0</td>\n",
       "    </tr>\n",
       "    <tr>\n",
       "      <th>155</th>\n",
       "      <td>사회혼란</td>\n",
       "      <td>악성코드</td>\n",
       "      <td>데이터 손실</td>\n",
       "      <td>0</td>\n",
       "    </tr>\n",
       "    <tr>\n",
       "      <th>171</th>\n",
       "      <td>정치적 목적달성</td>\n",
       "      <td>악성코드</td>\n",
       "      <td>개인정보 유출</td>\n",
       "      <td>0</td>\n",
       "    </tr>\n",
       "    <tr>\n",
       "      <th>173</th>\n",
       "      <td>정치적 목적달성</td>\n",
       "      <td>시스템 침해</td>\n",
       "      <td>사회혼란</td>\n",
       "      <td>0</td>\n",
       "    </tr>\n",
       "    <tr>\n",
       "      <th>177</th>\n",
       "      <td>정치적 목적달성</td>\n",
       "      <td>악성코드</td>\n",
       "      <td>데이터 손실</td>\n",
       "      <td>0</td>\n",
       "    </tr>\n",
       "    <tr>\n",
       "      <th>224</th>\n",
       "      <td>기타</td>\n",
       "      <td>악성코드</td>\n",
       "      <td>신뢰하락</td>\n",
       "      <td>0</td>\n",
       "    </tr>\n",
       "    <tr>\n",
       "      <th>287</th>\n",
       "      <td>금전적 이득</td>\n",
       "      <td>도박</td>\n",
       "      <td>사회혼란</td>\n",
       "      <td>0</td>\n",
       "    </tr>\n",
       "  </tbody>\n",
       "</table>\n",
       "</div>"
      ],
      "text/plain": [
       "                Purpose Attack_Skill   Result  cluster\n",
       "1                  사회혼란          APT     사회혼란        0\n",
       "2                  사회혼란     ScanNDoS     사회혼란        0\n",
       "9              정치적 목적달성     ScanNDoS     사회혼란        0\n",
       "39               금전적 이득         악성코드     사회혼란        0\n",
       "44              국가기능 마비         악성코드     사회혼란        0\n",
       "48               금전적 이득     ScanNDoS     사회혼란        0\n",
       "53               금전적 이득          APT     사회혼란        0\n",
       "57             정치적 목적달성         악성코드     사회혼란        0\n",
       "60   군, 국가핵심시설에 관한 정보탈취           해킹     사회혼란        0\n",
       "61   군, 국가핵심시설에 관한 정보탈취         악성코드     사회혼란        0\n",
       "66             정치적 목적달성          APT     사회혼란        0\n",
       "67            경쟁에서 우위선점         악성코드  산업기술 유출        0\n",
       "71               개인정보수집         악성코드  산업기술 유출        0\n",
       "75            경쟁에서 우위선점         악성코드   저작권 침해        0\n",
       "118                사회혼란         악성코드     사회혼란        0\n",
       "120                실력과시           해킹     사회혼란        0\n",
       "121                사회혼란           해킹     사회혼란        0\n",
       "122                  사고          부주의     사회혼란        0\n",
       "123             국가기능 마비       시스템 침해     사회혼란        0\n",
       "124                정보획득         악성코드   데이터 손실        0\n",
       "126              금전적 이득       시스템 침해     사회혼란        0\n",
       "128           경쟁에서 우위선점     ScanNDoS     사회혼란        0\n",
       "133             국가기능 마비     ScanNDoS     사회혼란        0\n",
       "153                분노표출     ScanNDoS     사회혼란        0\n",
       "154            정치적 목적달성           해킹     사회혼란        0\n",
       "155                사회혼란         악성코드   데이터 손실        0\n",
       "171            정치적 목적달성         악성코드  개인정보 유출        0\n",
       "173            정치적 목적달성       시스템 침해     사회혼란        0\n",
       "177            정치적 목적달성         악성코드   데이터 손실        0\n",
       "224                  기타         악성코드     신뢰하락        0\n",
       "287              금전적 이득           도박     사회혼란        0"
      ]
     },
     "execution_count": 43,
     "metadata": {},
     "output_type": "execute_result"
    }
   ],
   "source": [
    "## Cluster 데이터 확인\n",
    "df2[df2['cluster']==0].drop_duplicates()"
   ]
  },
  {
   "cell_type": "code",
   "execution_count": 44,
   "metadata": {},
   "outputs": [
    {
     "data": {
      "text/plain": [
       "금전적 이득                151\n",
       "군, 국가핵심시설에 관한 정보탈취     35\n",
       "정치적 목적달성               25\n",
       "분노표출                   16\n",
       "사회혼란                   15\n",
       "경쟁에서 우위선점              14\n",
       "정보획득                   10\n",
       "국가기능 마비                 8\n",
       "기타                      6\n",
       "사고                      4\n",
       "우월감                     4\n",
       "영웅심                     3\n",
       "실력과시                    3\n",
       "정보 획득                   2\n",
       "개인정보수집                  1\n",
       "종교적 목적                  1\n",
       "Name: Purpose, dtype: int64"
      ]
     },
     "execution_count": 44,
     "metadata": {},
     "output_type": "execute_result"
    }
   ],
   "source": [
    "df2['Purpose'].value_counts()"
   ]
  },
  {
   "cell_type": "markdown",
   "metadata": {},
   "source": [
    "### 군집된 데이터 내보내기"
   ]
  },
  {
   "cell_type": "code",
   "execution_count": 45,
   "metadata": {
    "scrolled": true
   },
   "outputs": [
    {
     "name": "stdout",
     "output_type": "stream",
     "text": [
      "<class 'pandas.core.frame.DataFrame'>\n",
      "RangeIndex: 298 entries, 0 to 297\n",
      "Data columns (total 4 columns):\n",
      " #   Column        Non-Null Count  Dtype \n",
      "---  ------        --------------  ----- \n",
      " 0   Purpose       298 non-null    object\n",
      " 1   Attack_Skill  298 non-null    object\n",
      " 2   Result        298 non-null    object\n",
      " 3   cluster       298 non-null    int32 \n",
      "dtypes: int32(1), object(3)\n",
      "memory usage: 8.3+ KB\n"
     ]
    }
   ],
   "source": [
    "# 내보낼 데이터프레임\n",
    "df2.info()"
   ]
  },
  {
   "cell_type": "code",
   "execution_count": 46,
   "metadata": {},
   "outputs": [
    {
     "data": {
      "text/html": [
       "<div>\n",
       "<style scoped>\n",
       "    .dataframe tbody tr th:only-of-type {\n",
       "        vertical-align: middle;\n",
       "    }\n",
       "\n",
       "    .dataframe tbody tr th {\n",
       "        vertical-align: top;\n",
       "    }\n",
       "\n",
       "    .dataframe thead th {\n",
       "        text-align: right;\n",
       "    }\n",
       "</style>\n",
       "<table border=\"1\" class=\"dataframe\">\n",
       "  <thead>\n",
       "    <tr style=\"text-align: right;\">\n",
       "      <th></th>\n",
       "      <th>Purpose</th>\n",
       "      <th>Attack_Skill</th>\n",
       "      <th>Result</th>\n",
       "      <th>cluster</th>\n",
       "      <th>Date</th>\n",
       "    </tr>\n",
       "  </thead>\n",
       "  <tbody>\n",
       "    <tr>\n",
       "      <th>0</th>\n",
       "      <td>금전적 이득</td>\n",
       "      <td>해킹</td>\n",
       "      <td>금전 손실</td>\n",
       "      <td>4</td>\n",
       "      <td>2018.01.26</td>\n",
       "    </tr>\n",
       "    <tr>\n",
       "      <th>1</th>\n",
       "      <td>사회혼란</td>\n",
       "      <td>APT</td>\n",
       "      <td>사회혼란</td>\n",
       "      <td>0</td>\n",
       "      <td>2013.03.20</td>\n",
       "    </tr>\n",
       "    <tr>\n",
       "      <th>2</th>\n",
       "      <td>사회혼란</td>\n",
       "      <td>ScanNDoS</td>\n",
       "      <td>사회혼란</td>\n",
       "      <td>0</td>\n",
       "      <td>2013.06.25</td>\n",
       "    </tr>\n",
       "    <tr>\n",
       "      <th>3</th>\n",
       "      <td>정보획득</td>\n",
       "      <td>악성코드</td>\n",
       "      <td>금전 손실</td>\n",
       "      <td>4</td>\n",
       "      <td>2014.11.24</td>\n",
       "    </tr>\n",
       "    <tr>\n",
       "      <th>4</th>\n",
       "      <td>사회혼란</td>\n",
       "      <td>ScanNDoS</td>\n",
       "      <td>사회혼란</td>\n",
       "      <td>0</td>\n",
       "      <td>2003.01.25</td>\n",
       "    </tr>\n",
       "  </tbody>\n",
       "</table>\n",
       "</div>"
      ],
      "text/plain": [
       "  Purpose Attack_Skill Result  cluster        Date\n",
       "0  금전적 이득           해킹  금전 손실        4  2018.01.26\n",
       "1    사회혼란          APT   사회혼란        0  2013.03.20\n",
       "2    사회혼란     ScanNDoS   사회혼란        0  2013.06.25\n",
       "3    정보획득         악성코드  금전 손실        4  2014.11.24\n",
       "4    사회혼란     ScanNDoS   사회혼란        0  2003.01.25"
      ]
     },
     "execution_count": 46,
     "metadata": {},
     "output_type": "execute_result"
    }
   ],
   "source": [
    "# Date 포함\n",
    "df2['Date'] = df_dropna['Date']\n",
    "df2.head()"
   ]
  },
  {
   "cell_type": "code",
   "execution_count": 47,
   "metadata": {},
   "outputs": [],
   "source": [
    "# csv로 내보내기\n",
    "dir_path\n",
    "file_name = \"cluster_data_0930.csv\"\n",
    "data_path = os.path.join(dir_path, file_name)\n",
    "# df2.to_csv(data_path, sep=',', na_rep='NaN')"
   ]
  },
  {
   "cell_type": "markdown",
   "metadata": {},
   "source": [
    "#### 시각화\n",
    "*범주형 변수 군집화 시각화 방법은 좀더 고민해보기*\n",
    "\n",
    "1. PCA를 통해 2개 변수"
   ]
  },
  {
   "cell_type": "code",
   "execution_count": 48,
   "metadata": {},
   "outputs": [],
   "source": [
    "## 시각화\n"
   ]
  },
  {
   "cell_type": "markdown",
   "metadata": {},
   "source": [
    "#### 클러스터 평가\n",
    "1. 실루엣 분석: https://ariz1623.tistory.com/224\n",
    "2. RandIndex"
   ]
  },
  {
   "cell_type": "code",
   "execution_count": 49,
   "metadata": {},
   "outputs": [
    {
     "data": {
      "text/plain": [
       "0.30933051185390176"
      ]
     },
     "execution_count": 49,
     "metadata": {},
     "output_type": "execute_result"
    }
   ],
   "source": [
    "## 타당성 평가\n",
    "# 군집 간 거리, 군집 간 분산, 실루엣 지표 등 사용가능\n",
    "\n",
    "# 실루엣 분석\n",
    "from sklearn.metrics import silhouette_samples, silhouette_score\n",
    "\n",
    "# 실루엣 계수\n",
    "silhouette_score(df2_dummy, df2['cluster'])\n"
   ]
  },
  {
   "cell_type": "code",
   "execution_count": 50,
   "metadata": {},
   "outputs": [],
   "source": [
    "#  Rand Index: 외부평가\n",
    "from sklearn.metrics.cluster import adjusted_rand_score\n",
    "\n",
    "# adjusted_rand_score(df2_dummy, df2['cluster'])"
   ]
  },
  {
   "cell_type": "markdown",
   "metadata": {},
   "source": [
    "### K-Means 단순수치화 변환"
   ]
  },
  {
   "cell_type": "code",
   "execution_count": 61,
   "metadata": {},
   "outputs": [
    {
     "data": {
      "image/png": "[encoded data removed]",
      "text/plain": [
       "<Figure size 720x360 with 1 Axes>"
      ]
     },
     "metadata": {
      "needs_background": "light"
     },
     "output_type": "display_data"
    }
   ],
   "source": [
    "# 단순수치화 변수, 군집개수 산정\n",
    "## 군집개수 정하기\n",
    "x = df3\n",
    "\n",
    "distortions = []\n",
    "for k in range(2, 20):\n",
    "    kmeans = KMeans(n_clusters=k)\n",
    "    kmeans.fit(x)\n",
    "    distortions.append(kmeans.inertia_)\n",
    "\n",
    "fig = plt.figure(figsize=(10, 5))\n",
    "plt.plot(range(2, 20), distortions)\n",
    "plt.grid(True)\n",
    "plt.title('Elbow curve')\n",
    "plt.xlabel(\"Number of Clusters\")\n",
    "plt.ylabel(\"Inertia\")\n",
    "plt.show()"
   ]
  },
  {
   "cell_type": "code",
   "execution_count": null,
   "metadata": {},
   "outputs": [],
   "source": []
  },
  {
   "cell_type": "code",
   "execution_count": null,
   "metadata": {},
   "outputs": [],
   "source": []
  },
  {
   "cell_type": "code",
   "execution_count": 62,
   "metadata": {},
   "outputs": [
    {
     "data": {
      "text/plain": [
       "0.5258898137370874"
      ]
     },
     "execution_count": 62,
     "metadata": {},
     "output_type": "execute_result"
    }
   ],
   "source": [
    "## 단순 수치화 변환 방법\n",
    "# x 변수\n",
    "x = df3.values\n",
    "\n",
    "# 모델 생성\n",
    "kmeans = KMeans(n_clusters=4, init='random')\n",
    "\n",
    "# 모델 학습 및 예측\n",
    "model = kmeans.fit(x)\n",
    "y_pred = model.predict(x)\n",
    "\n",
    "# 실루엣 계수\n",
    "silhouette_score(df3, y_pred)"
   ]
  },
  {
   "cell_type": "code",
   "execution_count": 63,
   "metadata": {},
   "outputs": [
    {
     "data": {
      "text/html": [
       "<div>\n",
       "<style scoped>\n",
       "    .dataframe tbody tr th:only-of-type {\n",
       "        vertical-align: middle;\n",
       "    }\n",
       "\n",
       "    .dataframe tbody tr th {\n",
       "        vertical-align: top;\n",
       "    }\n",
       "\n",
       "    .dataframe thead th {\n",
       "        text-align: right;\n",
       "    }\n",
       "</style>\n",
       "<table border=\"1\" class=\"dataframe\">\n",
       "  <thead>\n",
       "    <tr style=\"text-align: right;\">\n",
       "      <th></th>\n",
       "      <th>Purpose</th>\n",
       "      <th>Attack_Skill</th>\n",
       "      <th>Result</th>\n",
       "      <th>cluster</th>\n",
       "    </tr>\n",
       "  </thead>\n",
       "  <tbody>\n",
       "    <tr>\n",
       "      <th>0</th>\n",
       "      <td>금전적 이득</td>\n",
       "      <td>해킹</td>\n",
       "      <td>금전 손실</td>\n",
       "      <td>3</td>\n",
       "    </tr>\n",
       "    <tr>\n",
       "      <th>1</th>\n",
       "      <td>사회혼란</td>\n",
       "      <td>APT</td>\n",
       "      <td>사회혼란</td>\n",
       "      <td>3</td>\n",
       "    </tr>\n",
       "    <tr>\n",
       "      <th>2</th>\n",
       "      <td>사회혼란</td>\n",
       "      <td>ScanNDoS</td>\n",
       "      <td>사회혼란</td>\n",
       "      <td>3</td>\n",
       "    </tr>\n",
       "    <tr>\n",
       "      <th>3</th>\n",
       "      <td>정보획득</td>\n",
       "      <td>악성코드</td>\n",
       "      <td>금전 손실</td>\n",
       "      <td>3</td>\n",
       "    </tr>\n",
       "    <tr>\n",
       "      <th>4</th>\n",
       "      <td>사회혼란</td>\n",
       "      <td>ScanNDoS</td>\n",
       "      <td>사회혼란</td>\n",
       "      <td>3</td>\n",
       "    </tr>\n",
       "    <tr>\n",
       "      <th>...</th>\n",
       "      <td>...</td>\n",
       "      <td>...</td>\n",
       "      <td>...</td>\n",
       "      <td>...</td>\n",
       "    </tr>\n",
       "    <tr>\n",
       "      <th>293</th>\n",
       "      <td>금전적 이득</td>\n",
       "      <td>도박</td>\n",
       "      <td>금전 손실</td>\n",
       "      <td>0</td>\n",
       "    </tr>\n",
       "    <tr>\n",
       "      <th>294</th>\n",
       "      <td>금전적 이득</td>\n",
       "      <td>도박</td>\n",
       "      <td>사회혼란</td>\n",
       "      <td>0</td>\n",
       "    </tr>\n",
       "    <tr>\n",
       "      <th>295</th>\n",
       "      <td>금전적 이득</td>\n",
       "      <td>도박</td>\n",
       "      <td>사회혼란</td>\n",
       "      <td>0</td>\n",
       "    </tr>\n",
       "    <tr>\n",
       "      <th>296</th>\n",
       "      <td>금전적 이득</td>\n",
       "      <td>도박</td>\n",
       "      <td>금전 손실</td>\n",
       "      <td>0</td>\n",
       "    </tr>\n",
       "    <tr>\n",
       "      <th>297</th>\n",
       "      <td>금전적 이득</td>\n",
       "      <td>도박</td>\n",
       "      <td>사회혼란</td>\n",
       "      <td>0</td>\n",
       "    </tr>\n",
       "  </tbody>\n",
       "</table>\n",
       "<p>298 rows × 4 columns</p>\n",
       "</div>"
      ],
      "text/plain": [
       "    Purpose Attack_Skill Result  cluster\n",
       "0    금전적 이득           해킹  금전 손실        3\n",
       "1      사회혼란          APT   사회혼란        3\n",
       "2      사회혼란     ScanNDoS   사회혼란        3\n",
       "3      정보획득         악성코드  금전 손실        3\n",
       "4      사회혼란     ScanNDoS   사회혼란        3\n",
       "..      ...          ...    ...      ...\n",
       "293  금전적 이득           도박  금전 손실        0\n",
       "294  금전적 이득           도박   사회혼란        0\n",
       "295  금전적 이득           도박   사회혼란        0\n",
       "296  금전적 이득           도박  금전 손실        0\n",
       "297  금전적 이득           도박   사회혼란        0\n",
       "\n",
       "[298 rows x 4 columns]"
      ]
     },
     "execution_count": 63,
     "metadata": {},
     "output_type": "execute_result"
    }
   ],
   "source": [
    "# 최고 실루엣 계수 데이터프레임화\n",
    "df_best = df_dropna[['Purpose', 'Attack_Skill', 'Result']]\n",
    "df_best['cluster'] = y_pred\n",
    "df_best"
   ]
  },
  {
   "cell_type": "code",
   "execution_count": 64,
   "metadata": {},
   "outputs": [
    {
     "data": {
      "text/plain": [
       "3    153\n",
       "2     86\n",
       "0     32\n",
       "1     27\n",
       "Name: cluster, dtype: int64"
      ]
     },
     "execution_count": 64,
     "metadata": {},
     "output_type": "execute_result"
    }
   ],
   "source": [
    "# 클러스터 확인\n",
    "df_best['cluster'].value_counts()"
   ]
  },
  {
   "cell_type": "code",
   "execution_count": 79,
   "metadata": {},
   "outputs": [
    {
     "data": {
      "text/html": [
       "<div>\n",
       "<style scoped>\n",
       "    .dataframe tbody tr th:only-of-type {\n",
       "        vertical-align: middle;\n",
       "    }\n",
       "\n",
       "    .dataframe tbody tr th {\n",
       "        vertical-align: top;\n",
       "    }\n",
       "\n",
       "    .dataframe thead th {\n",
       "        text-align: right;\n",
       "    }\n",
       "</style>\n",
       "<table border=\"1\" class=\"dataframe\">\n",
       "  <thead>\n",
       "    <tr style=\"text-align: right;\">\n",
       "      <th></th>\n",
       "      <th></th>\n",
       "      <th></th>\n",
       "      <th></th>\n",
       "      <th>0</th>\n",
       "    </tr>\n",
       "    <tr>\n",
       "      <th>Purpose</th>\n",
       "      <th>Attack_Skill</th>\n",
       "      <th>Result</th>\n",
       "      <th>cluster</th>\n",
       "      <th></th>\n",
       "    </tr>\n",
       "  </thead>\n",
       "  <tbody>\n",
       "    <tr>\n",
       "      <th rowspan=\"3\" valign=\"top\">금전적 이득</th>\n",
       "      <th>음란물 유포</th>\n",
       "      <th>정신적 피해</th>\n",
       "      <th>0</th>\n",
       "      <td>9</td>\n",
       "    </tr>\n",
       "    <tr>\n",
       "      <th rowspan=\"2\" valign=\"top\">도박</th>\n",
       "      <th>사회혼란</th>\n",
       "      <th>0</th>\n",
       "      <td>6</td>\n",
       "    </tr>\n",
       "    <tr>\n",
       "      <th>금전 손실</th>\n",
       "      <th>0</th>\n",
       "      <td>5</td>\n",
       "    </tr>\n",
       "    <tr>\n",
       "      <th>정치적 목적달성</th>\n",
       "      <th>명예훼손</th>\n",
       "      <th>평판훼손</th>\n",
       "      <th>0</th>\n",
       "      <td>4</td>\n",
       "    </tr>\n",
       "    <tr>\n",
       "      <th rowspan=\"2\" valign=\"top\">금전적 이득</th>\n",
       "      <th rowspan=\"2\" valign=\"top\">저작권 침해</th>\n",
       "      <th>금전 손실</th>\n",
       "      <th>0</th>\n",
       "      <td>3</td>\n",
       "    </tr>\n",
       "    <tr>\n",
       "      <th>정신적 피해</th>\n",
       "      <th>0</th>\n",
       "      <td>2</td>\n",
       "    </tr>\n",
       "    <tr>\n",
       "      <th>정치적 목적달성</th>\n",
       "      <th>시스템 침해</th>\n",
       "      <th>사회혼란</th>\n",
       "      <th>0</th>\n",
       "      <td>1</td>\n",
       "    </tr>\n",
       "    <tr>\n",
       "      <th>정보획득</th>\n",
       "      <th>개인정보 침해</th>\n",
       "      <th>정신적 피해</th>\n",
       "      <th>0</th>\n",
       "      <td>1</td>\n",
       "    </tr>\n",
       "    <tr>\n",
       "      <th>금전적 이득</th>\n",
       "      <th>시스템 침해</th>\n",
       "      <th>사회혼란</th>\n",
       "      <th>0</th>\n",
       "      <td>1</td>\n",
       "    </tr>\n",
       "  </tbody>\n",
       "</table>\n",
       "</div>"
      ],
      "text/plain": [
       "                                      0\n",
       "Purpose  Attack_Skill Result cluster   \n",
       "금전적 이득   음란물 유포       정신적 피해 0        9\n",
       "         도박           사회혼란   0        6\n",
       "                      금전 손실  0        5\n",
       "정치적 목적달성 명예훼손         평판훼손   0        4\n",
       "금전적 이득   저작권 침해       금전 손실  0        3\n",
       "                      정신적 피해 0        2\n",
       "정치적 목적달성 시스템 침해       사회혼란   0        1\n",
       "정보획득     개인정보 침해      정신적 피해 0        1\n",
       "금전적 이득   시스템 침해       사회혼란   0        1"
      ]
     },
     "execution_count": 79,
     "metadata": {},
     "output_type": "execute_result"
    }
   ],
   "source": [
    "pd.DataFrame(df_best[df_best['cluster']==0].value_counts())"
   ]
  },
  {
   "cell_type": "code",
   "execution_count": 66,
   "metadata": {},
   "outputs": [
    {
     "name": "stdout",
     "output_type": "stream",
     "text": [
      "누적 설명 분산량: 0.9139676770574048\n"
     ]
    }
   ],
   "source": [
    "## 시각화\n",
    "# PCA\n",
    "from sklearn.decomposition import PCA\n",
    "\n",
    "# 대상 변수\n",
    "x = df3.values\n",
    "\n",
    "pca = PCA(n_components=2)\n",
    "components = pca.fit_transform(x)\n",
    "pca_df = pd.DataFrame(data=components, columns = ['principal component1', 'principal component2'])\n",
    "\n",
    "# pca_df\n",
    "\n",
    "print(\"누적 설명 분산량:\", sum(pca.explained_variance_ratio_))"
   ]
  },
  {
   "cell_type": "code",
   "execution_count": 67,
   "metadata": {},
   "outputs": [
    {
     "data": {
      "text/html": [
       "<div>\n",
       "<style scoped>\n",
       "    .dataframe tbody tr th:only-of-type {\n",
       "        vertical-align: middle;\n",
       "    }\n",
       "\n",
       "    .dataframe tbody tr th {\n",
       "        vertical-align: top;\n",
       "    }\n",
       "\n",
       "    .dataframe thead th {\n",
       "        text-align: right;\n",
       "    }\n",
       "</style>\n",
       "<table border=\"1\" class=\"dataframe\">\n",
       "  <thead>\n",
       "    <tr style=\"text-align: right;\">\n",
       "      <th></th>\n",
       "      <th>principal component1</th>\n",
       "      <th>principal component2</th>\n",
       "      <th>cluster</th>\n",
       "    </tr>\n",
       "  </thead>\n",
       "  <tbody>\n",
       "    <tr>\n",
       "      <th>0</th>\n",
       "      <td>-5.278558</td>\n",
       "      <td>-0.552831</td>\n",
       "      <td>3</td>\n",
       "    </tr>\n",
       "    <tr>\n",
       "      <th>1</th>\n",
       "      <td>-3.600414</td>\n",
       "      <td>-0.488810</td>\n",
       "      <td>3</td>\n",
       "    </tr>\n",
       "    <tr>\n",
       "      <th>2</th>\n",
       "      <td>-2.975755</td>\n",
       "      <td>0.258459</td>\n",
       "      <td>3</td>\n",
       "    </tr>\n",
       "    <tr>\n",
       "      <th>3</th>\n",
       "      <td>-2.019778</td>\n",
       "      <td>0.360478</td>\n",
       "      <td>3</td>\n",
       "    </tr>\n",
       "    <tr>\n",
       "      <th>4</th>\n",
       "      <td>-2.975755</td>\n",
       "      <td>0.258459</td>\n",
       "      <td>3</td>\n",
       "    </tr>\n",
       "  </tbody>\n",
       "</table>\n",
       "</div>"
      ],
      "text/plain": [
       "   principal component1  principal component2  cluster\n",
       "0             -5.278558             -0.552831        3\n",
       "1             -3.600414             -0.488810        3\n",
       "2             -2.975755              0.258459        3\n",
       "3             -2.019778              0.360478        3\n",
       "4             -2.975755              0.258459        3"
      ]
     },
     "execution_count": 67,
     "metadata": {},
     "output_type": "execute_result"
    }
   ],
   "source": [
    "# cluster 합쳐 데이터프레임화\n",
    "finalDf = pca_df[['principal component1', 'principal component2']]\n",
    "finalDf['cluster'] = df_best['cluster']\n",
    "finalDf.head()"
   ]
  },
  {
   "cell_type": "code",
   "execution_count": 68,
   "metadata": {},
   "outputs": [
    {
     "data": {
      "text/plain": [
       "0      False\n",
       "1      False\n",
       "2      False\n",
       "3      False\n",
       "4      False\n",
       "       ...  \n",
       "293    False\n",
       "294    False\n",
       "295    False\n",
       "296    False\n",
       "297    False\n",
       "Name: cluster, Length: 298, dtype: bool"
      ]
     },
     "execution_count": 68,
     "metadata": {},
     "output_type": "execute_result"
    }
   ],
   "source": [
    "indicesToKeep = finalDf['cluster'] == '0'\n",
    "indicesToKeep"
   ]
  },
  {
   "cell_type": "code",
   "execution_count": 69,
   "metadata": {},
   "outputs": [
    {
     "data": {
      "image/png": "[encoded data removed]",
      "text/plain": [
       "<Figure size 576x576 with 1 Axes>"
      ]
     },
     "metadata": {
      "needs_background": "light"
     },
     "output_type": "display_data"
    }
   ],
   "source": [
    "# 시각화\n",
    "fig = plt.figure(figsize = (8, 8))\n",
    "ax = fig.add_subplot(1, 1, 1)\n",
    "ax.set_xlabel('Principal Component 1', fontsize = 15)\n",
    "ax.set_ylabel('Principal Component 2', fontsize = 15)\n",
    "ax.set_title('2 component PCA', fontsize=20)\n",
    "\n",
    "targets = [0, 1, 2, 3]\n",
    "colors = [\"#ffff99\",\"#386cb0\",\"#f0027f\",\"#666666\"]\n",
    "for target, color in zip(targets,colors):\n",
    "    indicesToKeep = finalDf['cluster'] == target\n",
    "    ax.scatter(finalDf.loc[indicesToKeep, 'principal component1']\n",
    "               , finalDf.loc[indicesToKeep, 'principal component2']\n",
    "               , c = color\n",
    "               , s = 50)\n",
    "ax.legend(targets)\n",
    "ax.grid()"
   ]
  },
  {
   "cell_type": "code",
   "execution_count": null,
   "metadata": {},
   "outputs": [],
   "source": []
  },
  {
   "cell_type": "markdown",
   "metadata": {},
   "source": [
    "### 방법2. K Modes\n",
    "참고자료\n",
    "\n",
    "1. https://pypi.org/project/kmodes/\n",
    "2. http://kookmin.dcollection.net/srch/srchDetail/200000222847?ajax=false&start=0&query=%28ins_code%3A211014%29+AND++%2B%28%28all%3A%EA%B5%B0%EC%A7%91%EB%B6%84%EC%84%9D%29%29&sortDir=desc&pageSize=10&searchKeyWord1=%EA%B5%B0%EC%A7%91%EB%B6%84%EC%84%9D&searchWhere1=all&searchTotalCount=0&navigationSize=10&searchText=%5B%EC%A0%84%EC%B2%B4%3A%3Cspan+class%3D%22point1%22%3E%EA%B5%B0%EC%A7%91%EB%B6%84%EC%84%9D%3C%2Fspan%3E%5D&pageNum=1&rows=10&insCode=211014&searthTotalPage=0&sortField=score"
   ]
  },
  {
   "cell_type": "code",
   "execution_count": 52,
   "metadata": {},
   "outputs": [
    {
     "data": {
      "text/plain": [
       "array(['금전적 이득', '사회혼란', '정보획득', '사고', '정치적 목적달성', '실력과시',\n",
       "       '군, 국가핵심시설에 관한 정보탈취', '정보 획득', '국가기능 마비', '경쟁에서 우위선점', '개인정보수집',\n",
       "       '분노표출', '영웅심', '우월감', '종교적 목적', '기타'], dtype=object)"
      ]
     },
     "execution_count": 52,
     "metadata": {},
     "output_type": "execute_result"
    }
   ],
   "source": [
    "# purpose 범주화\n",
    "df2['Purpose'].unique()"
   ]
  },
  {
   "cell_type": "code",
   "execution_count": 53,
   "metadata": {
    "scrolled": true
   },
   "outputs": [
    {
     "name": "stdout",
     "output_type": "stream",
     "text": [
      "<class 'pandas.core.frame.DataFrame'>\n",
      "RangeIndex: 298 entries, 0 to 297\n",
      "Data columns (total 1 columns):\n",
      " #   Column   Non-Null Count  Dtype   \n",
      "---  ------   --------------  -----   \n",
      " 0   Purpose  298 non-null    category\n",
      "dtypes: category(1)\n",
      "memory usage: 1.2 KB\n"
     ]
    }
   ],
   "source": [
    "pp_category = {'금전적 이득':1, '사회혼란':2, '정보획득':3,'사고':4, '정치적 목적달성':5,'실력과시':6,\n",
    "       '군, 국가핵심시설에 관한 정보탈취':7, '정보 획득':8, '국가기능 마비':9, '경쟁에서 우위선점':10,'개인정보수집':11,\n",
    "       '분노표출':12, '영웅심':13, '우월감':14, '종교적 목적':15, '기타':16}\n",
    "df3 = pd.DataFrame(df2['Purpose'].replace(pp_category).astype('category'))\n",
    "df3.info()"
   ]
  },
  {
   "cell_type": "code",
   "execution_count": 54,
   "metadata": {},
   "outputs": [
    {
     "data": {
      "text/plain": [
       "array(['해킹', 'APT', 'ScanNDoS', '악성코드', '부주의', '권한 오남용', '개인정보 침해', '사기',\n",
       "       '시스템 침해', '음란물 유포', '명예훼손', '스토킹', '계정 도용', '저작권 침해', '도박'],\n",
       "      dtype=object)"
      ]
     },
     "execution_count": 54,
     "metadata": {},
     "output_type": "execute_result"
    }
   ],
   "source": [
    "# Attack_Skill 범주화\n",
    "df2['Attack_Skill'].unique()"
   ]
  },
  {
   "cell_type": "code",
   "execution_count": 55,
   "metadata": {},
   "outputs": [
    {
     "data": {
      "text/html": [
       "<div>\n",
       "<style scoped>\n",
       "    .dataframe tbody tr th:only-of-type {\n",
       "        vertical-align: middle;\n",
       "    }\n",
       "\n",
       "    .dataframe tbody tr th {\n",
       "        vertical-align: top;\n",
       "    }\n",
       "\n",
       "    .dataframe thead th {\n",
       "        text-align: right;\n",
       "    }\n",
       "</style>\n",
       "<table border=\"1\" class=\"dataframe\">\n",
       "  <thead>\n",
       "    <tr style=\"text-align: right;\">\n",
       "      <th></th>\n",
       "      <th>Purpose</th>\n",
       "      <th>Attack_Skill</th>\n",
       "    </tr>\n",
       "  </thead>\n",
       "  <tbody>\n",
       "    <tr>\n",
       "      <th>0</th>\n",
       "      <td>1</td>\n",
       "      <td>1</td>\n",
       "    </tr>\n",
       "    <tr>\n",
       "      <th>1</th>\n",
       "      <td>2</td>\n",
       "      <td>2</td>\n",
       "    </tr>\n",
       "    <tr>\n",
       "      <th>2</th>\n",
       "      <td>2</td>\n",
       "      <td>3</td>\n",
       "    </tr>\n",
       "    <tr>\n",
       "      <th>3</th>\n",
       "      <td>3</td>\n",
       "      <td>4</td>\n",
       "    </tr>\n",
       "    <tr>\n",
       "      <th>4</th>\n",
       "      <td>2</td>\n",
       "      <td>3</td>\n",
       "    </tr>\n",
       "    <tr>\n",
       "      <th>...</th>\n",
       "      <td>...</td>\n",
       "      <td>...</td>\n",
       "    </tr>\n",
       "    <tr>\n",
       "      <th>293</th>\n",
       "      <td>1</td>\n",
       "      <td>15</td>\n",
       "    </tr>\n",
       "    <tr>\n",
       "      <th>294</th>\n",
       "      <td>1</td>\n",
       "      <td>15</td>\n",
       "    </tr>\n",
       "    <tr>\n",
       "      <th>295</th>\n",
       "      <td>1</td>\n",
       "      <td>15</td>\n",
       "    </tr>\n",
       "    <tr>\n",
       "      <th>296</th>\n",
       "      <td>1</td>\n",
       "      <td>15</td>\n",
       "    </tr>\n",
       "    <tr>\n",
       "      <th>297</th>\n",
       "      <td>1</td>\n",
       "      <td>15</td>\n",
       "    </tr>\n",
       "  </tbody>\n",
       "</table>\n",
       "<p>298 rows × 2 columns</p>\n",
       "</div>"
      ],
      "text/plain": [
       "    Purpose Attack_Skill\n",
       "0         1            1\n",
       "1         2            2\n",
       "2         2            3\n",
       "3         3            4\n",
       "4         2            3\n",
       "..      ...          ...\n",
       "293       1           15\n",
       "294       1           15\n",
       "295       1           15\n",
       "296       1           15\n",
       "297       1           15\n",
       "\n",
       "[298 rows x 2 columns]"
      ]
     },
     "execution_count": 55,
     "metadata": {},
     "output_type": "execute_result"
    }
   ],
   "source": [
    "as_category = {'해킹':1, 'APT':2, 'ScanNDoS':3, '악성코드':4, '부주의':5, '권한 오남용':6, '개인정보 침해':7, '사기':8,\n",
    "       '시스템 침해':9, '음란물 유포':10, '명예훼손':11, '스토킹':12, '계정 도용':13, '저작권 침해':14, '도박':15}\n",
    "df3['Attack_Skill'] = df2['Attack_Skill'].replace(as_category).astype('category')\n",
    "df3"
   ]
  },
  {
   "cell_type": "code",
   "execution_count": 56,
   "metadata": {},
   "outputs": [
    {
     "data": {
      "text/plain": [
       "array(['금전 손실', '사회혼란', '개인정보 유출', '신뢰하락', '국가기밀유출', '산업기술 유출', '저작권 침해',\n",
       "       '데이터 손실', '정신적 피해', '평판훼손', '사회 혼란'], dtype=object)"
      ]
     },
     "execution_count": 56,
     "metadata": {},
     "output_type": "execute_result"
    }
   ],
   "source": [
    "# Result 범주화\n",
    "df2['Result'].unique()"
   ]
  },
  {
   "cell_type": "code",
   "execution_count": 57,
   "metadata": {},
   "outputs": [
    {
     "name": "stdout",
     "output_type": "stream",
     "text": [
      "<class 'pandas.core.frame.DataFrame'>\n",
      "RangeIndex: 298 entries, 0 to 297\n",
      "Data columns (total 3 columns):\n",
      " #   Column        Non-Null Count  Dtype   \n",
      "---  ------        --------------  -----   \n",
      " 0   Purpose       298 non-null    category\n",
      " 1   Attack_Skill  298 non-null    category\n",
      " 2   Result        298 non-null    category\n",
      "dtypes: category(3)\n",
      "memory usage: 2.9 KB\n"
     ]
    }
   ],
   "source": [
    "re_category = {'금전 손실':1, '사회혼란':2, '개인정보 유출':2, '신뢰하락':3, '국가기밀유출':4, '산업기술 유출':5, '저작권 침해':6,\n",
    "       '데이터 손실':7, '정신적 피해':8, '평판훼손':9, '사회 혼란':10}\n",
    "df3['Result'] = df2['Result'].replace(re_category).astype('category')\n",
    "df3.info()"
   ]
  },
  {
   "cell_type": "code",
   "execution_count": 58,
   "metadata": {},
   "outputs": [
    {
     "data": {
      "image/png": "[encoded data removed]",
      "text/plain": [
       "<Figure size 720x360 with 1 Axes>"
      ]
     },
     "metadata": {
      "needs_background": "light"
     },
     "output_type": "display_data"
    }
   ],
   "source": [
    "## 군집개수 정하기\n",
    "# distortions 급격한 변화일 때의 클러스터 개수 선정 =4\n",
    "distortions = []\n",
    "for k in range(2, 20):\n",
    "    kmeans = KMeans(n_clusters=k)\n",
    "    kmeans.fit(x)\n",
    "    distortions.append(kmeans.inertia_)\n",
    "\n",
    "fig = plt.figure(figsize=(10, 5))\n",
    "plt.plot(range(2, 20), distortions)\n",
    "plt.grid(True)\n",
    "plt.title('Elbow curve')\n",
    "plt.xlabel(\"Number of Clusters\")\n",
    "plt.ylabel(\"Inertia\")\n",
    "plt.show()"
   ]
  },
  {
   "cell_type": "code",
   "execution_count": 59,
   "metadata": {
    "scrolled": true
   },
   "outputs": [
    {
     "name": "stdout",
     "output_type": "stream",
     "text": [
      "Init: initializing centroids\n",
      "Init: initializing clusters\n",
      "Starting iterations...\n",
      "Run 1, iteration: 1/100, moves: 76, cost: 356.0\n",
      "Run 1, iteration: 2/100, moves: 17, cost: 356.0\n",
      "Init: initializing centroids\n",
      "Init: initializing clusters\n",
      "Starting iterations...\n",
      "Run 2, iteration: 1/100, moves: 69, cost: 325.0\n",
      "Run 2, iteration: 2/100, moves: 15, cost: 325.0\n",
      "Init: initializing centroids\n",
      "Init: initializing clusters\n",
      "Starting iterations...\n",
      "Run 3, iteration: 1/100, moves: 80, cost: 314.0\n",
      "Init: initializing centroids\n",
      "Init: initializing clusters\n",
      "Starting iterations...\n",
      "Run 4, iteration: 1/100, moves: 11, cost: 320.0\n",
      "Init: initializing centroids\n",
      "Init: initializing clusters\n",
      "Starting iterations...\n",
      "Run 5, iteration: 1/100, moves: 30, cost: 367.0\n",
      "Best run was number 3\n",
      "[[ 1  1  2]\n",
      " [ 1  4  2]\n",
      " [ 1 10  8]\n",
      " [ 7  2  4]]\n"
     ]
    }
   ],
   "source": [
    "# K Mode 군집분석\n",
    "from kmodes.kmodes import KModes\n",
    "\n",
    "# x 변수\n",
    "x = df3.values\n",
    "km = KModes(n_clusters=4, init='Huang', n_init=5, verbose=1)\n",
    "\n",
    "clusters = km.fit_predict(x)\n",
    "\n",
    "# Print the cluster centroids\n",
    "print(km.cluster_centroids_)"
   ]
  },
  {
   "cell_type": "code",
   "execution_count": 60,
   "metadata": {
    "scrolled": true
   },
   "outputs": [
    {
     "data": {
      "text/plain": [
       "array([0, 0, 0, 1, 0, 0, 0, 0, 0, 0, 0, 0, 0, 0, 1, 0, 0, 0, 0, 1, 0, 0,\n",
       "       0, 0, 0, 0, 0, 1, 0, 0, 0, 0, 1, 0, 0, 0, 0, 0, 0, 1, 1, 0, 1, 1,\n",
       "       1, 0, 0, 0, 0, 1, 3, 0, 3, 0, 1, 3, 1, 1, 0, 1, 0, 1, 1, 3, 1, 3,\n",
       "       0, 1, 0, 1, 0, 1, 1, 1, 0, 1, 0, 0, 0, 0, 1, 1, 0, 0, 1, 1, 1, 0,\n",
       "       0, 0, 0, 0, 0, 0, 0, 0, 0, 0, 0, 1, 0, 0, 1, 0, 0, 0, 0, 0, 0, 0,\n",
       "       0, 0, 0, 0, 0, 0, 1, 0, 1, 1, 0, 0, 0, 0, 1, 1, 0, 1, 0, 1, 0, 0,\n",
       "       3, 0, 1, 1, 0, 3, 3, 0, 1, 1, 1, 1, 1, 1, 1, 1, 3, 3, 0, 0, 1, 0,\n",
       "       0, 1, 0, 0, 3, 0, 0, 0, 0, 0, 0, 0, 0, 0, 1, 1, 0, 1, 0, 0, 0, 0,\n",
       "       0, 1, 0, 0, 1, 0, 0, 2, 2, 0, 0, 0, 0, 2, 2, 0, 2, 0, 2, 0, 2, 0,\n",
       "       0, 2, 0, 0, 0, 2, 0, 0, 2, 2, 2, 0, 2, 0, 0, 2, 2, 2, 0, 2, 2, 2,\n",
       "       2, 0, 1, 1, 1, 1, 1, 1, 1, 3, 3, 3, 3, 0, 0, 0, 1, 0, 0, 0, 0, 0,\n",
       "       0, 0, 0, 0, 0, 0, 0, 0, 2, 2, 2, 0, 0, 2, 2, 2, 2, 0, 0, 0, 1, 2,\n",
       "       1, 3, 3, 3, 3, 3, 3, 3, 3, 3, 3, 3, 3, 3, 3, 0, 2, 2, 0, 0, 1, 2,\n",
       "       0, 0, 0, 0, 0, 0, 0, 0, 0, 0, 0, 0], dtype=uint16)"
      ]
     },
     "execution_count": 60,
     "metadata": {},
     "output_type": "execute_result"
    }
   ],
   "source": [
    "clusters"
   ]
  },
  {
   "cell_type": "code",
   "execution_count": null,
   "metadata": {
    "scrolled": false
   },
   "outputs": [],
   "source": [
    "df4 = df_dropna[['Purpose', 'Attack_Skill', 'Result']]\n",
    "df4['cluster'] = clusters\n",
    "df4"
   ]
  },
  {
   "cell_type": "code",
   "execution_count": null,
   "metadata": {
    "scrolled": true
   },
   "outputs": [],
   "source": [
    "df4['cluster'].value_counts()"
   ]
  },
  {
   "cell_type": "code",
   "execution_count": null,
   "metadata": {
    "scrolled": false
   },
   "outputs": [],
   "source": [
    "df4[df4['cluster']==0].drop_duplicates()"
   ]
  },
  {
   "cell_type": "code",
   "execution_count": null,
   "metadata": {},
   "outputs": [],
   "source": [
    "# 데이터 값\n",
    "cluster1 = df4[df4['cluster']==1].drop_duplicates()\n",
    "cluster1"
   ]
  },
  {
   "cell_type": "code",
   "execution_count": null,
   "metadata": {},
   "outputs": [],
   "source": [
    "# 데이터 값\n",
    "cluster0 = df4[df4['cluster']==0].drop_duplicates()\n",
    "cluster0"
   ]
  },
  {
   "cell_type": "code",
   "execution_count": null,
   "metadata": {},
   "outputs": [],
   "source": [
    "## 클러스터 평가: 실루엣 계수\n",
    "# 실루엣 분석\n",
    "from sklearn.metrics import silhouette_samples, silhouette_score\n",
    "\n",
    "# 실루엣 계수\n",
    "silhouette_score(df3, df4['cluster'])"
   ]
  },
  {
   "cell_type": "code",
   "execution_count": null,
   "metadata": {},
   "outputs": [],
   "source": [
    "score = silhouette_score(df3, df4['cluster'])\n",
    "score"
   ]
  },
  {
   "cell_type": "code",
   "execution_count": null,
   "metadata": {},
   "outputs": [],
   "source": []
  },
  {
   "cell_type": "code",
   "execution_count": null,
   "metadata": {},
   "outputs": [],
   "source": []
  },
  {
   "cell_type": "code",
   "execution_count": null,
   "metadata": {},
   "outputs": [],
   "source": []
  },
  {
   "cell_type": "code",
   "execution_count": null,
   "metadata": {},
   "outputs": [],
   "source": []
  },
  {
   "cell_type": "code",
   "execution_count": null,
   "metadata": {},
   "outputs": [],
   "source": []
  },
  {
   "cell_type": "markdown",
   "metadata": {},
   "source": [
    "### 방법3. H Clust\n",
    "계층적 군집분석\n",
    "1. 데이터 간 거리 계산\n",
    "2. 덴드로그램 시각화\n",
    "3. 덴드로그램으로 적절한 클러스터 개수 찾기\n",
    "4. Cluster로 Agglomerative Clustering까지 활용\n",
    "\n",
    "\n",
    "참고자료\n",
    "1. https://todayisbetterthanyesterday.tistory.com/61\n",
    "2. https://tobigs.gitbook.io/tobigs/data-analysis/undefined-3/python-2-2#pca\n",
    "3. https://tobigs.gitbook.io/tobigs/data-analysis/undefined-3/python-2-1#1-hierarchical-clustering"
   ]
  },
  {
   "cell_type": "code",
   "execution_count": null,
   "metadata": {},
   "outputs": [],
   "source": [
    "from scipy.cluster.hierarchy import dendrogram, linkage, ward\n",
    "\n",
    "## X 변수 준비\n",
    "# 더미변수화한 X\n",
    "x_1 = df2_dummy.values\n",
    "\n",
    "# 숫자 형태로 변환한 X\n",
    "x_2 = df3.values\n",
    "\n",
    "\n",
    "## 거리 계산\n",
    "# linked = linkage(x_1, 'ward')\n",
    "linkage_array = ward(x_1)\n",
    "\n",
    "\n",
    "## 덴드로그램\n",
    "dendrogram(linkage_array)\n",
    "plt.xlabel(\"Case Num\")\n",
    "plt.ylabel(\"Cluster Dist\")\n",
    "\n",
    "# 클러스터 구분하는 커트라인 표시\n",
    "ax = plt.gca()\n",
    "bounds = ax.get_xbound()\n",
    "ax.plot(bounds, [11, 11], '--', c='k')\n",
    "ax.plot(bounds, [9, 9], '--', c='k')\n",
    "ax.text(bounds[1], 11, ' 3 Clusters ', va='center', fontdict={'size': 10})\n",
    "ax.text(bounds[1], 9, ' 5 Clusters ', va='center', fontdict={'size': 10})\n",
    "# plt.figure(figsize=(20,30))\n",
    "plt.title(\"Dendrogram\")\n",
    "plt.show()"
   ]
  },
  {
   "cell_type": "code",
   "execution_count": null,
   "metadata": {},
   "outputs": [],
   "source": [
    "## 거리 계산\n",
    "# linked = linkage(x_1, 'ward')\n",
    "linkage_array = ward(x_2)\n",
    "\n",
    "\n",
    "## 덴드로그램\n",
    "dendrogram(linkage_array)\n",
    "plt.xlabel(\"Case Num\")\n",
    "plt.ylabel(\"Cluster Dist\")\n",
    "\n",
    "# 클러스터 구분하는 커트라인 표시\n",
    "ax = plt.gca()\n",
    "bounds = ax.get_xbound()\n",
    "ax.plot(bounds, [50, 50], '--', c='k')\n",
    "ax.plot(bounds, [30, 30], '--', c='k')\n",
    "ax.text(bounds[1], 50, ' 4 Clusters ', va='center', fontdict={'size': 10})\n",
    "ax.text(bounds[1], 30, ' 6 Clusters ', va='center', fontdict={'size': 10})\n",
    "# plt.figure(figsize=(20,30))\n",
    "plt.figure(figsize=(40,50))\n",
    "plt.show()"
   ]
  },
  {
   "cell_type": "code",
   "execution_count": null,
   "metadata": {},
   "outputs": [],
   "source": [
    "# 5 Cluster로 군집화\n",
    "from sklearn.cluster import AgglomerativeClustering\n",
    "agg_cluster = AgglomerativeClustering(n_clusters=5, linkage='ward')\n",
    "cluster = agg_cluster.fit_predict(x_1)\n",
    "cluster"
   ]
  },
  {
   "cell_type": "code",
   "execution_count": null,
   "metadata": {},
   "outputs": [],
   "source": [
    "df_agg = df_dropna[['Purpose', 'Attack_Skill', 'Result']]\n",
    "df_agg['cluster'] = cluster\n",
    "df_agg.cluster.value_counts()"
   ]
  },
  {
   "cell_type": "code",
   "execution_count": null,
   "metadata": {},
   "outputs": [],
   "source": [
    "# 실루엣 계수\n",
    "silhouette_score(x_1, df_agg['cluster'])"
   ]
  },
  {
   "cell_type": "code",
   "execution_count": null,
   "metadata": {},
   "outputs": [],
   "source": [
    "df_agg[df_agg['cluster']==2].drop_duplicates()"
   ]
  },
  {
   "cell_type": "code",
   "execution_count": null,
   "metadata": {},
   "outputs": [],
   "source": []
  },
  {
   "cell_type": "code",
   "execution_count": null,
   "metadata": {},
   "outputs": [],
   "source": []
  },
  {
   "cell_type": "code",
   "execution_count": null,
   "metadata": {},
   "outputs": [],
   "source": [
    "## x_2 로 군집분석\n",
    "agg_cluster2 = AgglomerativeClustering(n_clusters=4, linkage='ward')\n",
    "cluster = agg_cluster2.fit_predict(x_2)\n",
    "cluster\n",
    "silhouette_score(x_2, cluster)"
   ]
  },
  {
   "cell_type": "code",
   "execution_count": null,
   "metadata": {},
   "outputs": [],
   "source": [
    "df_agg2 = df_dropna[['Purpose', 'Attack_Skill', 'Result']]\n",
    "df_agg2['cluster']=cluster\n",
    "df_agg2.cluster.value_counts()"
   ]
  },
  {
   "cell_type": "code",
   "execution_count": null,
   "metadata": {},
   "outputs": [],
   "source": [
    "df_agg2[df_agg2['cluster']==2].drop_duplicates()"
   ]
  },
  {
   "cell_type": "code",
   "execution_count": null,
   "metadata": {},
   "outputs": [],
   "source": []
  },
  {
   "cell_type": "code",
   "execution_count": null,
   "metadata": {},
   "outputs": [],
   "source": []
  },
  {
   "cell_type": "markdown",
   "metadata": {},
   "source": [
    "# 코사인 유사도\n",
    "\"결과종합\" 변수로 케이스별 결과문장 유사도 측정\n",
    "=> 나중에 다시도전"
   ]
  },
  {
   "cell_type": "code",
   "execution_count": null,
   "metadata": {},
   "outputs": [],
   "source": [
    "# from konlpy.tag import okt\n",
    "from numpy import dot\n",
    "from numpy.linalg import norm\n",
    "from pprint import pprint"
   ]
  },
  {
   "cell_type": "code",
   "execution_count": null,
   "metadata": {},
   "outputs": [],
   "source": [
    "# 결과종합 데이터\n",
    "result_cos = df[['결과종합']]\n",
    "result_cos.head()"
   ]
  },
  {
   "cell_type": "code",
   "execution_count": null,
   "metadata": {},
   "outputs": [],
   "source": [
    "# 결측치 제거\n",
    "result_cos.dropna( axis=0, inplace=True)\n",
    "result_cos.isnull().value_counts()"
   ]
  },
  {
   "cell_type": "code",
   "execution_count": null,
   "metadata": {
    "scrolled": true
   },
   "outputs": [],
   "source": [
    "## 자연어 처리\n",
    "# 문자열 공백 제거\n",
    "result_cos = result_cos['결과종합'].str.replace(' ', '')\n",
    "print(result_cos)"
   ]
  },
  {
   "cell_type": "code",
   "execution_count": null,
   "metadata": {},
   "outputs": [],
   "source": [
    "# 값 확인\n",
    "print(result_cos[0],',', len(result_cos[0]))\n",
    "print(type(result_cos[0]))"
   ]
  },
  {
   "cell_type": "code",
   "execution_count": null,
   "metadata": {},
   "outputs": [],
   "source": [
    "\n",
    "set(result_cos)"
   ]
  },
  {
   "cell_type": "code",
   "execution_count": null,
   "metadata": {},
   "outputs": [],
   "source": []
  },
  {
   "cell_type": "code",
   "execution_count": null,
   "metadata": {},
   "outputs": [],
   "source": []
  },
  {
   "cell_type": "code",
   "execution_count": null,
   "metadata": {},
   "outputs": [],
   "source": []
  },
  {
   "cell_type": "code",
   "execution_count": null,
   "metadata": {},
   "outputs": [],
   "source": []
  },
  {
   "cell_type": "code",
   "execution_count": null,
   "metadata": {},
   "outputs": [],
   "source": []
  },
  {
   "cell_type": "code",
   "execution_count": null,
   "metadata": {},
   "outputs": [],
   "source": []
  },
  {
   "cell_type": "code",
   "execution_count": null,
   "metadata": {},
   "outputs": [],
   "source": []
  },
  {
   "cell_type": "code",
   "execution_count": null,
   "metadata": {},
   "outputs": [],
   "source": []
  },
  {
   "cell_type": "code",
   "execution_count": null,
   "metadata": {},
   "outputs": [],
   "source": []
  },
  {
   "cell_type": "code",
   "execution_count": null,
   "metadata": {},
   "outputs": [],
   "source": []
  },
  {
   "cell_type": "code",
   "execution_count": null,
   "metadata": {},
   "outputs": [],
   "source": []
  },
  {
   "cell_type": "code",
   "execution_count": null,
   "metadata": {},
   "outputs": [],
   "source": []
  },
  {
   "cell_type": "code",
   "execution_count": null,
   "metadata": {},
   "outputs": [],
   "source": []
  },
  {
   "cell_type": "code",
   "execution_count": null,
   "metadata": {},
   "outputs": [],
   "source": []
  }
 ],
 "metadata": {
  "kernelspec": {
   "display_name": "Python 3 (ipykernel)",
   "language": "python",
   "name": "python3"
  },
  "language_info": {
   "codemirror_mode": {
    "name": "ipython",
    "version": 3
   },
   "file_extension": ".py",
   "mimetype": "text/x-python",
   "name": "python",
   "nbconvert_exporter": "python",
   "pygments_lexer": "ipython3",
   "version": "3.7.11"
  }
 },
 "nbformat": 4,
 "nbformat_minor": 4
}
